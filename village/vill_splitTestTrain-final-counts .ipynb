{
 "cells": [
  {
   "cell_type": "code",
   "execution_count": 1,
   "metadata": {
    "collapsed": true
   },
   "outputs": [],
   "source": [
    "import pandas as pd"
   ]
  },
  {
   "cell_type": "code",
   "execution_count": 2,
   "metadata": {
    "collapsed": true
   },
   "outputs": [],
   "source": [
    "import numpy as np"
   ]
  },
  {
   "cell_type": "code",
   "execution_count": 3,
   "metadata": {
    "collapsed": true
   },
   "outputs": [],
   "source": [
    "import matplotlib.pyplot as plt"
   ]
  },
  {
   "cell_type": "code",
   "execution_count": 4,
   "metadata": {
    "collapsed": true,
    "scrolled": true
   },
   "outputs": [],
   "source": [
    "from random import choice"
   ]
  },
  {
   "cell_type": "code",
   "execution_count": 5,
   "metadata": {
    "collapsed": true
   },
   "outputs": [],
   "source": [
    "from random import shuffle"
   ]
  },
  {
   "cell_type": "code",
   "execution_count": 6,
   "metadata": {
    "collapsed": true
   },
   "outputs": [],
   "source": [
    "import csv"
   ]
  },
  {
   "cell_type": "code",
   "execution_count": 7,
   "metadata": {
    "collapsed": true
   },
   "outputs": [],
   "source": [
    "villCentroid = pd.read_csv('SelectedStatesVillagesCentroid.csv')"
   ]
  },
  {
   "cell_type": "code",
   "execution_count": 8,
   "metadata": {
    "collapsed": true,
    "scrolled": true
   },
   "outputs": [],
   "source": [
    "x_min = min(villCentroid['CentX'])\n",
    "x_max = max(villCentroid['CentX'])\n",
    "y_min = min(villCentroid['CentY'])\n",
    "y_max = max(villCentroid['CentY'])"
   ]
  },
  {
   "cell_type": "code",
   "execution_count": 9,
   "metadata": {
    "collapsed": true
   },
   "outputs": [],
   "source": [
    "n_r = 75\n",
    "n_c = 75"
   ]
  },
  {
   "cell_type": "code",
   "execution_count": 10,
   "metadata": {
    "collapsed": true
   },
   "outputs": [],
   "source": [
    "x_range = x_max-x_min\n",
    "y_range = y_max-y_min"
   ]
  },
  {
   "cell_type": "code",
   "execution_count": 11,
   "metadata": {
    "collapsed": true
   },
   "outputs": [],
   "source": [
    "### index to fit will be (col*n_r + row) if the 2d matrix is reperesented in 1d list form"
   ]
  },
  {
   "cell_type": "code",
   "execution_count": 12,
   "metadata": {
    "collapsed": true
   },
   "outputs": [],
   "source": [
    "## creating new id which is unique for all villages \n",
    "villCentroid['UID'] = range(len(villCentroid))"
   ]
  },
  {
   "cell_type": "code",
   "execution_count": 13,
   "metadata": {
    "collapsed": true
   },
   "outputs": [],
   "source": [
    "villCentroid.to_csv('villCentroidUID.csv')"
   ]
  },
  {
   "cell_type": "code",
   "execution_count": 14,
   "metadata": {
    "scrolled": true
   },
   "outputs": [],
   "source": [
    "cell_length = x_range/((n_c-1)*1.0)\n",
    "cell_height = y_range/((n_r-1)*1.0)\n",
    "\n",
    "sorted_villList =  [[] for i in range(n_c*n_r)]\n",
    "vill_gridNo = [0]*len(villCentroid)\n",
    "for i in range(len(villCentroid)):\n",
    "    y = villCentroid['CentY'][i:i+1].values[0].astype(float)\n",
    "    x = villCentroid['CentX'][i:i+1].values[0].astype(float)\n",
    "    #vill_code11 = villCentroid['village_code_2011'][i:i+1].values[0].astype(float)\n",
    "    vill_codeUID = villCentroid['UID'][i:i+1].values[0].astype(float)\n",
    "    \n",
    "    c = int((x-x_min)/cell_length)\n",
    "    r = int((y-y_min)/cell_height)\n",
    "    \n",
    "    idx = c*n_r + r\n",
    "    vill_gridNo[i] = idx\n",
    "    sorted_villList[idx].append(vill_codeUID)"
   ]
  },
  {
   "cell_type": "code",
   "execution_count": 15,
   "metadata": {
    "collapsed": true
   },
   "outputs": [],
   "source": [
    "## now lets work on splitting it up in Train:CV:Test\n",
    "train= 50\n",
    "cv = 30\n",
    "test = 20"
   ]
  },
  {
   "cell_type": "code",
   "execution_count": 16,
   "metadata": {
    "collapsed": true
   },
   "outputs": [],
   "source": [
    "sparse_vills = []\n",
    "Train_vills = []\n",
    "CV_vills = []\n",
    "Test_vills = []\n",
    "for vill_list in sorted_villList:\n",
    "    if len(vill_list) < 10:\n",
    "        sparse_vills.extend(vill_list)\n",
    "        continue\n",
    "        \n",
    "    shuffle(vill_list)\n",
    "    lenTrain = int(round(train/100.0*len(vill_list)))\n",
    "    lenCV = int(round(cv/100.0*len(vill_list)))\n",
    "    Train_vills.extend(vill_list[:lenTrain])\n",
    "    CV_vills.extend(vill_list[lenTrain:lenTrain+lenCV])\n",
    "    Test_vills.extend(vill_list[lenTrain+lenCV:])\n",
    "\n",
    "## now splitting the sparse_vills list and adding it to train,cv and test sets\n",
    "lenTrain = int(round(train/100.0*len(sparse_vills)))\n",
    "lenCV = int(round(cv/100.0*len(sparse_vills)))\n",
    "Train_vills.extend(sparse_vills[:lenTrain])\n",
    "CV_vills.extend(sparse_vills[lenTrain:lenTrain+lenCV])\n",
    "Test_vills.extend(sparse_vills[lenTrain+lenCV:])"
   ]
  },
  {
   "cell_type": "code",
   "execution_count": 17,
   "metadata": {
    "collapsed": true
   },
   "outputs": [],
   "source": [
    "df_trainVills = pd.DataFrame(Train_vills)\n",
    "df_trainVills.to_csv('Train_vills.csv','w',index=False,header=False)\n",
    "\n",
    "df_cvVills = pd.DataFrame(CV_vills)\n",
    "df_cvVills.to_csv('CV_vills.csv','w',index=False,header=False)\n",
    "\n",
    "df_testVills =pd.DataFrame(Test_vills)\n",
    "df_trainVills.to_csv('Test_vills.csv','w',index=False,header=False)"
   ]
  },
  {
   "cell_type": "code",
   "execution_count": 18,
   "metadata": {
    "collapsed": true
   },
   "outputs": [],
   "source": [
    "del villCentroid['Unnamed: 0']"
   ]
  },
  {
   "cell_type": "code",
   "execution_count": 19,
   "metadata": {
    "collapsed": true
   },
   "outputs": [],
   "source": [
    "vill = pd.read_csv('Vill.csv')"
   ]
  },
  {
   "cell_type": "code",
   "execution_count": 20,
   "metadata": {},
   "outputs": [
    {
     "data": {
      "text/html": [
       "<div>\n",
       "<style>\n",
       "    .dataframe thead tr:only-child th {\n",
       "        text-align: right;\n",
       "    }\n",
       "\n",
       "    .dataframe thead th {\n",
       "        text-align: left;\n",
       "    }\n",
       "\n",
       "    .dataframe tbody tr th {\n",
       "        vertical-align: top;\n",
       "    }\n",
       "</style>\n",
       "<table border=\"1\" class=\"dataframe\">\n",
       "  <thead>\n",
       "    <tr style=\"text-align: right;\">\n",
       "      <th></th>\n",
       "      <th>ID</th>\n",
       "      <th>village_code_2011</th>\n",
       "      <th>village_code_2001</th>\n",
       "      <th>CentX</th>\n",
       "      <th>CentY</th>\n",
       "      <th>UID</th>\n",
       "    </tr>\n",
       "  </thead>\n",
       "  <tbody>\n",
       "    <tr>\n",
       "      <th>0</th>\n",
       "      <td>BR-0</td>\n",
       "      <td>215990</td>\n",
       "      <td>200.0</td>\n",
       "      <td>83.923688</td>\n",
       "      <td>27.421459</td>\n",
       "      <td>0</td>\n",
       "    </tr>\n",
       "    <tr>\n",
       "      <th>1</th>\n",
       "      <td>BR-1</td>\n",
       "      <td>215989</td>\n",
       "      <td>100.0</td>\n",
       "      <td>83.937193</td>\n",
       "      <td>27.437632</td>\n",
       "      <td>1</td>\n",
       "    </tr>\n",
       "    <tr>\n",
       "      <th>2</th>\n",
       "      <td>BR-2</td>\n",
       "      <td>215991</td>\n",
       "      <td>300.0</td>\n",
       "      <td>83.875222</td>\n",
       "      <td>27.417117</td>\n",
       "      <td>2</td>\n",
       "    </tr>\n",
       "  </tbody>\n",
       "</table>\n",
       "</div>"
      ],
      "text/plain": [
       "     ID  village_code_2011  village_code_2001      CentX      CentY  UID\n",
       "0  BR-0             215990              200.0  83.923688  27.421459    0\n",
       "1  BR-1             215989              100.0  83.937193  27.437632    1\n",
       "2  BR-2             215991              300.0  83.875222  27.417117    2"
      ]
     },
     "execution_count": 20,
     "metadata": {},
     "output_type": "execute_result"
    }
   ],
   "source": [
    "villCentroid.head(3)"
   ]
  },
  {
   "cell_type": "code",
   "execution_count": 21,
   "metadata": {
    "collapsed": true
   },
   "outputs": [],
   "source": [
    "df_vill = vill.merge(villCentroid[['UID','village_code_2011']],left_on='Town/Village',right_on='village_code_2011',how='inner')"
   ]
  },
  {
   "cell_type": "code",
   "execution_count": 22,
   "metadata": {
    "collapsed": true
   },
   "outputs": [],
   "source": [
    "del df_vill['Unnamed: 0']\n",
    "del df_vill['Unnamed: 0.1']"
   ]
  },
  {
   "cell_type": "code",
   "execution_count": 23,
   "metadata": {
    "collapsed": true
   },
   "outputs": [],
   "source": [
    "df_vill.to_csv('Vill_Uid.csv')"
   ]
  },
  {
   "cell_type": "code",
   "execution_count": 24,
   "metadata": {
    "collapsed": true
   },
   "outputs": [],
   "source": [
    "df_trainVills['set_type'] = ['train' for i in range(len(df_trainVills))]"
   ]
  },
  {
   "cell_type": "code",
   "execution_count": 25,
   "metadata": {
    "collapsed": true
   },
   "outputs": [],
   "source": [
    "df_testVills['set_type'] = ['test' for i in range(len(df_testVills))]"
   ]
  },
  {
   "cell_type": "code",
   "execution_count": 26,
   "metadata": {
    "collapsed": true
   },
   "outputs": [],
   "source": [
    "df_cvVills['set_type'] = ['CV' for i in range(len(df_cvVills))]"
   ]
  },
  {
   "cell_type": "code",
   "execution_count": 27,
   "metadata": {
    "collapsed": true
   },
   "outputs": [],
   "source": [
    "df_allSets = pd.concat([df_trainVills,df_cvVills,df_testVills])"
   ]
  },
  {
   "cell_type": "code",
   "execution_count": 28,
   "metadata": {
    "collapsed": true
   },
   "outputs": [],
   "source": [
    "df_allSets.columns = ['UID','set_type']"
   ]
  },
  {
   "cell_type": "code",
   "execution_count": 29,
   "metadata": {
    "collapsed": true
   },
   "outputs": [],
   "source": [
    "df_vill = df_vill.merge(df_allSets,left_on='UID',right_on='UID',how='inner')"
   ]
  },
  {
   "cell_type": "code",
   "execution_count": 30,
   "metadata": {
    "collapsed": true
   },
   "outputs": [],
   "source": [
    "del df_vill['Town/Village']"
   ]
  },
  {
   "cell_type": "code",
   "execution_count": 31,
   "metadata": {
    "collapsed": true
   },
   "outputs": [],
   "source": [
    "df_vill.to_csv('vill_setType.csv')"
   ]
  },
  {
   "cell_type": "code",
   "execution_count": 32,
   "metadata": {},
   "outputs": [
    {
     "data": {
      "text/html": [
       "<div>\n",
       "<style>\n",
       "    .dataframe thead tr:only-child th {\n",
       "        text-align: right;\n",
       "    }\n",
       "\n",
       "    .dataframe thead th {\n",
       "        text-align: left;\n",
       "    }\n",
       "\n",
       "    .dataframe tbody tr th {\n",
       "        vertical-align: top;\n",
       "    }\n",
       "</style>\n",
       "<table border=\"1\" class=\"dataframe\">\n",
       "  <thead>\n",
       "    <tr style=\"text-align: right;\">\n",
       "      <th></th>\n",
       "      <th>State</th>\n",
       "      <th>District</th>\n",
       "      <th>Subdistt</th>\n",
       "      <th>Ward</th>\n",
       "      <th>EB</th>\n",
       "      <th>Level</th>\n",
       "      <th>Name</th>\n",
       "      <th>TRU</th>\n",
       "      <th>ELG_POP</th>\n",
       "      <th>No_HH</th>\n",
       "      <th>...</th>\n",
       "      <th>District_HHD_Cluster_CHH</th>\n",
       "      <th>Village_HHD_Cluster_FC</th>\n",
       "      <th>District_HHD_Cluster_FC</th>\n",
       "      <th>Village_HHD_Cluster_BF</th>\n",
       "      <th>District_HHD_Cluster_BF</th>\n",
       "      <th>Village_HHD_Cluster_EMP</th>\n",
       "      <th>District_HHD_Cluster_EMP</th>\n",
       "      <th>UID</th>\n",
       "      <th>village_code_2011</th>\n",
       "      <th>set_type</th>\n",
       "    </tr>\n",
       "  </thead>\n",
       "  <tbody>\n",
       "    <tr>\n",
       "      <th>0</th>\n",
       "      <td>10</td>\n",
       "      <td>203</td>\n",
       "      <td>1013</td>\n",
       "      <td>0</td>\n",
       "      <td>0</td>\n",
       "      <td>VILLAGE</td>\n",
       "      <td>Bhaisalotan</td>\n",
       "      <td>Rural</td>\n",
       "      <td>9046</td>\n",
       "      <td>1954</td>\n",
       "      <td>...</td>\n",
       "      <td>3. Developed</td>\n",
       "      <td>1. Under-Developed</td>\n",
       "      <td>2. Moderately-Developed</td>\n",
       "      <td>1. Under-Developed</td>\n",
       "      <td>1. Under-Developed</td>\n",
       "      <td>1. High Unemployement</td>\n",
       "      <td>1. High Unemployement</td>\n",
       "      <td>0</td>\n",
       "      <td>215990</td>\n",
       "      <td>train</td>\n",
       "    </tr>\n",
       "    <tr>\n",
       "      <th>1</th>\n",
       "      <td>10</td>\n",
       "      <td>203</td>\n",
       "      <td>1013</td>\n",
       "      <td>0</td>\n",
       "      <td>0</td>\n",
       "      <td>VILLAGE</td>\n",
       "      <td>Tharhi</td>\n",
       "      <td>Rural</td>\n",
       "      <td>2174</td>\n",
       "      <td>482</td>\n",
       "      <td>...</td>\n",
       "      <td>3. Developed</td>\n",
       "      <td>1. Under-Developed</td>\n",
       "      <td>2. Moderately-Developed</td>\n",
       "      <td>1. Under-Developed</td>\n",
       "      <td>1. Under-Developed</td>\n",
       "      <td>2. High AL</td>\n",
       "      <td>1. High Unemployement</td>\n",
       "      <td>2</td>\n",
       "      <td>215991</td>\n",
       "      <td>test</td>\n",
       "    </tr>\n",
       "    <tr>\n",
       "      <th>2</th>\n",
       "      <td>10</td>\n",
       "      <td>203</td>\n",
       "      <td>1013</td>\n",
       "      <td>0</td>\n",
       "      <td>0</td>\n",
       "      <td>VILLAGE</td>\n",
       "      <td>Pipra</td>\n",
       "      <td>Rural</td>\n",
       "      <td>1459</td>\n",
       "      <td>319</td>\n",
       "      <td>...</td>\n",
       "      <td>3. Developed</td>\n",
       "      <td>1. Under-Developed</td>\n",
       "      <td>2. Moderately-Developed</td>\n",
       "      <td>1. Under-Developed</td>\n",
       "      <td>1. Under-Developed</td>\n",
       "      <td>2. High AL</td>\n",
       "      <td>1. High Unemployement</td>\n",
       "      <td>5</td>\n",
       "      <td>215992</td>\n",
       "      <td>test</td>\n",
       "    </tr>\n",
       "  </tbody>\n",
       "</table>\n",
       "<p>3 rows × 43 columns</p>\n",
       "</div>"
      ],
      "text/plain": [
       "   State  District  Subdistt  Ward  EB    Level         Name    TRU  ELG_POP  \\\n",
       "0     10       203      1013     0   0  VILLAGE  Bhaisalotan  Rural     9046   \n",
       "1     10       203      1013     0   0  VILLAGE       Tharhi  Rural     2174   \n",
       "2     10       203      1013     0   0  VILLAGE        Pipra  Rural     1459   \n",
       "\n",
       "   No_HH    ...     District_HHD_Cluster_CHH  Village_HHD_Cluster_FC  \\\n",
       "0   1954    ...                 3. Developed      1. Under-Developed   \n",
       "1    482    ...                 3. Developed      1. Under-Developed   \n",
       "2    319    ...                 3. Developed      1. Under-Developed   \n",
       "\n",
       "   District_HHD_Cluster_FC  Village_HHD_Cluster_BF  District_HHD_Cluster_BF  \\\n",
       "0  2. Moderately-Developed      1. Under-Developed       1. Under-Developed   \n",
       "1  2. Moderately-Developed      1. Under-Developed       1. Under-Developed   \n",
       "2  2. Moderately-Developed      1. Under-Developed       1. Under-Developed   \n",
       "\n",
       "   Village_HHD_Cluster_EMP  District_HHD_Cluster_EMP  UID  village_code_2011  \\\n",
       "0    1. High Unemployement     1. High Unemployement    0             215990   \n",
       "1               2. High AL     1. High Unemployement    2             215991   \n",
       "2               2. High AL     1. High Unemployement    5             215992   \n",
       "\n",
       "   set_type  \n",
       "0     train  \n",
       "1      test  \n",
       "2      test  \n",
       "\n",
       "[3 rows x 43 columns]"
      ]
     },
     "execution_count": 32,
     "metadata": {},
     "output_type": "execute_result"
    }
   ],
   "source": [
    "df_vill.head(3)"
   ]
  },
  {
   "cell_type": "code",
   "execution_count": 33,
   "metadata": {
    "collapsed": true
   },
   "outputs": [],
   "source": [
    "vill_labels = ['Village_HHD_Cluster_MSL',\n",
    "'Village_HHD_Cluster_MSW',\n",
    "'Village_HHD_Cluster_CHH',\n",
    "'Village_HHD_Cluster_FC',\n",
    "'Village_HHD_Cluster_BF',\n",
    "'Village_HHD_Cluster_EMP']"
   ]
  },
  {
   "cell_type": "code",
   "execution_count": 34,
   "metadata": {
    "collapsed": true
   },
   "outputs": [],
   "source": [
    "def percConvert(ser):\n",
    "    return ser/float(ser[-1])"
   ]
  },
  {
   "cell_type": "code",
   "execution_count": 35,
   "metadata": {},
   "outputs": [
    {
     "name": "stdout",
     "output_type": "stream",
     "text": [
      "Village_HHD_Cluster_MSL  1. Under-Developed  2. Moderately-Developed  \\\n",
      "set_type                                                               \n",
      "CV                                 0.347836                 0.216024   \n",
      "test                               0.349139                 0.218714   \n",
      "train                              0.345755                 0.218360   \n",
      "All                                0.347050                 0.217728   \n",
      "\n",
      "Village_HHD_Cluster_MSL  3. Developed  All  \n",
      "set_type                                    \n",
      "CV                           0.436139  1.0  \n",
      "test                         0.432147  1.0  \n",
      "train                        0.435885  1.0  \n",
      "All                          0.435222  1.0  \n",
      "Village_HHD_Cluster_MSW  1. Under-Developed  2. Moderately-Developed  \\\n",
      "set_type                                                               \n",
      "CV                                 0.208821                 0.502217   \n",
      "test                               0.206089                 0.506408   \n",
      "train                              0.207536                 0.502804   \n",
      "All                                0.207636                 0.503340   \n",
      "\n",
      "Village_HHD_Cluster_MSW  3. Developed  All  \n",
      "set_type                                    \n",
      "CV                           0.288962  1.0  \n",
      "test                         0.287502  1.0  \n",
      "train                        0.289661  1.0  \n",
      "All                          0.289024  1.0  \n",
      "Village_HHD_Cluster_CHH  1. Under-Developed  2. Under-Developed+  \\\n",
      "set_type                                                           \n",
      "CV                                 0.255443             0.346280   \n",
      "test                               0.253699             0.347681   \n",
      "train                              0.257633             0.344562   \n",
      "All                                0.256197             0.345696   \n",
      "\n",
      "Village_HHD_Cluster_CHH  3. Developed-  4. Developed  All  \n",
      "set_type                                                   \n",
      "CV                            0.321792      0.076485  1.0  \n",
      "test                          0.320122      0.078497  1.0  \n",
      "train                         0.322187      0.075617  1.0  \n",
      "All                           0.321660      0.076448  1.0  \n",
      "Village_HHD_Cluster_FC  1. Under-Developed  2. Moderately-Developed  \\\n",
      "set_type                                                              \n",
      "CV                                0.682388                 0.252258   \n",
      "test                              0.682133                 0.253149   \n",
      "train                             0.685513                 0.249238   \n",
      "All                               0.683905                 0.250919   \n",
      "\n",
      "Village_HHD_Cluster_FC  3. Developed  All  \n",
      "set_type                                   \n",
      "CV                          0.065354  1.0  \n",
      "test                        0.064718  1.0  \n",
      "train                       0.065249  1.0  \n",
      "All                         0.065175  1.0  \n",
      "Village_HHD_Cluster_BF  1. Under-Developed  2. Moderately-Developed  \\\n",
      "set_type                                                              \n",
      "CV                                0.796445                 0.088212   \n",
      "test                              0.800704                 0.087051   \n",
      "train                             0.797443                 0.087721   \n",
      "All                               0.797788                 0.087736   \n",
      "\n",
      "Village_HHD_Cluster_BF  3. Developed  All  \n",
      "set_type                                   \n",
      "CV                          0.115342  1.0  \n",
      "test                        0.112245  1.0  \n",
      "train                       0.114836  1.0  \n",
      "All                         0.114476  1.0  \n",
      "Village_HHD_Cluster_EMP  1. High Unemployement  2. High AL  3. High Non-AL  \\\n",
      "set_type                                                                     \n",
      "CV                                    0.437388    0.461061        0.101551   \n",
      "test                                  0.437895    0.459404        0.102701   \n",
      "train                                 0.436828    0.460819        0.102352   \n",
      "All                                   0.437208    0.460612        0.102180   \n",
      "\n",
      "Village_HHD_Cluster_EMP  All  \n",
      "set_type                      \n",
      "CV                       1.0  \n",
      "test                     1.0  \n",
      "train                    1.0  \n",
      "All                      1.0  \n"
     ]
    }
   ],
   "source": [
    "df_split_dist = pd.DataFrame()\n",
    "for label in vill_labels:\n",
    "    print (pd.crosstab(df_vill['set_type'],df_vill[label],margins=True).apply(percConvert, axis=1))"
   ]
  },
  {
   "cell_type": "code",
   "execution_count": 38,
   "metadata": {},
   "outputs": [],
   "source": [
    "df =pd.crosstab(df_vill['set_type'],df_vill[label],margins=True).apply(percConvert, axis=1)"
   ]
  },
  {
   "cell_type": "code",
   "execution_count": 40,
   "metadata": {},
   "outputs": [
    {
     "ename": "ValueError",
     "evalue": "No group keys passed!",
     "output_type": "error",
     "traceback": [
      "\u001b[0;31m---------------------------------------------------------------------------\u001b[0m",
      "\u001b[0;31mValueError\u001b[0m                                Traceback (most recent call last)",
      "\u001b[0;32m<ipython-input-40-48ad4bb916f4>\u001b[0m in \u001b[0;36m<module>\u001b[0;34m()\u001b[0m\n\u001b[0;32m----> 1\u001b[0;31m \u001b[0mpd\u001b[0m\u001b[0;34m.\u001b[0m\u001b[0mpivot_table\u001b[0m\u001b[0;34m(\u001b[0m\u001b[0mdf\u001b[0m\u001b[0;34m,\u001b[0m\u001b[0mdf\u001b[0m\u001b[0;34m)\u001b[0m\u001b[0;34m\u001b[0m\u001b[0m\n\u001b[0m",
      "\u001b[0;32m/home/deva/anaconda2/lib/python2.7/site-packages/pandas/core/reshape/pivot.pyc\u001b[0m in \u001b[0;36mpivot_table\u001b[0;34m(data, values, index, columns, aggfunc, fill_value, margins, dropna, margins_name)\u001b[0m\n\u001b[1;32m    133\u001b[0m         \u001b[0mvalues\u001b[0m \u001b[0;34m=\u001b[0m \u001b[0mlist\u001b[0m\u001b[0;34m(\u001b[0m\u001b[0mvalues\u001b[0m\u001b[0;34m)\u001b[0m\u001b[0;34m\u001b[0m\u001b[0m\n\u001b[1;32m    134\u001b[0m \u001b[0;34m\u001b[0m\u001b[0m\n\u001b[0;32m--> 135\u001b[0;31m     \u001b[0mgrouped\u001b[0m \u001b[0;34m=\u001b[0m \u001b[0mdata\u001b[0m\u001b[0;34m.\u001b[0m\u001b[0mgroupby\u001b[0m\u001b[0;34m(\u001b[0m\u001b[0mkeys\u001b[0m\u001b[0;34m)\u001b[0m\u001b[0;34m\u001b[0m\u001b[0m\n\u001b[0m\u001b[1;32m    136\u001b[0m     \u001b[0magged\u001b[0m \u001b[0;34m=\u001b[0m \u001b[0mgrouped\u001b[0m\u001b[0;34m.\u001b[0m\u001b[0magg\u001b[0m\u001b[0;34m(\u001b[0m\u001b[0maggfunc\u001b[0m\u001b[0;34m)\u001b[0m\u001b[0;34m\u001b[0m\u001b[0m\n\u001b[1;32m    137\u001b[0m \u001b[0;34m\u001b[0m\u001b[0m\n",
      "\u001b[0;32m/home/deva/anaconda2/lib/python2.7/site-packages/pandas/core/generic.pyc\u001b[0m in \u001b[0;36mgroupby\u001b[0;34m(self, by, axis, level, as_index, sort, group_keys, squeeze, **kwargs)\u001b[0m\n\u001b[1;32m   4414\u001b[0m         return groupby(self, by=by, axis=axis, level=level, as_index=as_index,\n\u001b[1;32m   4415\u001b[0m                        \u001b[0msort\u001b[0m\u001b[0;34m=\u001b[0m\u001b[0msort\u001b[0m\u001b[0;34m,\u001b[0m \u001b[0mgroup_keys\u001b[0m\u001b[0;34m=\u001b[0m\u001b[0mgroup_keys\u001b[0m\u001b[0;34m,\u001b[0m \u001b[0msqueeze\u001b[0m\u001b[0;34m=\u001b[0m\u001b[0msqueeze\u001b[0m\u001b[0;34m,\u001b[0m\u001b[0;34m\u001b[0m\u001b[0m\n\u001b[0;32m-> 4416\u001b[0;31m                        **kwargs)\n\u001b[0m\u001b[1;32m   4417\u001b[0m \u001b[0;34m\u001b[0m\u001b[0m\n\u001b[1;32m   4418\u001b[0m     def asfreq(self, freq, method=None, how=None, normalize=False,\n",
      "\u001b[0;32m/home/deva/anaconda2/lib/python2.7/site-packages/pandas/core/groupby.pyc\u001b[0m in \u001b[0;36mgroupby\u001b[0;34m(obj, by, **kwds)\u001b[0m\n\u001b[1;32m   1697\u001b[0m         \u001b[0;32mraise\u001b[0m \u001b[0mTypeError\u001b[0m\u001b[0;34m(\u001b[0m\u001b[0;34m'invalid type: %s'\u001b[0m \u001b[0;34m%\u001b[0m \u001b[0mtype\u001b[0m\u001b[0;34m(\u001b[0m\u001b[0mobj\u001b[0m\u001b[0;34m)\u001b[0m\u001b[0;34m)\u001b[0m\u001b[0;34m\u001b[0m\u001b[0m\n\u001b[1;32m   1698\u001b[0m \u001b[0;34m\u001b[0m\u001b[0m\n\u001b[0;32m-> 1699\u001b[0;31m     \u001b[0;32mreturn\u001b[0m \u001b[0mklass\u001b[0m\u001b[0;34m(\u001b[0m\u001b[0mobj\u001b[0m\u001b[0;34m,\u001b[0m \u001b[0mby\u001b[0m\u001b[0;34m,\u001b[0m \u001b[0;34m**\u001b[0m\u001b[0mkwds\u001b[0m\u001b[0;34m)\u001b[0m\u001b[0;34m\u001b[0m\u001b[0m\n\u001b[0m\u001b[1;32m   1700\u001b[0m \u001b[0;34m\u001b[0m\u001b[0m\n\u001b[1;32m   1701\u001b[0m \u001b[0;34m\u001b[0m\u001b[0m\n",
      "\u001b[0;32m/home/deva/anaconda2/lib/python2.7/site-packages/pandas/core/groupby.pyc\u001b[0m in \u001b[0;36m__init__\u001b[0;34m(self, obj, keys, axis, level, grouper, exclusions, selection, as_index, sort, group_keys, squeeze, **kwargs)\u001b[0m\n\u001b[1;32m    390\u001b[0m                                                     \u001b[0mlevel\u001b[0m\u001b[0;34m=\u001b[0m\u001b[0mlevel\u001b[0m\u001b[0;34m,\u001b[0m\u001b[0;34m\u001b[0m\u001b[0m\n\u001b[1;32m    391\u001b[0m                                                     \u001b[0msort\u001b[0m\u001b[0;34m=\u001b[0m\u001b[0msort\u001b[0m\u001b[0;34m,\u001b[0m\u001b[0;34m\u001b[0m\u001b[0m\n\u001b[0;32m--> 392\u001b[0;31m                                                     mutated=self.mutated)\n\u001b[0m\u001b[1;32m    393\u001b[0m \u001b[0;34m\u001b[0m\u001b[0m\n\u001b[1;32m    394\u001b[0m         \u001b[0mself\u001b[0m\u001b[0;34m.\u001b[0m\u001b[0mobj\u001b[0m \u001b[0;34m=\u001b[0m \u001b[0mobj\u001b[0m\u001b[0;34m\u001b[0m\u001b[0m\n",
      "\u001b[0;32m/home/deva/anaconda2/lib/python2.7/site-packages/pandas/core/groupby.pyc\u001b[0m in \u001b[0;36m_get_grouper\u001b[0;34m(obj, key, axis, level, sort, mutated)\u001b[0m\n\u001b[1;32m   2714\u001b[0m \u001b[0;34m\u001b[0m\u001b[0m\n\u001b[1;32m   2715\u001b[0m     \u001b[0;32mif\u001b[0m \u001b[0mlen\u001b[0m\u001b[0;34m(\u001b[0m\u001b[0mgroupings\u001b[0m\u001b[0;34m)\u001b[0m \u001b[0;34m==\u001b[0m \u001b[0;36m0\u001b[0m\u001b[0;34m:\u001b[0m\u001b[0;34m\u001b[0m\u001b[0m\n\u001b[0;32m-> 2716\u001b[0;31m         \u001b[0;32mraise\u001b[0m \u001b[0mValueError\u001b[0m\u001b[0;34m(\u001b[0m\u001b[0;34m'No group keys passed!'\u001b[0m\u001b[0;34m)\u001b[0m\u001b[0;34m\u001b[0m\u001b[0m\n\u001b[0m\u001b[1;32m   2717\u001b[0m \u001b[0;34m\u001b[0m\u001b[0m\n\u001b[1;32m   2718\u001b[0m     \u001b[0;31m# create the internals grouper\u001b[0m\u001b[0;34m\u001b[0m\u001b[0;34m\u001b[0m\u001b[0m\n",
      "\u001b[0;31mValueError\u001b[0m: No group keys passed!"
     ]
    }
   ],
   "source": [
    "pd.pivot_table(df,df)"
   ]
  },
  {
   "cell_type": "code",
   "execution_count": null,
   "metadata": {
    "collapsed": true
   },
   "outputs": [],
   "source": [
    "df_vill.head()\n",
    "del df_vill['count']"
   ]
  },
  {
   "cell_type": "code",
   "execution_count": null,
   "metadata": {},
   "outputs": [],
   "source": [
    "df_vill.head()"
   ]
  },
  {
   "cell_type": "code",
   "execution_count": null,
   "metadata": {
    "collapsed": true
   },
   "outputs": [],
   "source": [
    "vill_train = df[df_vill['set_type'] == 'train']\n",
    "vill_train.to_csv('vill_train.csv')"
   ]
  },
  {
   "cell_type": "code",
   "execution_count": null,
   "metadata": {
    "collapsed": true
   },
   "outputs": [],
   "source": [
    "vill_test = df[df_vill['set_type'] == 'test']\n",
    "vill_test.to_csv('vill_test.csv')"
   ]
  },
  {
   "cell_type": "code",
   "execution_count": null,
   "metadata": {
    "collapsed": true
   },
   "outputs": [],
   "source": [
    "vill_cv = df[df_vill['set_type'] == 'CV']\n",
    "vill_cv.to_csv('vill_cv.csv')"
   ]
  },
  {
   "cell_type": "code",
   "execution_count": null,
   "metadata": {
    "collapsed": true
   },
   "outputs": [],
   "source": []
  }
 ],
 "metadata": {
  "kernelspec": {
   "display_name": "Python 2",
   "language": "python",
   "name": "python2"
  },
  "language_info": {
   "codemirror_mode": {
    "name": "ipython",
    "version": 2
   },
   "file_extension": ".py",
   "mimetype": "text/x-python",
   "name": "python",
   "nbconvert_exporter": "python",
   "pygments_lexer": "ipython2",
   "version": "2.7.14"
  }
 },
 "nbformat": 4,
 "nbformat_minor": 2
}
