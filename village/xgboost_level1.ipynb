{
 "cells": [
  {
   "cell_type": "code",
   "execution_count": 5,
   "metadata": {
    "scrolled": true
   },
   "outputs": [
    {
     "name": "stderr",
     "output_type": "stream",
     "text": [
      "/home/deva/anaconda2/lib/python2.7/site-packages/sklearn/cross_validation.py:41: DeprecationWarning: This module was deprecated in version 0.18 in favor of the model_selection module into which all the refactored classes and functions are moved. Also note that the interface of the new CV iterators are different from that of this module. This module will be removed in 0.20.\n",
      "  \"This module will be removed in 0.20.\", DeprecationWarning)\n",
      "/home/deva/anaconda2/lib/python2.7/site-packages/ggplot/utils.py:81: FutureWarning: pandas.tslib is deprecated and will be removed in a future version.\n",
      "You can access Timestamp as pandas.Timestamp\n",
      "  pd.tslib.Timestamp,\n",
      "/home/deva/anaconda2/lib/python2.7/site-packages/ggplot/stats/smoothers.py:4: FutureWarning: The pandas.lib module is deprecated and will be removed in a future version. These are private functions and can be accessed from pandas._libs.lib instead\n",
      "  from pandas.lib import Timestamp\n",
      "/home/deva/anaconda2/lib/python2.7/site-packages/statsmodels/compat/pandas.py:56: FutureWarning: The pandas.core.datetools module is deprecated and will be removed in a future version. Please use the pandas.tseries module instead.\n",
      "  from pandas.core import datetools\n"
     ]
    }
   ],
   "source": [
    "import pandas as pd\n",
    "import numpy as np\n",
    "import xgboost as xgb\n",
    "from sklearn import metrics\n",
    "from sklearn import cross_validation\n",
    "import ggplot as gg"
   ]
  },
  {
   "cell_type": "code",
   "execution_count": 6,
   "metadata": {
    "collapsed": true
   },
   "outputs": [],
   "source": [
    "import matplotlib.pyplot as plt"
   ]
  },
  {
   "cell_type": "code",
   "execution_count": 7,
   "metadata": {
    "collapsed": true
   },
   "outputs": [],
   "source": [
    "from ggplot import  *"
   ]
  },
  {
   "cell_type": "code",
   "execution_count": 8,
   "metadata": {},
   "outputs": [],
   "source": [
    "df_train = pd.read_csv('vill_train_all.csv')\n",
    "del df_train['Unnamed: 0']\n",
    "del df_train['Snow and ice']\n",
    "\n",
    "\n",
    "df_cv = pd.read_csv('vill_cv_all.csv')\n",
    "del df_cv['Unnamed: 0']\n",
    "del df_cv['Snow and ice']"
   ]
  },
  {
   "cell_type": "code",
   "execution_count": 9,
   "metadata": {
    "collapsed": true
   },
   "outputs": [],
   "source": [
    "def get_dummies(df):\n",
    "    for label in labels:\n",
    "        df_ = pd.get_dummies(df[label])\n",
    "        df_.columns = [label[20:]+'_'+str(i+1) for i in range(len(df[label].unique()))]\n",
    "        df = pd.concat([df,df_],axis=1)\n",
    "    return df"
   ]
  },
  {
   "cell_type": "code",
   "execution_count": 10,
   "metadata": {
    "collapsed": true
   },
   "outputs": [],
   "source": [
    "labels = ['Village_HHD_Cluster_MSL','Village_HHD_Cluster_MSW','Village_HHD_Cluster_CHH','Village_HHD_Cluster_FC','Village_HHD_Cluster_BF','Village_HHD_Cluster_EMP']"
   ]
  },
  {
   "cell_type": "code",
   "execution_count": 11,
   "metadata": {
    "collapsed": true
   },
   "outputs": [],
   "source": [
    "df_train = get_dummies(df_train)"
   ]
  },
  {
   "cell_type": "code",
   "execution_count": 12,
   "metadata": {},
   "outputs": [
    {
     "data": {
      "text/html": [
       "<div>\n",
       "<style>\n",
       "    .dataframe thead tr:only-child th {\n",
       "        text-align: right;\n",
       "    }\n",
       "\n",
       "    .dataframe thead th {\n",
       "        text-align: left;\n",
       "    }\n",
       "\n",
       "    .dataframe tbody tr th {\n",
       "        vertical-align: top;\n",
       "    }\n",
       "</style>\n",
       "<table border=\"1\" class=\"dataframe\">\n",
       "  <thead>\n",
       "    <tr style=\"text-align: right;\">\n",
       "      <th></th>\n",
       "      <th>State</th>\n",
       "      <th>District</th>\n",
       "      <th>Subdistt</th>\n",
       "      <th>Town/Village</th>\n",
       "      <th>Ward</th>\n",
       "      <th>EB</th>\n",
       "      <th>Level</th>\n",
       "      <th>Name</th>\n",
       "      <th>TRU</th>\n",
       "      <th>ELG_POP</th>\n",
       "      <th>...</th>\n",
       "      <th>CHH_4</th>\n",
       "      <th>FC_1</th>\n",
       "      <th>FC_2</th>\n",
       "      <th>FC_3</th>\n",
       "      <th>BF_1</th>\n",
       "      <th>BF_2</th>\n",
       "      <th>BF_3</th>\n",
       "      <th>EMP_1</th>\n",
       "      <th>EMP_2</th>\n",
       "      <th>EMP_3</th>\n",
       "    </tr>\n",
       "  </thead>\n",
       "  <tbody>\n",
       "    <tr>\n",
       "      <th>0</th>\n",
       "      <td>10</td>\n",
       "      <td>203</td>\n",
       "      <td>1013</td>\n",
       "      <td>215991</td>\n",
       "      <td>0</td>\n",
       "      <td>0</td>\n",
       "      <td>VILLAGE</td>\n",
       "      <td>Tharhi</td>\n",
       "      <td>Rural</td>\n",
       "      <td>2174</td>\n",
       "      <td>...</td>\n",
       "      <td>1</td>\n",
       "      <td>1</td>\n",
       "      <td>0</td>\n",
       "      <td>0</td>\n",
       "      <td>1</td>\n",
       "      <td>0</td>\n",
       "      <td>0</td>\n",
       "      <td>0</td>\n",
       "      <td>1</td>\n",
       "      <td>0</td>\n",
       "    </tr>\n",
       "    <tr>\n",
       "      <th>1</th>\n",
       "      <td>10</td>\n",
       "      <td>203</td>\n",
       "      <td>1013</td>\n",
       "      <td>215992</td>\n",
       "      <td>0</td>\n",
       "      <td>0</td>\n",
       "      <td>VILLAGE</td>\n",
       "      <td>Pipra</td>\n",
       "      <td>Rural</td>\n",
       "      <td>1459</td>\n",
       "      <td>...</td>\n",
       "      <td>0</td>\n",
       "      <td>1</td>\n",
       "      <td>0</td>\n",
       "      <td>0</td>\n",
       "      <td>1</td>\n",
       "      <td>0</td>\n",
       "      <td>0</td>\n",
       "      <td>0</td>\n",
       "      <td>1</td>\n",
       "      <td>0</td>\n",
       "    </tr>\n",
       "    <tr>\n",
       "      <th>2</th>\n",
       "      <td>10</td>\n",
       "      <td>203</td>\n",
       "      <td>1013</td>\n",
       "      <td>215993</td>\n",
       "      <td>0</td>\n",
       "      <td>0</td>\n",
       "      <td>VILLAGE</td>\n",
       "      <td>Kotaraha</td>\n",
       "      <td>Rural</td>\n",
       "      <td>648</td>\n",
       "      <td>...</td>\n",
       "      <td>0</td>\n",
       "      <td>1</td>\n",
       "      <td>0</td>\n",
       "      <td>0</td>\n",
       "      <td>1</td>\n",
       "      <td>0</td>\n",
       "      <td>0</td>\n",
       "      <td>1</td>\n",
       "      <td>0</td>\n",
       "      <td>0</td>\n",
       "    </tr>\n",
       "    <tr>\n",
       "      <th>3</th>\n",
       "      <td>10</td>\n",
       "      <td>203</td>\n",
       "      <td>1013</td>\n",
       "      <td>215994</td>\n",
       "      <td>0</td>\n",
       "      <td>0</td>\n",
       "      <td>VILLAGE</td>\n",
       "      <td>Rampurwa</td>\n",
       "      <td>Rural</td>\n",
       "      <td>3415</td>\n",
       "      <td>...</td>\n",
       "      <td>0</td>\n",
       "      <td>1</td>\n",
       "      <td>0</td>\n",
       "      <td>0</td>\n",
       "      <td>1</td>\n",
       "      <td>0</td>\n",
       "      <td>0</td>\n",
       "      <td>1</td>\n",
       "      <td>0</td>\n",
       "      <td>0</td>\n",
       "    </tr>\n",
       "    <tr>\n",
       "      <th>4</th>\n",
       "      <td>10</td>\n",
       "      <td>203</td>\n",
       "      <td>1013</td>\n",
       "      <td>215995</td>\n",
       "      <td>0</td>\n",
       "      <td>0</td>\n",
       "      <td>VILLAGE</td>\n",
       "      <td>Lachhmipur</td>\n",
       "      <td>Rural</td>\n",
       "      <td>1597</td>\n",
       "      <td>...</td>\n",
       "      <td>0</td>\n",
       "      <td>1</td>\n",
       "      <td>0</td>\n",
       "      <td>0</td>\n",
       "      <td>1</td>\n",
       "      <td>0</td>\n",
       "      <td>0</td>\n",
       "      <td>0</td>\n",
       "      <td>1</td>\n",
       "      <td>0</td>\n",
       "    </tr>\n",
       "    <tr>\n",
       "      <th>5</th>\n",
       "      <td>10</td>\n",
       "      <td>203</td>\n",
       "      <td>1013</td>\n",
       "      <td>215996</td>\n",
       "      <td>0</td>\n",
       "      <td>0</td>\n",
       "      <td>VILLAGE</td>\n",
       "      <td>Daruabari</td>\n",
       "      <td>Rural</td>\n",
       "      <td>1371</td>\n",
       "      <td>...</td>\n",
       "      <td>0</td>\n",
       "      <td>1</td>\n",
       "      <td>0</td>\n",
       "      <td>0</td>\n",
       "      <td>1</td>\n",
       "      <td>0</td>\n",
       "      <td>0</td>\n",
       "      <td>0</td>\n",
       "      <td>1</td>\n",
       "      <td>0</td>\n",
       "    </tr>\n",
       "    <tr>\n",
       "      <th>6</th>\n",
       "      <td>10</td>\n",
       "      <td>203</td>\n",
       "      <td>1013</td>\n",
       "      <td>215997</td>\n",
       "      <td>0</td>\n",
       "      <td>0</td>\n",
       "      <td>VILLAGE</td>\n",
       "      <td>Santpur</td>\n",
       "      <td>Rural</td>\n",
       "      <td>1265</td>\n",
       "      <td>...</td>\n",
       "      <td>0</td>\n",
       "      <td>1</td>\n",
       "      <td>0</td>\n",
       "      <td>0</td>\n",
       "      <td>1</td>\n",
       "      <td>0</td>\n",
       "      <td>0</td>\n",
       "      <td>0</td>\n",
       "      <td>1</td>\n",
       "      <td>0</td>\n",
       "    </tr>\n",
       "    <tr>\n",
       "      <th>7</th>\n",
       "      <td>10</td>\n",
       "      <td>203</td>\n",
       "      <td>1013</td>\n",
       "      <td>215998</td>\n",
       "      <td>0</td>\n",
       "      <td>0</td>\n",
       "      <td>VILLAGE</td>\n",
       "      <td>Soharia</td>\n",
       "      <td>Rural</td>\n",
       "      <td>2717</td>\n",
       "      <td>...</td>\n",
       "      <td>0</td>\n",
       "      <td>1</td>\n",
       "      <td>0</td>\n",
       "      <td>0</td>\n",
       "      <td>1</td>\n",
       "      <td>0</td>\n",
       "      <td>0</td>\n",
       "      <td>1</td>\n",
       "      <td>0</td>\n",
       "      <td>0</td>\n",
       "    </tr>\n",
       "    <tr>\n",
       "      <th>8</th>\n",
       "      <td>10</td>\n",
       "      <td>203</td>\n",
       "      <td>1013</td>\n",
       "      <td>215999</td>\n",
       "      <td>0</td>\n",
       "      <td>0</td>\n",
       "      <td>VILLAGE</td>\n",
       "      <td>Parsauni</td>\n",
       "      <td>Rural</td>\n",
       "      <td>3882</td>\n",
       "      <td>...</td>\n",
       "      <td>0</td>\n",
       "      <td>1</td>\n",
       "      <td>0</td>\n",
       "      <td>0</td>\n",
       "      <td>1</td>\n",
       "      <td>0</td>\n",
       "      <td>0</td>\n",
       "      <td>0</td>\n",
       "      <td>1</td>\n",
       "      <td>0</td>\n",
       "    </tr>\n",
       "    <tr>\n",
       "      <th>9</th>\n",
       "      <td>10</td>\n",
       "      <td>203</td>\n",
       "      <td>1013</td>\n",
       "      <td>216002</td>\n",
       "      <td>0</td>\n",
       "      <td>0</td>\n",
       "      <td>VILLAGE</td>\n",
       "      <td>Shiunaha</td>\n",
       "      <td>Rural</td>\n",
       "      <td>1283</td>\n",
       "      <td>...</td>\n",
       "      <td>0</td>\n",
       "      <td>1</td>\n",
       "      <td>0</td>\n",
       "      <td>0</td>\n",
       "      <td>1</td>\n",
       "      <td>0</td>\n",
       "      <td>0</td>\n",
       "      <td>0</td>\n",
       "      <td>1</td>\n",
       "      <td>0</td>\n",
       "    </tr>\n",
       "    <tr>\n",
       "      <th>10</th>\n",
       "      <td>10</td>\n",
       "      <td>203</td>\n",
       "      <td>1013</td>\n",
       "      <td>216003</td>\n",
       "      <td>0</td>\n",
       "      <td>0</td>\n",
       "      <td>VILLAGE</td>\n",
       "      <td>Champapur</td>\n",
       "      <td>Rural</td>\n",
       "      <td>2128</td>\n",
       "      <td>...</td>\n",
       "      <td>0</td>\n",
       "      <td>1</td>\n",
       "      <td>0</td>\n",
       "      <td>0</td>\n",
       "      <td>1</td>\n",
       "      <td>0</td>\n",
       "      <td>0</td>\n",
       "      <td>0</td>\n",
       "      <td>1</td>\n",
       "      <td>0</td>\n",
       "    </tr>\n",
       "    <tr>\n",
       "      <th>11</th>\n",
       "      <td>10</td>\n",
       "      <td>203</td>\n",
       "      <td>1013</td>\n",
       "      <td>216006</td>\n",
       "      <td>0</td>\n",
       "      <td>0</td>\n",
       "      <td>VILLAGE</td>\n",
       "      <td>Malkauli</td>\n",
       "      <td>Rural</td>\n",
       "      <td>828</td>\n",
       "      <td>...</td>\n",
       "      <td>0</td>\n",
       "      <td>1</td>\n",
       "      <td>0</td>\n",
       "      <td>0</td>\n",
       "      <td>1</td>\n",
       "      <td>0</td>\n",
       "      <td>0</td>\n",
       "      <td>0</td>\n",
       "      <td>1</td>\n",
       "      <td>0</td>\n",
       "    </tr>\n",
       "    <tr>\n",
       "      <th>12</th>\n",
       "      <td>10</td>\n",
       "      <td>203</td>\n",
       "      <td>1013</td>\n",
       "      <td>216007</td>\n",
       "      <td>0</td>\n",
       "      <td>0</td>\n",
       "      <td>VILLAGE</td>\n",
       "      <td>Gorar</td>\n",
       "      <td>Rural</td>\n",
       "      <td>506</td>\n",
       "      <td>...</td>\n",
       "      <td>0</td>\n",
       "      <td>1</td>\n",
       "      <td>0</td>\n",
       "      <td>0</td>\n",
       "      <td>1</td>\n",
       "      <td>0</td>\n",
       "      <td>0</td>\n",
       "      <td>0</td>\n",
       "      <td>1</td>\n",
       "      <td>0</td>\n",
       "    </tr>\n",
       "    <tr>\n",
       "      <th>13</th>\n",
       "      <td>10</td>\n",
       "      <td>203</td>\n",
       "      <td>1013</td>\n",
       "      <td>216009</td>\n",
       "      <td>0</td>\n",
       "      <td>0</td>\n",
       "      <td>VILLAGE</td>\n",
       "      <td>Pipra</td>\n",
       "      <td>Rural</td>\n",
       "      <td>1212</td>\n",
       "      <td>...</td>\n",
       "      <td>0</td>\n",
       "      <td>1</td>\n",
       "      <td>0</td>\n",
       "      <td>0</td>\n",
       "      <td>1</td>\n",
       "      <td>0</td>\n",
       "      <td>0</td>\n",
       "      <td>0</td>\n",
       "      <td>1</td>\n",
       "      <td>0</td>\n",
       "    </tr>\n",
       "    <tr>\n",
       "      <th>14</th>\n",
       "      <td>10</td>\n",
       "      <td>203</td>\n",
       "      <td>1013</td>\n",
       "      <td>216014</td>\n",
       "      <td>0</td>\n",
       "      <td>0</td>\n",
       "      <td>VILLAGE</td>\n",
       "      <td>Naurangiya</td>\n",
       "      <td>Rural</td>\n",
       "      <td>2626</td>\n",
       "      <td>...</td>\n",
       "      <td>0</td>\n",
       "      <td>1</td>\n",
       "      <td>0</td>\n",
       "      <td>0</td>\n",
       "      <td>1</td>\n",
       "      <td>0</td>\n",
       "      <td>0</td>\n",
       "      <td>0</td>\n",
       "      <td>1</td>\n",
       "      <td>0</td>\n",
       "    </tr>\n",
       "    <tr>\n",
       "      <th>15</th>\n",
       "      <td>10</td>\n",
       "      <td>203</td>\n",
       "      <td>1013</td>\n",
       "      <td>216017</td>\n",
       "      <td>0</td>\n",
       "      <td>0</td>\n",
       "      <td>VILLAGE</td>\n",
       "      <td>Ghurauli</td>\n",
       "      <td>Rural</td>\n",
       "      <td>1371</td>\n",
       "      <td>...</td>\n",
       "      <td>0</td>\n",
       "      <td>0</td>\n",
       "      <td>1</td>\n",
       "      <td>0</td>\n",
       "      <td>1</td>\n",
       "      <td>0</td>\n",
       "      <td>0</td>\n",
       "      <td>0</td>\n",
       "      <td>1</td>\n",
       "      <td>0</td>\n",
       "    </tr>\n",
       "    <tr>\n",
       "      <th>16</th>\n",
       "      <td>10</td>\n",
       "      <td>203</td>\n",
       "      <td>1013</td>\n",
       "      <td>216019</td>\n",
       "      <td>0</td>\n",
       "      <td>0</td>\n",
       "      <td>VILLAGE</td>\n",
       "      <td>Mohna</td>\n",
       "      <td>Rural</td>\n",
       "      <td>2898</td>\n",
       "      <td>...</td>\n",
       "      <td>0</td>\n",
       "      <td>0</td>\n",
       "      <td>1</td>\n",
       "      <td>0</td>\n",
       "      <td>1</td>\n",
       "      <td>0</td>\n",
       "      <td>0</td>\n",
       "      <td>0</td>\n",
       "      <td>1</td>\n",
       "      <td>0</td>\n",
       "    </tr>\n",
       "    <tr>\n",
       "      <th>17</th>\n",
       "      <td>10</td>\n",
       "      <td>203</td>\n",
       "      <td>1013</td>\n",
       "      <td>216023</td>\n",
       "      <td>0</td>\n",
       "      <td>0</td>\n",
       "      <td>VILLAGE</td>\n",
       "      <td>Dewtaha</td>\n",
       "      <td>Rural</td>\n",
       "      <td>750</td>\n",
       "      <td>...</td>\n",
       "      <td>0</td>\n",
       "      <td>0</td>\n",
       "      <td>1</td>\n",
       "      <td>0</td>\n",
       "      <td>1</td>\n",
       "      <td>0</td>\n",
       "      <td>0</td>\n",
       "      <td>0</td>\n",
       "      <td>1</td>\n",
       "      <td>0</td>\n",
       "    </tr>\n",
       "    <tr>\n",
       "      <th>18</th>\n",
       "      <td>10</td>\n",
       "      <td>203</td>\n",
       "      <td>1013</td>\n",
       "      <td>216027</td>\n",
       "      <td>0</td>\n",
       "      <td>0</td>\n",
       "      <td>VILLAGE</td>\n",
       "      <td>Harnatanr</td>\n",
       "      <td>Rural</td>\n",
       "      <td>3319</td>\n",
       "      <td>...</td>\n",
       "      <td>0</td>\n",
       "      <td>1</td>\n",
       "      <td>0</td>\n",
       "      <td>0</td>\n",
       "      <td>1</td>\n",
       "      <td>0</td>\n",
       "      <td>0</td>\n",
       "      <td>1</td>\n",
       "      <td>0</td>\n",
       "      <td>0</td>\n",
       "    </tr>\n",
       "    <tr>\n",
       "      <th>19</th>\n",
       "      <td>10</td>\n",
       "      <td>203</td>\n",
       "      <td>1013</td>\n",
       "      <td>216029</td>\n",
       "      <td>0</td>\n",
       "      <td>0</td>\n",
       "      <td>VILLAGE</td>\n",
       "      <td>Bairiya Kalan</td>\n",
       "      <td>Rural</td>\n",
       "      <td>1819</td>\n",
       "      <td>...</td>\n",
       "      <td>0</td>\n",
       "      <td>1</td>\n",
       "      <td>0</td>\n",
       "      <td>0</td>\n",
       "      <td>1</td>\n",
       "      <td>0</td>\n",
       "      <td>0</td>\n",
       "      <td>0</td>\n",
       "      <td>1</td>\n",
       "      <td>0</td>\n",
       "    </tr>\n",
       "    <tr>\n",
       "      <th>20</th>\n",
       "      <td>10</td>\n",
       "      <td>203</td>\n",
       "      <td>1013</td>\n",
       "      <td>216031</td>\n",
       "      <td>0</td>\n",
       "      <td>0</td>\n",
       "      <td>VILLAGE</td>\n",
       "      <td>Chhatraul</td>\n",
       "      <td>Rural</td>\n",
       "      <td>2168</td>\n",
       "      <td>...</td>\n",
       "      <td>0</td>\n",
       "      <td>0</td>\n",
       "      <td>1</td>\n",
       "      <td>0</td>\n",
       "      <td>1</td>\n",
       "      <td>0</td>\n",
       "      <td>0</td>\n",
       "      <td>1</td>\n",
       "      <td>0</td>\n",
       "      <td>0</td>\n",
       "    </tr>\n",
       "    <tr>\n",
       "      <th>21</th>\n",
       "      <td>10</td>\n",
       "      <td>203</td>\n",
       "      <td>1013</td>\n",
       "      <td>216032</td>\n",
       "      <td>0</td>\n",
       "      <td>0</td>\n",
       "      <td>VILLAGE</td>\n",
       "      <td>Garkatti</td>\n",
       "      <td>Rural</td>\n",
       "      <td>917</td>\n",
       "      <td>...</td>\n",
       "      <td>0</td>\n",
       "      <td>1</td>\n",
       "      <td>0</td>\n",
       "      <td>0</td>\n",
       "      <td>1</td>\n",
       "      <td>0</td>\n",
       "      <td>0</td>\n",
       "      <td>0</td>\n",
       "      <td>1</td>\n",
       "      <td>0</td>\n",
       "    </tr>\n",
       "    <tr>\n",
       "      <th>22</th>\n",
       "      <td>10</td>\n",
       "      <td>203</td>\n",
       "      <td>1013</td>\n",
       "      <td>216033</td>\n",
       "      <td>0</td>\n",
       "      <td>0</td>\n",
       "      <td>VILLAGE</td>\n",
       "      <td>Jarar</td>\n",
       "      <td>Rural</td>\n",
       "      <td>2216</td>\n",
       "      <td>...</td>\n",
       "      <td>0</td>\n",
       "      <td>1</td>\n",
       "      <td>0</td>\n",
       "      <td>0</td>\n",
       "      <td>1</td>\n",
       "      <td>0</td>\n",
       "      <td>0</td>\n",
       "      <td>0</td>\n",
       "      <td>1</td>\n",
       "      <td>0</td>\n",
       "    </tr>\n",
       "    <tr>\n",
       "      <th>23</th>\n",
       "      <td>10</td>\n",
       "      <td>203</td>\n",
       "      <td>1013</td>\n",
       "      <td>216039</td>\n",
       "      <td>0</td>\n",
       "      <td>0</td>\n",
       "      <td>VILLAGE</td>\n",
       "      <td>Madanpur</td>\n",
       "      <td>Rural</td>\n",
       "      <td>2572</td>\n",
       "      <td>...</td>\n",
       "      <td>0</td>\n",
       "      <td>1</td>\n",
       "      <td>0</td>\n",
       "      <td>0</td>\n",
       "      <td>1</td>\n",
       "      <td>0</td>\n",
       "      <td>0</td>\n",
       "      <td>1</td>\n",
       "      <td>0</td>\n",
       "      <td>0</td>\n",
       "    </tr>\n",
       "    <tr>\n",
       "      <th>24</th>\n",
       "      <td>10</td>\n",
       "      <td>203</td>\n",
       "      <td>1013</td>\n",
       "      <td>216042</td>\n",
       "      <td>0</td>\n",
       "      <td>0</td>\n",
       "      <td>VILLAGE</td>\n",
       "      <td>Naakar Rampur</td>\n",
       "      <td>Rural</td>\n",
       "      <td>1477</td>\n",
       "      <td>...</td>\n",
       "      <td>1</td>\n",
       "      <td>0</td>\n",
       "      <td>1</td>\n",
       "      <td>0</td>\n",
       "      <td>1</td>\n",
       "      <td>0</td>\n",
       "      <td>0</td>\n",
       "      <td>1</td>\n",
       "      <td>0</td>\n",
       "      <td>0</td>\n",
       "    </tr>\n",
       "    <tr>\n",
       "      <th>25</th>\n",
       "      <td>10</td>\n",
       "      <td>203</td>\n",
       "      <td>1013</td>\n",
       "      <td>216047</td>\n",
       "      <td>0</td>\n",
       "      <td>0</td>\n",
       "      <td>VILLAGE</td>\n",
       "      <td>Dudhaura</td>\n",
       "      <td>Rural</td>\n",
       "      <td>1384</td>\n",
       "      <td>...</td>\n",
       "      <td>0</td>\n",
       "      <td>1</td>\n",
       "      <td>0</td>\n",
       "      <td>0</td>\n",
       "      <td>1</td>\n",
       "      <td>0</td>\n",
       "      <td>0</td>\n",
       "      <td>1</td>\n",
       "      <td>0</td>\n",
       "      <td>0</td>\n",
       "    </tr>\n",
       "    <tr>\n",
       "      <th>26</th>\n",
       "      <td>10</td>\n",
       "      <td>203</td>\n",
       "      <td>1013</td>\n",
       "      <td>216049</td>\n",
       "      <td>0</td>\n",
       "      <td>0</td>\n",
       "      <td>VILLAGE</td>\n",
       "      <td>Budhsar</td>\n",
       "      <td>Rural</td>\n",
       "      <td>1083</td>\n",
       "      <td>...</td>\n",
       "      <td>1</td>\n",
       "      <td>0</td>\n",
       "      <td>1</td>\n",
       "      <td>0</td>\n",
       "      <td>1</td>\n",
       "      <td>0</td>\n",
       "      <td>0</td>\n",
       "      <td>1</td>\n",
       "      <td>0</td>\n",
       "      <td>0</td>\n",
       "    </tr>\n",
       "    <tr>\n",
       "      <th>27</th>\n",
       "      <td>10</td>\n",
       "      <td>203</td>\n",
       "      <td>1013</td>\n",
       "      <td>216051</td>\n",
       "      <td>0</td>\n",
       "      <td>0</td>\n",
       "      <td>VILLAGE</td>\n",
       "      <td>Sidhawa</td>\n",
       "      <td>Rural</td>\n",
       "      <td>1666</td>\n",
       "      <td>...</td>\n",
       "      <td>0</td>\n",
       "      <td>1</td>\n",
       "      <td>0</td>\n",
       "      <td>0</td>\n",
       "      <td>1</td>\n",
       "      <td>0</td>\n",
       "      <td>0</td>\n",
       "      <td>0</td>\n",
       "      <td>1</td>\n",
       "      <td>0</td>\n",
       "    </tr>\n",
       "    <tr>\n",
       "      <th>28</th>\n",
       "      <td>10</td>\n",
       "      <td>203</td>\n",
       "      <td>1013</td>\n",
       "      <td>216052</td>\n",
       "      <td>0</td>\n",
       "      <td>0</td>\n",
       "      <td>VILLAGE</td>\n",
       "      <td>Naraingarh</td>\n",
       "      <td>Rural</td>\n",
       "      <td>925</td>\n",
       "      <td>...</td>\n",
       "      <td>0</td>\n",
       "      <td>0</td>\n",
       "      <td>1</td>\n",
       "      <td>0</td>\n",
       "      <td>1</td>\n",
       "      <td>0</td>\n",
       "      <td>0</td>\n",
       "      <td>0</td>\n",
       "      <td>1</td>\n",
       "      <td>0</td>\n",
       "    </tr>\n",
       "    <tr>\n",
       "      <th>29</th>\n",
       "      <td>10</td>\n",
       "      <td>203</td>\n",
       "      <td>1013</td>\n",
       "      <td>216053</td>\n",
       "      <td>0</td>\n",
       "      <td>0</td>\n",
       "      <td>VILLAGE</td>\n",
       "      <td>Behuarwa</td>\n",
       "      <td>Rural</td>\n",
       "      <td>1667</td>\n",
       "      <td>...</td>\n",
       "      <td>0</td>\n",
       "      <td>0</td>\n",
       "      <td>1</td>\n",
       "      <td>0</td>\n",
       "      <td>1</td>\n",
       "      <td>0</td>\n",
       "      <td>0</td>\n",
       "      <td>0</td>\n",
       "      <td>1</td>\n",
       "      <td>0</td>\n",
       "    </tr>\n",
       "    <tr>\n",
       "      <th>...</th>\n",
       "      <td>...</td>\n",
       "      <td>...</td>\n",
       "      <td>...</td>\n",
       "      <td>...</td>\n",
       "      <td>...</td>\n",
       "      <td>...</td>\n",
       "      <td>...</td>\n",
       "      <td>...</td>\n",
       "      <td>...</td>\n",
       "      <td>...</td>\n",
       "      <td>...</td>\n",
       "      <td>...</td>\n",
       "      <td>...</td>\n",
       "      <td>...</td>\n",
       "      <td>...</td>\n",
       "      <td>...</td>\n",
       "      <td>...</td>\n",
       "      <td>...</td>\n",
       "      <td>...</td>\n",
       "      <td>...</td>\n",
       "      <td>...</td>\n",
       "    </tr>\n",
       "    <tr>\n",
       "      <th>92217</th>\n",
       "      <td>32</td>\n",
       "      <td>601</td>\n",
       "      <td>5692</td>\n",
       "      <td>628532</td>\n",
       "      <td>0</td>\n",
       "      <td>0</td>\n",
       "      <td>VILLAGE</td>\n",
       "      <td>Karode</td>\n",
       "      <td>Rural</td>\n",
       "      <td>28700</td>\n",
       "      <td>...</td>\n",
       "      <td>0</td>\n",
       "      <td>1</td>\n",
       "      <td>0</td>\n",
       "      <td>0</td>\n",
       "      <td>0</td>\n",
       "      <td>1</td>\n",
       "      <td>0</td>\n",
       "      <td>0</td>\n",
       "      <td>0</td>\n",
       "      <td>1</td>\n",
       "    </tr>\n",
       "    <tr>\n",
       "      <th>92218</th>\n",
       "      <td>32</td>\n",
       "      <td>601</td>\n",
       "      <td>5692</td>\n",
       "      <td>628538</td>\n",
       "      <td>0</td>\n",
       "      <td>0</td>\n",
       "      <td>VILLAGE</td>\n",
       "      <td>Vizhinjam (Part)</td>\n",
       "      <td>Rural</td>\n",
       "      <td>18759</td>\n",
       "      <td>...</td>\n",
       "      <td>0</td>\n",
       "      <td>1</td>\n",
       "      <td>0</td>\n",
       "      <td>0</td>\n",
       "      <td>0</td>\n",
       "      <td>1</td>\n",
       "      <td>0</td>\n",
       "      <td>0</td>\n",
       "      <td>0</td>\n",
       "      <td>1</td>\n",
       "    </tr>\n",
       "    <tr>\n",
       "      <th>92219</th>\n",
       "      <td>32</td>\n",
       "      <td>601</td>\n",
       "      <td>5692</td>\n",
       "      <td>628538</td>\n",
       "      <td>0</td>\n",
       "      <td>0</td>\n",
       "      <td>VILLAGE</td>\n",
       "      <td>Vizhinjam (Part)</td>\n",
       "      <td>Rural</td>\n",
       "      <td>18759</td>\n",
       "      <td>...</td>\n",
       "      <td>0</td>\n",
       "      <td>1</td>\n",
       "      <td>0</td>\n",
       "      <td>0</td>\n",
       "      <td>0</td>\n",
       "      <td>1</td>\n",
       "      <td>0</td>\n",
       "      <td>0</td>\n",
       "      <td>0</td>\n",
       "      <td>1</td>\n",
       "    </tr>\n",
       "    <tr>\n",
       "      <th>92220</th>\n",
       "      <td>32</td>\n",
       "      <td>601</td>\n",
       "      <td>5692</td>\n",
       "      <td>628538</td>\n",
       "      <td>0</td>\n",
       "      <td>0</td>\n",
       "      <td>VILLAGE</td>\n",
       "      <td>Vizhinjam (Part)</td>\n",
       "      <td>Rural</td>\n",
       "      <td>18759</td>\n",
       "      <td>...</td>\n",
       "      <td>0</td>\n",
       "      <td>1</td>\n",
       "      <td>0</td>\n",
       "      <td>0</td>\n",
       "      <td>0</td>\n",
       "      <td>1</td>\n",
       "      <td>0</td>\n",
       "      <td>0</td>\n",
       "      <td>0</td>\n",
       "      <td>1</td>\n",
       "    </tr>\n",
       "    <tr>\n",
       "      <th>92221</th>\n",
       "      <td>32</td>\n",
       "      <td>601</td>\n",
       "      <td>5689</td>\n",
       "      <td>628473</td>\n",
       "      <td>0</td>\n",
       "      <td>0</td>\n",
       "      <td>TOWN</td>\n",
       "      <td>Alamcode (CT)</td>\n",
       "      <td>Urban</td>\n",
       "      <td>13210</td>\n",
       "      <td>...</td>\n",
       "      <td>0</td>\n",
       "      <td>1</td>\n",
       "      <td>0</td>\n",
       "      <td>0</td>\n",
       "      <td>0</td>\n",
       "      <td>1</td>\n",
       "      <td>0</td>\n",
       "      <td>0</td>\n",
       "      <td>0</td>\n",
       "      <td>1</td>\n",
       "    </tr>\n",
       "    <tr>\n",
       "      <th>92222</th>\n",
       "      <td>32</td>\n",
       "      <td>601</td>\n",
       "      <td>5689</td>\n",
       "      <td>628473</td>\n",
       "      <td>1</td>\n",
       "      <td>0</td>\n",
       "      <td>WARD</td>\n",
       "      <td>Alamcode (CT) WARD NO.-0001</td>\n",
       "      <td>Urban</td>\n",
       "      <td>13210</td>\n",
       "      <td>...</td>\n",
       "      <td>0</td>\n",
       "      <td>1</td>\n",
       "      <td>0</td>\n",
       "      <td>0</td>\n",
       "      <td>0</td>\n",
       "      <td>1</td>\n",
       "      <td>0</td>\n",
       "      <td>0</td>\n",
       "      <td>0</td>\n",
       "      <td>1</td>\n",
       "    </tr>\n",
       "    <tr>\n",
       "      <th>92223</th>\n",
       "      <td>32</td>\n",
       "      <td>601</td>\n",
       "      <td>5689</td>\n",
       "      <td>628474</td>\n",
       "      <td>0</td>\n",
       "      <td>0</td>\n",
       "      <td>TOWN</td>\n",
       "      <td>Keezhattingal (CT)</td>\n",
       "      <td>Urban</td>\n",
       "      <td>13666</td>\n",
       "      <td>...</td>\n",
       "      <td>0</td>\n",
       "      <td>0</td>\n",
       "      <td>0</td>\n",
       "      <td>1</td>\n",
       "      <td>0</td>\n",
       "      <td>0</td>\n",
       "      <td>1</td>\n",
       "      <td>0</td>\n",
       "      <td>0</td>\n",
       "      <td>1</td>\n",
       "    </tr>\n",
       "    <tr>\n",
       "      <th>92224</th>\n",
       "      <td>32</td>\n",
       "      <td>601</td>\n",
       "      <td>5689</td>\n",
       "      <td>628474</td>\n",
       "      <td>1</td>\n",
       "      <td>0</td>\n",
       "      <td>WARD</td>\n",
       "      <td>Keezhattingal (CT) WARD NO.-0001</td>\n",
       "      <td>Urban</td>\n",
       "      <td>13666</td>\n",
       "      <td>...</td>\n",
       "      <td>0</td>\n",
       "      <td>0</td>\n",
       "      <td>0</td>\n",
       "      <td>1</td>\n",
       "      <td>0</td>\n",
       "      <td>0</td>\n",
       "      <td>1</td>\n",
       "      <td>0</td>\n",
       "      <td>0</td>\n",
       "      <td>1</td>\n",
       "    </tr>\n",
       "    <tr>\n",
       "      <th>92225</th>\n",
       "      <td>32</td>\n",
       "      <td>601</td>\n",
       "      <td>5689</td>\n",
       "      <td>628477</td>\n",
       "      <td>0</td>\n",
       "      <td>0</td>\n",
       "      <td>TOWN</td>\n",
       "      <td>Edakkode (CT)</td>\n",
       "      <td>Urban</td>\n",
       "      <td>11667</td>\n",
       "      <td>...</td>\n",
       "      <td>0</td>\n",
       "      <td>0</td>\n",
       "      <td>0</td>\n",
       "      <td>1</td>\n",
       "      <td>0</td>\n",
       "      <td>1</td>\n",
       "      <td>0</td>\n",
       "      <td>0</td>\n",
       "      <td>0</td>\n",
       "      <td>1</td>\n",
       "    </tr>\n",
       "    <tr>\n",
       "      <th>92226</th>\n",
       "      <td>32</td>\n",
       "      <td>601</td>\n",
       "      <td>5689</td>\n",
       "      <td>628477</td>\n",
       "      <td>1</td>\n",
       "      <td>0</td>\n",
       "      <td>WARD</td>\n",
       "      <td>Edakkode (CT) WARD NO.-0001</td>\n",
       "      <td>Urban</td>\n",
       "      <td>11667</td>\n",
       "      <td>...</td>\n",
       "      <td>0</td>\n",
       "      <td>0</td>\n",
       "      <td>0</td>\n",
       "      <td>1</td>\n",
       "      <td>0</td>\n",
       "      <td>1</td>\n",
       "      <td>0</td>\n",
       "      <td>0</td>\n",
       "      <td>0</td>\n",
       "      <td>1</td>\n",
       "    </tr>\n",
       "    <tr>\n",
       "      <th>92227</th>\n",
       "      <td>32</td>\n",
       "      <td>601</td>\n",
       "      <td>5691</td>\n",
       "      <td>628510</td>\n",
       "      <td>0</td>\n",
       "      <td>0</td>\n",
       "      <td>TOWN</td>\n",
       "      <td>Veiloor (CT)</td>\n",
       "      <td>Urban</td>\n",
       "      <td>20458</td>\n",
       "      <td>...</td>\n",
       "      <td>0</td>\n",
       "      <td>0</td>\n",
       "      <td>0</td>\n",
       "      <td>1</td>\n",
       "      <td>0</td>\n",
       "      <td>0</td>\n",
       "      <td>1</td>\n",
       "      <td>0</td>\n",
       "      <td>0</td>\n",
       "      <td>1</td>\n",
       "    </tr>\n",
       "    <tr>\n",
       "      <th>92228</th>\n",
       "      <td>32</td>\n",
       "      <td>601</td>\n",
       "      <td>5691</td>\n",
       "      <td>628510</td>\n",
       "      <td>1</td>\n",
       "      <td>0</td>\n",
       "      <td>WARD</td>\n",
       "      <td>Veiloor (CT) WARD NO.-0001</td>\n",
       "      <td>Urban</td>\n",
       "      <td>20458</td>\n",
       "      <td>...</td>\n",
       "      <td>0</td>\n",
       "      <td>0</td>\n",
       "      <td>0</td>\n",
       "      <td>1</td>\n",
       "      <td>0</td>\n",
       "      <td>0</td>\n",
       "      <td>1</td>\n",
       "      <td>0</td>\n",
       "      <td>0</td>\n",
       "      <td>1</td>\n",
       "    </tr>\n",
       "    <tr>\n",
       "      <th>92229</th>\n",
       "      <td>32</td>\n",
       "      <td>601</td>\n",
       "      <td>5691</td>\n",
       "      <td>628513</td>\n",
       "      <td>0</td>\n",
       "      <td>0</td>\n",
       "      <td>TOWN</td>\n",
       "      <td>Uliyazhathura (CT)</td>\n",
       "      <td>Urban</td>\n",
       "      <td>25854</td>\n",
       "      <td>...</td>\n",
       "      <td>0</td>\n",
       "      <td>0</td>\n",
       "      <td>0</td>\n",
       "      <td>1</td>\n",
       "      <td>0</td>\n",
       "      <td>0</td>\n",
       "      <td>1</td>\n",
       "      <td>0</td>\n",
       "      <td>0</td>\n",
       "      <td>1</td>\n",
       "    </tr>\n",
       "    <tr>\n",
       "      <th>92230</th>\n",
       "      <td>32</td>\n",
       "      <td>601</td>\n",
       "      <td>5691</td>\n",
       "      <td>628513</td>\n",
       "      <td>1</td>\n",
       "      <td>0</td>\n",
       "      <td>WARD</td>\n",
       "      <td>Uliyazhathura (CT) WARD NO.-0001</td>\n",
       "      <td>Urban</td>\n",
       "      <td>25854</td>\n",
       "      <td>...</td>\n",
       "      <td>0</td>\n",
       "      <td>0</td>\n",
       "      <td>0</td>\n",
       "      <td>1</td>\n",
       "      <td>0</td>\n",
       "      <td>0</td>\n",
       "      <td>1</td>\n",
       "      <td>0</td>\n",
       "      <td>0</td>\n",
       "      <td>1</td>\n",
       "    </tr>\n",
       "    <tr>\n",
       "      <th>92231</th>\n",
       "      <td>32</td>\n",
       "      <td>601</td>\n",
       "      <td>5691</td>\n",
       "      <td>628515</td>\n",
       "      <td>1</td>\n",
       "      <td>0</td>\n",
       "      <td>WARD</td>\n",
       "      <td>Kudappanakkunnu (CT) WARD NO.-0001</td>\n",
       "      <td>Urban</td>\n",
       "      <td>38489</td>\n",
       "      <td>...</td>\n",
       "      <td>0</td>\n",
       "      <td>0</td>\n",
       "      <td>0</td>\n",
       "      <td>1</td>\n",
       "      <td>0</td>\n",
       "      <td>0</td>\n",
       "      <td>1</td>\n",
       "      <td>0</td>\n",
       "      <td>0</td>\n",
       "      <td>1</td>\n",
       "    </tr>\n",
       "    <tr>\n",
       "      <th>92232</th>\n",
       "      <td>32</td>\n",
       "      <td>601</td>\n",
       "      <td>5691</td>\n",
       "      <td>628515</td>\n",
       "      <td>1</td>\n",
       "      <td>0</td>\n",
       "      <td>WARD</td>\n",
       "      <td>Kudappanakkunnu (CT) WARD NO.-0001</td>\n",
       "      <td>Urban</td>\n",
       "      <td>38489</td>\n",
       "      <td>...</td>\n",
       "      <td>0</td>\n",
       "      <td>0</td>\n",
       "      <td>0</td>\n",
       "      <td>1</td>\n",
       "      <td>0</td>\n",
       "      <td>0</td>\n",
       "      <td>1</td>\n",
       "      <td>0</td>\n",
       "      <td>0</td>\n",
       "      <td>1</td>\n",
       "    </tr>\n",
       "    <tr>\n",
       "      <th>92233</th>\n",
       "      <td>32</td>\n",
       "      <td>601</td>\n",
       "      <td>5691</td>\n",
       "      <td>628516</td>\n",
       "      <td>0</td>\n",
       "      <td>0</td>\n",
       "      <td>TOWN</td>\n",
       "      <td>Vattiyoorkavu (CT)</td>\n",
       "      <td>Urban</td>\n",
       "      <td>43249</td>\n",
       "      <td>...</td>\n",
       "      <td>0</td>\n",
       "      <td>0</td>\n",
       "      <td>0</td>\n",
       "      <td>1</td>\n",
       "      <td>0</td>\n",
       "      <td>0</td>\n",
       "      <td>1</td>\n",
       "      <td>0</td>\n",
       "      <td>0</td>\n",
       "      <td>1</td>\n",
       "    </tr>\n",
       "    <tr>\n",
       "      <th>92234</th>\n",
       "      <td>32</td>\n",
       "      <td>601</td>\n",
       "      <td>5691</td>\n",
       "      <td>628516</td>\n",
       "      <td>0</td>\n",
       "      <td>0</td>\n",
       "      <td>TOWN</td>\n",
       "      <td>Vattiyoorkavu (CT)</td>\n",
       "      <td>Urban</td>\n",
       "      <td>43249</td>\n",
       "      <td>...</td>\n",
       "      <td>0</td>\n",
       "      <td>0</td>\n",
       "      <td>0</td>\n",
       "      <td>1</td>\n",
       "      <td>0</td>\n",
       "      <td>0</td>\n",
       "      <td>1</td>\n",
       "      <td>0</td>\n",
       "      <td>0</td>\n",
       "      <td>1</td>\n",
       "    </tr>\n",
       "    <tr>\n",
       "      <th>92235</th>\n",
       "      <td>32</td>\n",
       "      <td>601</td>\n",
       "      <td>5691</td>\n",
       "      <td>628516</td>\n",
       "      <td>1</td>\n",
       "      <td>0</td>\n",
       "      <td>WARD</td>\n",
       "      <td>Vattiyoorkavu (CT) WARD NO.-0001</td>\n",
       "      <td>Urban</td>\n",
       "      <td>43249</td>\n",
       "      <td>...</td>\n",
       "      <td>0</td>\n",
       "      <td>0</td>\n",
       "      <td>0</td>\n",
       "      <td>1</td>\n",
       "      <td>0</td>\n",
       "      <td>0</td>\n",
       "      <td>1</td>\n",
       "      <td>0</td>\n",
       "      <td>0</td>\n",
       "      <td>1</td>\n",
       "    </tr>\n",
       "    <tr>\n",
       "      <th>92236</th>\n",
       "      <td>32</td>\n",
       "      <td>601</td>\n",
       "      <td>5691</td>\n",
       "      <td>628516</td>\n",
       "      <td>1</td>\n",
       "      <td>0</td>\n",
       "      <td>WARD</td>\n",
       "      <td>Vattiyoorkavu (CT) WARD NO.-0001</td>\n",
       "      <td>Urban</td>\n",
       "      <td>43249</td>\n",
       "      <td>...</td>\n",
       "      <td>0</td>\n",
       "      <td>0</td>\n",
       "      <td>0</td>\n",
       "      <td>1</td>\n",
       "      <td>0</td>\n",
       "      <td>0</td>\n",
       "      <td>1</td>\n",
       "      <td>0</td>\n",
       "      <td>0</td>\n",
       "      <td>1</td>\n",
       "    </tr>\n",
       "    <tr>\n",
       "      <th>92237</th>\n",
       "      <td>32</td>\n",
       "      <td>601</td>\n",
       "      <td>5691</td>\n",
       "      <td>628518</td>\n",
       "      <td>0</td>\n",
       "      <td>0</td>\n",
       "      <td>TOWN</td>\n",
       "      <td>Venganoor (CT)</td>\n",
       "      <td>Urban</td>\n",
       "      <td>32803</td>\n",
       "      <td>...</td>\n",
       "      <td>0</td>\n",
       "      <td>1</td>\n",
       "      <td>0</td>\n",
       "      <td>0</td>\n",
       "      <td>0</td>\n",
       "      <td>1</td>\n",
       "      <td>0</td>\n",
       "      <td>0</td>\n",
       "      <td>0</td>\n",
       "      <td>1</td>\n",
       "    </tr>\n",
       "    <tr>\n",
       "      <th>92238</th>\n",
       "      <td>32</td>\n",
       "      <td>601</td>\n",
       "      <td>5691</td>\n",
       "      <td>628518</td>\n",
       "      <td>1</td>\n",
       "      <td>0</td>\n",
       "      <td>WARD</td>\n",
       "      <td>Venganoor (CT) WARD NO.-0001</td>\n",
       "      <td>Urban</td>\n",
       "      <td>32803</td>\n",
       "      <td>...</td>\n",
       "      <td>0</td>\n",
       "      <td>1</td>\n",
       "      <td>0</td>\n",
       "      <td>0</td>\n",
       "      <td>0</td>\n",
       "      <td>1</td>\n",
       "      <td>0</td>\n",
       "      <td>0</td>\n",
       "      <td>0</td>\n",
       "      <td>1</td>\n",
       "    </tr>\n",
       "    <tr>\n",
       "      <th>92239</th>\n",
       "      <td>32</td>\n",
       "      <td>601</td>\n",
       "      <td>5692</td>\n",
       "      <td>628540</td>\n",
       "      <td>0</td>\n",
       "      <td>0</td>\n",
       "      <td>TOWN</td>\n",
       "      <td>Kulathummal (CT)</td>\n",
       "      <td>Urban</td>\n",
       "      <td>36833</td>\n",
       "      <td>...</td>\n",
       "      <td>0</td>\n",
       "      <td>1</td>\n",
       "      <td>0</td>\n",
       "      <td>0</td>\n",
       "      <td>0</td>\n",
       "      <td>1</td>\n",
       "      <td>0</td>\n",
       "      <td>0</td>\n",
       "      <td>0</td>\n",
       "      <td>1</td>\n",
       "    </tr>\n",
       "    <tr>\n",
       "      <th>92240</th>\n",
       "      <td>32</td>\n",
       "      <td>601</td>\n",
       "      <td>5692</td>\n",
       "      <td>628540</td>\n",
       "      <td>1</td>\n",
       "      <td>0</td>\n",
       "      <td>WARD</td>\n",
       "      <td>Kulathummal (CT) WARD NO.-0001</td>\n",
       "      <td>Urban</td>\n",
       "      <td>36833</td>\n",
       "      <td>...</td>\n",
       "      <td>0</td>\n",
       "      <td>1</td>\n",
       "      <td>0</td>\n",
       "      <td>0</td>\n",
       "      <td>0</td>\n",
       "      <td>1</td>\n",
       "      <td>0</td>\n",
       "      <td>0</td>\n",
       "      <td>0</td>\n",
       "      <td>1</td>\n",
       "    </tr>\n",
       "    <tr>\n",
       "      <th>92241</th>\n",
       "      <td>32</td>\n",
       "      <td>601</td>\n",
       "      <td>5692</td>\n",
       "      <td>628541</td>\n",
       "      <td>0</td>\n",
       "      <td>0</td>\n",
       "      <td>TOWN</td>\n",
       "      <td>Malayinkeezhu (CT)</td>\n",
       "      <td>Urban</td>\n",
       "      <td>33999</td>\n",
       "      <td>...</td>\n",
       "      <td>0</td>\n",
       "      <td>1</td>\n",
       "      <td>0</td>\n",
       "      <td>0</td>\n",
       "      <td>0</td>\n",
       "      <td>0</td>\n",
       "      <td>1</td>\n",
       "      <td>0</td>\n",
       "      <td>0</td>\n",
       "      <td>1</td>\n",
       "    </tr>\n",
       "    <tr>\n",
       "      <th>92242</th>\n",
       "      <td>32</td>\n",
       "      <td>601</td>\n",
       "      <td>5692</td>\n",
       "      <td>628541</td>\n",
       "      <td>1</td>\n",
       "      <td>0</td>\n",
       "      <td>WARD</td>\n",
       "      <td>Malayinkeezhu (CT) WARD NO.-0001</td>\n",
       "      <td>Urban</td>\n",
       "      <td>33999</td>\n",
       "      <td>...</td>\n",
       "      <td>0</td>\n",
       "      <td>1</td>\n",
       "      <td>0</td>\n",
       "      <td>0</td>\n",
       "      <td>0</td>\n",
       "      <td>0</td>\n",
       "      <td>1</td>\n",
       "      <td>0</td>\n",
       "      <td>0</td>\n",
       "      <td>1</td>\n",
       "    </tr>\n",
       "    <tr>\n",
       "      <th>92243</th>\n",
       "      <td>32</td>\n",
       "      <td>601</td>\n",
       "      <td>5692</td>\n",
       "      <td>628544</td>\n",
       "      <td>0</td>\n",
       "      <td>0</td>\n",
       "      <td>TOWN</td>\n",
       "      <td>Athiyannur (CT)</td>\n",
       "      <td>Urban</td>\n",
       "      <td>37166</td>\n",
       "      <td>...</td>\n",
       "      <td>0</td>\n",
       "      <td>1</td>\n",
       "      <td>0</td>\n",
       "      <td>0</td>\n",
       "      <td>0</td>\n",
       "      <td>0</td>\n",
       "      <td>1</td>\n",
       "      <td>0</td>\n",
       "      <td>0</td>\n",
       "      <td>1</td>\n",
       "    </tr>\n",
       "    <tr>\n",
       "      <th>92244</th>\n",
       "      <td>32</td>\n",
       "      <td>601</td>\n",
       "      <td>5692</td>\n",
       "      <td>628544</td>\n",
       "      <td>1</td>\n",
       "      <td>0</td>\n",
       "      <td>WARD</td>\n",
       "      <td>Athiyannur (CT) WARD NO.-0001</td>\n",
       "      <td>Urban</td>\n",
       "      <td>37166</td>\n",
       "      <td>...</td>\n",
       "      <td>0</td>\n",
       "      <td>1</td>\n",
       "      <td>0</td>\n",
       "      <td>0</td>\n",
       "      <td>0</td>\n",
       "      <td>0</td>\n",
       "      <td>1</td>\n",
       "      <td>0</td>\n",
       "      <td>0</td>\n",
       "      <td>1</td>\n",
       "    </tr>\n",
       "    <tr>\n",
       "      <th>92245</th>\n",
       "      <td>32</td>\n",
       "      <td>601</td>\n",
       "      <td>5692</td>\n",
       "      <td>628545</td>\n",
       "      <td>0</td>\n",
       "      <td>0</td>\n",
       "      <td>TOWN</td>\n",
       "      <td>Kanjiramkulam (CT)</td>\n",
       "      <td>Urban</td>\n",
       "      <td>18146</td>\n",
       "      <td>...</td>\n",
       "      <td>0</td>\n",
       "      <td>1</td>\n",
       "      <td>0</td>\n",
       "      <td>0</td>\n",
       "      <td>0</td>\n",
       "      <td>0</td>\n",
       "      <td>1</td>\n",
       "      <td>0</td>\n",
       "      <td>0</td>\n",
       "      <td>1</td>\n",
       "    </tr>\n",
       "    <tr>\n",
       "      <th>92246</th>\n",
       "      <td>32</td>\n",
       "      <td>601</td>\n",
       "      <td>5692</td>\n",
       "      <td>628545</td>\n",
       "      <td>1</td>\n",
       "      <td>0</td>\n",
       "      <td>WARD</td>\n",
       "      <td>Kanjiramkulam (CT) WARD NO.-0001</td>\n",
       "      <td>Urban</td>\n",
       "      <td>18146</td>\n",
       "      <td>...</td>\n",
       "      <td>0</td>\n",
       "      <td>1</td>\n",
       "      <td>0</td>\n",
       "      <td>0</td>\n",
       "      <td>0</td>\n",
       "      <td>0</td>\n",
       "      <td>1</td>\n",
       "      <td>0</td>\n",
       "      <td>0</td>\n",
       "      <td>1</td>\n",
       "    </tr>\n",
       "  </tbody>\n",
       "</table>\n",
       "<p>92247 rows × 144 columns</p>\n",
       "</div>"
      ],
      "text/plain": [
       "       State  District  Subdistt  Town/Village  Ward  EB    Level  \\\n",
       "0         10       203      1013        215991     0   0  VILLAGE   \n",
       "1         10       203      1013        215992     0   0  VILLAGE   \n",
       "2         10       203      1013        215993     0   0  VILLAGE   \n",
       "3         10       203      1013        215994     0   0  VILLAGE   \n",
       "4         10       203      1013        215995     0   0  VILLAGE   \n",
       "5         10       203      1013        215996     0   0  VILLAGE   \n",
       "6         10       203      1013        215997     0   0  VILLAGE   \n",
       "7         10       203      1013        215998     0   0  VILLAGE   \n",
       "8         10       203      1013        215999     0   0  VILLAGE   \n",
       "9         10       203      1013        216002     0   0  VILLAGE   \n",
       "10        10       203      1013        216003     0   0  VILLAGE   \n",
       "11        10       203      1013        216006     0   0  VILLAGE   \n",
       "12        10       203      1013        216007     0   0  VILLAGE   \n",
       "13        10       203      1013        216009     0   0  VILLAGE   \n",
       "14        10       203      1013        216014     0   0  VILLAGE   \n",
       "15        10       203      1013        216017     0   0  VILLAGE   \n",
       "16        10       203      1013        216019     0   0  VILLAGE   \n",
       "17        10       203      1013        216023     0   0  VILLAGE   \n",
       "18        10       203      1013        216027     0   0  VILLAGE   \n",
       "19        10       203      1013        216029     0   0  VILLAGE   \n",
       "20        10       203      1013        216031     0   0  VILLAGE   \n",
       "21        10       203      1013        216032     0   0  VILLAGE   \n",
       "22        10       203      1013        216033     0   0  VILLAGE   \n",
       "23        10       203      1013        216039     0   0  VILLAGE   \n",
       "24        10       203      1013        216042     0   0  VILLAGE   \n",
       "25        10       203      1013        216047     0   0  VILLAGE   \n",
       "26        10       203      1013        216049     0   0  VILLAGE   \n",
       "27        10       203      1013        216051     0   0  VILLAGE   \n",
       "28        10       203      1013        216052     0   0  VILLAGE   \n",
       "29        10       203      1013        216053     0   0  VILLAGE   \n",
       "...      ...       ...       ...           ...   ...  ..      ...   \n",
       "92217     32       601      5692        628532     0   0  VILLAGE   \n",
       "92218     32       601      5692        628538     0   0  VILLAGE   \n",
       "92219     32       601      5692        628538     0   0  VILLAGE   \n",
       "92220     32       601      5692        628538     0   0  VILLAGE   \n",
       "92221     32       601      5689        628473     0   0     TOWN   \n",
       "92222     32       601      5689        628473     1   0     WARD   \n",
       "92223     32       601      5689        628474     0   0     TOWN   \n",
       "92224     32       601      5689        628474     1   0     WARD   \n",
       "92225     32       601      5689        628477     0   0     TOWN   \n",
       "92226     32       601      5689        628477     1   0     WARD   \n",
       "92227     32       601      5691        628510     0   0     TOWN   \n",
       "92228     32       601      5691        628510     1   0     WARD   \n",
       "92229     32       601      5691        628513     0   0     TOWN   \n",
       "92230     32       601      5691        628513     1   0     WARD   \n",
       "92231     32       601      5691        628515     1   0     WARD   \n",
       "92232     32       601      5691        628515     1   0     WARD   \n",
       "92233     32       601      5691        628516     0   0     TOWN   \n",
       "92234     32       601      5691        628516     0   0     TOWN   \n",
       "92235     32       601      5691        628516     1   0     WARD   \n",
       "92236     32       601      5691        628516     1   0     WARD   \n",
       "92237     32       601      5691        628518     0   0     TOWN   \n",
       "92238     32       601      5691        628518     1   0     WARD   \n",
       "92239     32       601      5692        628540     0   0     TOWN   \n",
       "92240     32       601      5692        628540     1   0     WARD   \n",
       "92241     32       601      5692        628541     0   0     TOWN   \n",
       "92242     32       601      5692        628541     1   0     WARD   \n",
       "92243     32       601      5692        628544     0   0     TOWN   \n",
       "92244     32       601      5692        628544     1   0     WARD   \n",
       "92245     32       601      5692        628545     0   0     TOWN   \n",
       "92246     32       601      5692        628545     1   0     WARD   \n",
       "\n",
       "                                     Name    TRU  ELG_POP  ...    CHH_4  FC_1  \\\n",
       "0                                  Tharhi  Rural     2174  ...        1     1   \n",
       "1                                   Pipra  Rural     1459  ...        0     1   \n",
       "2                                Kotaraha  Rural      648  ...        0     1   \n",
       "3                                Rampurwa  Rural     3415  ...        0     1   \n",
       "4                              Lachhmipur  Rural     1597  ...        0     1   \n",
       "5                               Daruabari  Rural     1371  ...        0     1   \n",
       "6                                 Santpur  Rural     1265  ...        0     1   \n",
       "7                                 Soharia  Rural     2717  ...        0     1   \n",
       "8                                Parsauni  Rural     3882  ...        0     1   \n",
       "9                                Shiunaha  Rural     1283  ...        0     1   \n",
       "10                              Champapur  Rural     2128  ...        0     1   \n",
       "11                               Malkauli  Rural      828  ...        0     1   \n",
       "12                                  Gorar  Rural      506  ...        0     1   \n",
       "13                                  Pipra  Rural     1212  ...        0     1   \n",
       "14                             Naurangiya  Rural     2626  ...        0     1   \n",
       "15                               Ghurauli  Rural     1371  ...        0     0   \n",
       "16                                  Mohna  Rural     2898  ...        0     0   \n",
       "17                                Dewtaha  Rural      750  ...        0     0   \n",
       "18                              Harnatanr  Rural     3319  ...        0     1   \n",
       "19                          Bairiya Kalan  Rural     1819  ...        0     1   \n",
       "20                              Chhatraul  Rural     2168  ...        0     0   \n",
       "21                               Garkatti  Rural      917  ...        0     1   \n",
       "22                                  Jarar  Rural     2216  ...        0     1   \n",
       "23                               Madanpur  Rural     2572  ...        0     1   \n",
       "24                          Naakar Rampur  Rural     1477  ...        1     0   \n",
       "25                               Dudhaura  Rural     1384  ...        0     1   \n",
       "26                                Budhsar  Rural     1083  ...        1     0   \n",
       "27                                Sidhawa  Rural     1666  ...        0     1   \n",
       "28                             Naraingarh  Rural      925  ...        0     0   \n",
       "29                               Behuarwa  Rural     1667  ...        0     0   \n",
       "...                                   ...    ...      ...  ...      ...   ...   \n",
       "92217                              Karode  Rural    28700  ...        0     1   \n",
       "92218                    Vizhinjam (Part)  Rural    18759  ...        0     1   \n",
       "92219                    Vizhinjam (Part)  Rural    18759  ...        0     1   \n",
       "92220                    Vizhinjam (Part)  Rural    18759  ...        0     1   \n",
       "92221                       Alamcode (CT)  Urban    13210  ...        0     1   \n",
       "92222         Alamcode (CT) WARD NO.-0001  Urban    13210  ...        0     1   \n",
       "92223                  Keezhattingal (CT)  Urban    13666  ...        0     0   \n",
       "92224    Keezhattingal (CT) WARD NO.-0001  Urban    13666  ...        0     0   \n",
       "92225                       Edakkode (CT)  Urban    11667  ...        0     0   \n",
       "92226         Edakkode (CT) WARD NO.-0001  Urban    11667  ...        0     0   \n",
       "92227                        Veiloor (CT)  Urban    20458  ...        0     0   \n",
       "92228          Veiloor (CT) WARD NO.-0001  Urban    20458  ...        0     0   \n",
       "92229                  Uliyazhathura (CT)  Urban    25854  ...        0     0   \n",
       "92230    Uliyazhathura (CT) WARD NO.-0001  Urban    25854  ...        0     0   \n",
       "92231  Kudappanakkunnu (CT) WARD NO.-0001  Urban    38489  ...        0     0   \n",
       "92232  Kudappanakkunnu (CT) WARD NO.-0001  Urban    38489  ...        0     0   \n",
       "92233                  Vattiyoorkavu (CT)  Urban    43249  ...        0     0   \n",
       "92234                  Vattiyoorkavu (CT)  Urban    43249  ...        0     0   \n",
       "92235    Vattiyoorkavu (CT) WARD NO.-0001  Urban    43249  ...        0     0   \n",
       "92236    Vattiyoorkavu (CT) WARD NO.-0001  Urban    43249  ...        0     0   \n",
       "92237                      Venganoor (CT)  Urban    32803  ...        0     1   \n",
       "92238        Venganoor (CT) WARD NO.-0001  Urban    32803  ...        0     1   \n",
       "92239                    Kulathummal (CT)  Urban    36833  ...        0     1   \n",
       "92240      Kulathummal (CT) WARD NO.-0001  Urban    36833  ...        0     1   \n",
       "92241                  Malayinkeezhu (CT)  Urban    33999  ...        0     1   \n",
       "92242    Malayinkeezhu (CT) WARD NO.-0001  Urban    33999  ...        0     1   \n",
       "92243                     Athiyannur (CT)  Urban    37166  ...        0     1   \n",
       "92244       Athiyannur (CT) WARD NO.-0001  Urban    37166  ...        0     1   \n",
       "92245                  Kanjiramkulam (CT)  Urban    18146  ...        0     1   \n",
       "92246    Kanjiramkulam (CT) WARD NO.-0001  Urban    18146  ...        0     1   \n",
       "\n",
       "       FC_2  FC_3  BF_1  BF_2  BF_3  EMP_1  EMP_2  EMP_3  \n",
       "0         0     0     1     0     0      0      1      0  \n",
       "1         0     0     1     0     0      0      1      0  \n",
       "2         0     0     1     0     0      1      0      0  \n",
       "3         0     0     1     0     0      1      0      0  \n",
       "4         0     0     1     0     0      0      1      0  \n",
       "5         0     0     1     0     0      0      1      0  \n",
       "6         0     0     1     0     0      0      1      0  \n",
       "7         0     0     1     0     0      1      0      0  \n",
       "8         0     0     1     0     0      0      1      0  \n",
       "9         0     0     1     0     0      0      1      0  \n",
       "10        0     0     1     0     0      0      1      0  \n",
       "11        0     0     1     0     0      0      1      0  \n",
       "12        0     0     1     0     0      0      1      0  \n",
       "13        0     0     1     0     0      0      1      0  \n",
       "14        0     0     1     0     0      0      1      0  \n",
       "15        1     0     1     0     0      0      1      0  \n",
       "16        1     0     1     0     0      0      1      0  \n",
       "17        1     0     1     0     0      0      1      0  \n",
       "18        0     0     1     0     0      1      0      0  \n",
       "19        0     0     1     0     0      0      1      0  \n",
       "20        1     0     1     0     0      1      0      0  \n",
       "21        0     0     1     0     0      0      1      0  \n",
       "22        0     0     1     0     0      0      1      0  \n",
       "23        0     0     1     0     0      1      0      0  \n",
       "24        1     0     1     0     0      1      0      0  \n",
       "25        0     0     1     0     0      1      0      0  \n",
       "26        1     0     1     0     0      1      0      0  \n",
       "27        0     0     1     0     0      0      1      0  \n",
       "28        1     0     1     0     0      0      1      0  \n",
       "29        1     0     1     0     0      0      1      0  \n",
       "...     ...   ...   ...   ...   ...    ...    ...    ...  \n",
       "92217     0     0     0     1     0      0      0      1  \n",
       "92218     0     0     0     1     0      0      0      1  \n",
       "92219     0     0     0     1     0      0      0      1  \n",
       "92220     0     0     0     1     0      0      0      1  \n",
       "92221     0     0     0     1     0      0      0      1  \n",
       "92222     0     0     0     1     0      0      0      1  \n",
       "92223     0     1     0     0     1      0      0      1  \n",
       "92224     0     1     0     0     1      0      0      1  \n",
       "92225     0     1     0     1     0      0      0      1  \n",
       "92226     0     1     0     1     0      0      0      1  \n",
       "92227     0     1     0     0     1      0      0      1  \n",
       "92228     0     1     0     0     1      0      0      1  \n",
       "92229     0     1     0     0     1      0      0      1  \n",
       "92230     0     1     0     0     1      0      0      1  \n",
       "92231     0     1     0     0     1      0      0      1  \n",
       "92232     0     1     0     0     1      0      0      1  \n",
       "92233     0     1     0     0     1      0      0      1  \n",
       "92234     0     1     0     0     1      0      0      1  \n",
       "92235     0     1     0     0     1      0      0      1  \n",
       "92236     0     1     0     0     1      0      0      1  \n",
       "92237     0     0     0     1     0      0      0      1  \n",
       "92238     0     0     0     1     0      0      0      1  \n",
       "92239     0     0     0     1     0      0      0      1  \n",
       "92240     0     0     0     1     0      0      0      1  \n",
       "92241     0     0     0     0     1      0      0      1  \n",
       "92242     0     0     0     0     1      0      0      1  \n",
       "92243     0     0     0     0     1      0      0      1  \n",
       "92244     0     0     0     0     1      0      0      1  \n",
       "92245     0     0     0     0     1      0      0      1  \n",
       "92246     0     0     0     0     1      0      0      1  \n",
       "\n",
       "[92247 rows x 144 columns]"
      ]
     },
     "execution_count": 12,
     "metadata": {},
     "output_type": "execute_result"
    }
   ],
   "source": [
    "df_train"
   ]
  },
  {
   "cell_type": "code",
   "execution_count": 13,
   "metadata": {
    "collapsed": true
   },
   "outputs": [],
   "source": [
    "df_cv = get_dummies(df_cv)"
   ]
  },
  {
   "cell_type": "code",
   "execution_count": 14,
   "metadata": {
    "collapsed": true
   },
   "outputs": [],
   "source": [
    "cols=list(df_train)"
   ]
  },
  {
   "cell_type": "code",
   "execution_count": 15,
   "metadata": {
    "scrolled": true
   },
   "outputs": [
    {
     "data": {
      "text/plain": [
       "['State',\n",
       " 'District',\n",
       " 'Subdistt',\n",
       " 'Town/Village',\n",
       " 'Ward',\n",
       " 'EB',\n",
       " 'Level',\n",
       " 'Name',\n",
       " 'TRU',\n",
       " 'ELG_POP',\n",
       " 'No_HH',\n",
       " 'BF_RUD',\n",
       " 'BF_INT',\n",
       " 'BF_ADV',\n",
       " 'CHH_RUD',\n",
       " 'CHH_INT',\n",
       " 'CHH_ADV',\n",
       " 'FC_RUD',\n",
       " 'FC_INT',\n",
       " 'FC_ADV',\n",
       " 'MSL_INT',\n",
       " 'MSL_ADV',\n",
       " 'MSW_RUD',\n",
       " 'MSW_INT',\n",
       " 'MSW_ADV',\n",
       " 'EMP_AL',\n",
       " 'EMP_NAL',\n",
       " 'EMP_UN',\n",
       " 'Village',\n",
       " 'Village_HHD_Cluster_MSL',\n",
       " 'District_HHD_Cluster_MSL',\n",
       " 'Village_HHD_Cluster_MSW',\n",
       " 'District_HHD_Cluster_MSW',\n",
       " 'Village_HHD_Cluster_CHH',\n",
       " 'District_HHD_Cluster_CHH',\n",
       " 'Village_HHD_Cluster_FC',\n",
       " 'District_HHD_Cluster_FC',\n",
       " 'Village_HHD_Cluster_BF',\n",
       " 'District_HHD_Cluster_BF',\n",
       " 'Village_HHD_Cluster_EMP',\n",
       " 'District_HHD_Cluster_EMP',\n",
       " 'UID',\n",
       " 'village_code_2011',\n",
       " 'DN_0',\n",
       " 'DN_1',\n",
       " 'DN_10',\n",
       " 'DN_11',\n",
       " 'DN_12',\n",
       " 'DN_13',\n",
       " 'DN_14',\n",
       " 'DN_15',\n",
       " 'DN_16',\n",
       " 'DN_17',\n",
       " 'DN_18',\n",
       " 'DN_19',\n",
       " 'DN_2',\n",
       " 'DN_20',\n",
       " 'DN_21',\n",
       " 'DN_22',\n",
       " 'DN_23',\n",
       " 'DN_24',\n",
       " 'DN_25',\n",
       " 'DN_26',\n",
       " 'DN_27',\n",
       " 'DN_28',\n",
       " 'DN_29',\n",
       " 'DN_3',\n",
       " 'DN_30',\n",
       " 'DN_31',\n",
       " 'DN_32',\n",
       " 'DN_33',\n",
       " 'DN_34',\n",
       " 'DN_35',\n",
       " 'DN_36',\n",
       " 'DN_37',\n",
       " 'DN_38',\n",
       " 'DN_39',\n",
       " 'DN_4',\n",
       " 'DN_40',\n",
       " 'DN_41',\n",
       " 'DN_42',\n",
       " 'DN_43',\n",
       " 'DN_44',\n",
       " 'DN_45',\n",
       " 'DN_46',\n",
       " 'DN_47',\n",
       " 'DN_48',\n",
       " 'DN_49',\n",
       " 'DN_5',\n",
       " 'DN_50',\n",
       " 'DN_51',\n",
       " 'DN_52',\n",
       " 'DN_53',\n",
       " 'DN_54',\n",
       " 'DN_55',\n",
       " 'DN_56',\n",
       " 'DN_57',\n",
       " 'DN_58',\n",
       " 'DN_59',\n",
       " 'DN_6',\n",
       " 'DN_60',\n",
       " 'DN_61',\n",
       " 'DN_62',\n",
       " 'DN_63',\n",
       " 'DN_7',\n",
       " 'DN_8',\n",
       " 'DN_9',\n",
       " 'mean',\n",
       " 'sum',\n",
       " 'Water',\n",
       " 'Evergreen Needleleaf forest',\n",
       " 'Evergreen Broadleaf forest',\n",
       " 'Deciduous Needleleaf forest',\n",
       " 'Deciduous Broadleaf forest',\n",
       " 'Mixed forest',\n",
       " 'Closed shrublands',\n",
       " 'Open shrublands',\n",
       " 'Woody savannas',\n",
       " 'Savannas',\n",
       " 'Grasslands',\n",
       " 'Permanent wetlands',\n",
       " 'Croplands',\n",
       " 'Urban and built-up',\n",
       " 'Cropland/Natural vegetation mosaic',\n",
       " 'Barren or sparsely vegetated',\n",
       " 'MSL_1',\n",
       " 'MSL_2',\n",
       " 'MSL_3',\n",
       " 'MSW_1',\n",
       " 'MSW_2',\n",
       " 'MSW_3',\n",
       " 'CHH_1',\n",
       " 'CHH_2',\n",
       " 'CHH_3',\n",
       " 'CHH_4',\n",
       " 'FC_1',\n",
       " 'FC_2',\n",
       " 'FC_3',\n",
       " 'BF_1',\n",
       " 'BF_2',\n",
       " 'BF_3',\n",
       " 'EMP_1',\n",
       " 'EMP_2',\n",
       " 'EMP_3']"
      ]
     },
     "execution_count": 15,
     "metadata": {},
     "output_type": "execute_result"
    }
   ],
   "source": [
    "cols"
   ]
  },
  {
   "cell_type": "code",
   "execution_count": 16,
   "metadata": {
    "collapsed": true
   },
   "outputs": [],
   "source": [
    "var = cols[cols.index('mean'):cols.index('Barren or sparsely vegetated')+1]"
   ]
  },
  {
   "cell_type": "code",
   "execution_count": 17,
   "metadata": {
    "collapsed": true
   },
   "outputs": [],
   "source": [
    "nl_cols = cols[cols.index('DN_0'):cols.index('mean')]"
   ]
  },
  {
   "cell_type": "code",
   "execution_count": 18,
   "metadata": {
    "scrolled": true
   },
   "outputs": [
    {
     "data": {
      "text/plain": [
       "['mean',\n",
       " 'sum',\n",
       " 'Water',\n",
       " 'Evergreen Needleleaf forest',\n",
       " 'Evergreen Broadleaf forest',\n",
       " 'Deciduous Needleleaf forest',\n",
       " 'Deciduous Broadleaf forest',\n",
       " 'Mixed forest',\n",
       " 'Closed shrublands',\n",
       " 'Open shrublands',\n",
       " 'Woody savannas',\n",
       " 'Savannas',\n",
       " 'Grasslands',\n",
       " 'Permanent wetlands',\n",
       " 'Croplands',\n",
       " 'Urban and built-up',\n",
       " 'Cropland/Natural vegetation mosaic',\n",
       " 'Barren or sparsely vegetated']"
      ]
     },
     "execution_count": 18,
     "metadata": {},
     "output_type": "execute_result"
    }
   ],
   "source": [
    "var"
   ]
  },
  {
   "cell_type": "code",
   "execution_count": 19,
   "metadata": {
    "collapsed": true
   },
   "outputs": [],
   "source": [
    "## finding the area:"
   ]
  },
  {
   "cell_type": "code",
   "execution_count": 20,
   "metadata": {
    "collapsed": true
   },
   "outputs": [],
   "source": [
    "def find_Area(df_):\n",
    "    df_['Area'] = df_[nl_cols].sum(axis=1)\n",
    "    df_ = df_.loc[df_['Area'] > 0]\n",
    "    return df_"
   ]
  },
  {
   "cell_type": "code",
   "execution_count": 21,
   "metadata": {
    "collapsed": true
   },
   "outputs": [],
   "source": [
    "## building features out of modis data"
   ]
  },
  {
   "cell_type": "code",
   "execution_count": 70,
   "metadata": {
    "collapsed": true
   },
   "outputs": [],
   "source": [
    "def modis_newFeature(df_):\n",
    "    df_['Urban and built-up']=df_['Urban and built-up']+1\n",
    "    df_['CropRatio']=(df_['Croplands']+df_['Cropland/Natural vegetation mosaic'])/df_['Area']\n",
    "    df_['AvgUrbanNTL']=df_['sum']/df_['Urban and built-up']\n",
    "    df_['UrbanRatio']= df_['Urban and built-up']/df_['Area']\n",
    "\n",
    "    df_['Natural']= 0\n",
    "    for i in ['Water','Evergreen Needleleaf forest','Evergreen Broadleaf forest','Deciduous Needleleaf forest','Deciduous Broadleaf forest','Mixed forest','Closed shrublands','Open shrublands','Woody savannas','Savannas','Grasslands','Permanent wetlands']:\n",
    "        df_['Natural']=df_['Natural']+df_[i]\n",
    "\n",
    "    df_['CropRemainRatio']=(df_['Croplands']+df_['Cropland/Natural vegetation mosaic'])/(df_['Area']-df_['Natural'])\n",
    "    df_['UrbanRemainRatio']=df_['Urban and built-up']/(df_['Area']-df_['Natural'])\n",
    "    #df_['UrbanRatio']=df_['UrbanRatio'].fillna(0)\n",
    "    \n",
    "    df_['forest'] = df_[modi_var[1:6]].sum(axis=1)\n",
    "    \n",
    "    #grass_shrubs consists of shrblands,savansas and grasslands\n",
    "    df_['grass_shrubs'] = df_[modi_var[6:11]].sum(axis=1)\n",
    "        \n",
    "    df_['wet'] = df_[['Water', 'Permanent wetlands']].sum(axis=1)\n",
    "    for i in modi_var+['Natural','forest','grass_shrubs','wet']:\n",
    "        df_['mod_'+i]=df_[i]/df_['Area']\n",
    "    return df_"
   ]
  },
  {
   "cell_type": "code",
   "execution_count": 23,
   "metadata": {
    "collapsed": true
   },
   "outputs": [],
   "source": [
    "modi_var = var[2:]"
   ]
  },
  {
   "cell_type": "code",
   "execution_count": 24,
   "metadata": {},
   "outputs": [
    {
     "data": {
      "text/plain": [
       "['Water',\n",
       " 'Evergreen Needleleaf forest',\n",
       " 'Evergreen Broadleaf forest',\n",
       " 'Deciduous Needleleaf forest',\n",
       " 'Deciduous Broadleaf forest',\n",
       " 'Mixed forest',\n",
       " 'Closed shrublands',\n",
       " 'Open shrublands',\n",
       " 'Woody savannas',\n",
       " 'Savannas',\n",
       " 'Grasslands',\n",
       " 'Permanent wetlands',\n",
       " 'Croplands',\n",
       " 'Urban and built-up',\n",
       " 'Cropland/Natural vegetation mosaic',\n",
       " 'Barren or sparsely vegetated']"
      ]
     },
     "execution_count": 24,
     "metadata": {},
     "output_type": "execute_result"
    }
   ],
   "source": [
    "modi_var"
   ]
  },
  {
   "cell_type": "code",
   "execution_count": 71,
   "metadata": {},
   "outputs": [],
   "source": [
    "df_train = find_Area(df_train)\n",
    "df_train = modis_newFeature(df_train)\n",
    "\n",
    "df_cv = find_Area(df_cv)\n",
    "df_cv = modis_newFeature(df_cv)"
   ]
  },
  {
   "cell_type": "code",
   "execution_count": 26,
   "metadata": {
    "scrolled": true
   },
   "outputs": [
    {
     "data": {
      "text/plain": [
       "count    92208.000000\n",
       "mean         2.164476\n",
       "std          4.279691\n",
       "min          0.003495\n",
       "25%          0.609247\n",
       "50%          1.288503\n",
       "75%          2.570167\n",
       "max        709.454133\n",
       "Name: Area, dtype: float64"
      ]
     },
     "execution_count": 26,
     "metadata": {},
     "output_type": "execute_result"
    }
   ],
   "source": [
    "df_train['Area'].describe()"
   ]
  },
  {
   "cell_type": "code",
   "execution_count": 27,
   "metadata": {
    "collapsed": true
   },
   "outputs": [],
   "source": [
    "cols = df_train.columns.tolist()"
   ]
  },
  {
   "cell_type": "code",
   "execution_count": 28,
   "metadata": {},
   "outputs": [
    {
     "data": {
      "text/plain": [
       "['State',\n",
       " 'District',\n",
       " 'Subdistt',\n",
       " 'Town/Village',\n",
       " 'Ward',\n",
       " 'EB',\n",
       " 'Level',\n",
       " 'Name',\n",
       " 'TRU',\n",
       " 'ELG_POP',\n",
       " 'No_HH',\n",
       " 'BF_RUD',\n",
       " 'BF_INT',\n",
       " 'BF_ADV',\n",
       " 'CHH_RUD',\n",
       " 'CHH_INT',\n",
       " 'CHH_ADV',\n",
       " 'FC_RUD',\n",
       " 'FC_INT',\n",
       " 'FC_ADV',\n",
       " 'MSL_INT',\n",
       " 'MSL_ADV',\n",
       " 'MSW_RUD',\n",
       " 'MSW_INT',\n",
       " 'MSW_ADV',\n",
       " 'EMP_AL',\n",
       " 'EMP_NAL',\n",
       " 'EMP_UN',\n",
       " 'Village',\n",
       " 'Village_HHD_Cluster_MSL',\n",
       " 'District_HHD_Cluster_MSL',\n",
       " 'Village_HHD_Cluster_MSW',\n",
       " 'District_HHD_Cluster_MSW',\n",
       " 'Village_HHD_Cluster_CHH',\n",
       " 'District_HHD_Cluster_CHH',\n",
       " 'Village_HHD_Cluster_FC',\n",
       " 'District_HHD_Cluster_FC',\n",
       " 'Village_HHD_Cluster_BF',\n",
       " 'District_HHD_Cluster_BF',\n",
       " 'Village_HHD_Cluster_EMP',\n",
       " 'District_HHD_Cluster_EMP',\n",
       " 'UID',\n",
       " 'village_code_2011',\n",
       " 'DN_0',\n",
       " 'DN_1',\n",
       " 'DN_10',\n",
       " 'DN_11',\n",
       " 'DN_12',\n",
       " 'DN_13',\n",
       " 'DN_14',\n",
       " 'DN_15',\n",
       " 'DN_16',\n",
       " 'DN_17',\n",
       " 'DN_18',\n",
       " 'DN_19',\n",
       " 'DN_2',\n",
       " 'DN_20',\n",
       " 'DN_21',\n",
       " 'DN_22',\n",
       " 'DN_23',\n",
       " 'DN_24',\n",
       " 'DN_25',\n",
       " 'DN_26',\n",
       " 'DN_27',\n",
       " 'DN_28',\n",
       " 'DN_29',\n",
       " 'DN_3',\n",
       " 'DN_30',\n",
       " 'DN_31',\n",
       " 'DN_32',\n",
       " 'DN_33',\n",
       " 'DN_34',\n",
       " 'DN_35',\n",
       " 'DN_36',\n",
       " 'DN_37',\n",
       " 'DN_38',\n",
       " 'DN_39',\n",
       " 'DN_4',\n",
       " 'DN_40',\n",
       " 'DN_41',\n",
       " 'DN_42',\n",
       " 'DN_43',\n",
       " 'DN_44',\n",
       " 'DN_45',\n",
       " 'DN_46',\n",
       " 'DN_47',\n",
       " 'DN_48',\n",
       " 'DN_49',\n",
       " 'DN_5',\n",
       " 'DN_50',\n",
       " 'DN_51',\n",
       " 'DN_52',\n",
       " 'DN_53',\n",
       " 'DN_54',\n",
       " 'DN_55',\n",
       " 'DN_56',\n",
       " 'DN_57',\n",
       " 'DN_58',\n",
       " 'DN_59',\n",
       " 'DN_6',\n",
       " 'DN_60',\n",
       " 'DN_61',\n",
       " 'DN_62',\n",
       " 'DN_63',\n",
       " 'DN_7',\n",
       " 'DN_8',\n",
       " 'DN_9',\n",
       " 'mean',\n",
       " 'sum',\n",
       " 'Water',\n",
       " 'Evergreen Needleleaf forest',\n",
       " 'Evergreen Broadleaf forest',\n",
       " 'Deciduous Needleleaf forest',\n",
       " 'Deciduous Broadleaf forest',\n",
       " 'Mixed forest',\n",
       " 'Closed shrublands',\n",
       " 'Open shrublands',\n",
       " 'Woody savannas',\n",
       " 'Savannas',\n",
       " 'Grasslands',\n",
       " 'Permanent wetlands',\n",
       " 'Croplands',\n",
       " 'Urban and built-up',\n",
       " 'Cropland/Natural vegetation mosaic',\n",
       " 'Barren or sparsely vegetated',\n",
       " 'MSL_1',\n",
       " 'MSL_2',\n",
       " 'MSL_3',\n",
       " 'MSW_1',\n",
       " 'MSW_2',\n",
       " 'MSW_3',\n",
       " 'CHH_1',\n",
       " 'CHH_2',\n",
       " 'CHH_3',\n",
       " 'CHH_4',\n",
       " 'FC_1',\n",
       " 'FC_2',\n",
       " 'FC_3',\n",
       " 'BF_1',\n",
       " 'BF_2',\n",
       " 'BF_3',\n",
       " 'EMP_1',\n",
       " 'EMP_2',\n",
       " 'EMP_3',\n",
       " 'Area',\n",
       " 'CropRatio',\n",
       " 'AvgUrbanNTL',\n",
       " 'UrbanRatio',\n",
       " 'Natural',\n",
       " 'CropRemainRatio',\n",
       " 'UrbanRemainRatio',\n",
       " 'forest',\n",
       " 'grass_shrubs',\n",
       " 'wet',\n",
       " 'mod_Water',\n",
       " 'mod_Evergreen Needleleaf forest',\n",
       " 'mod_Evergreen Broadleaf forest',\n",
       " 'mod_Deciduous Needleleaf forest',\n",
       " 'mod_Deciduous Broadleaf forest',\n",
       " 'mod_Mixed forest',\n",
       " 'mod_Closed shrublands',\n",
       " 'mod_Open shrublands',\n",
       " 'mod_Woody savannas',\n",
       " 'mod_Savannas',\n",
       " 'mod_Grasslands',\n",
       " 'mod_Permanent wetlands',\n",
       " 'mod_Croplands',\n",
       " 'mod_Urban and built-up',\n",
       " 'mod_Cropland/Natural vegetation mosaic',\n",
       " 'mod_Barren or sparsely vegetated',\n",
       " 'mod_Natural',\n",
       " 'mod_forest',\n",
       " 'mod_grass_shrubs',\n",
       " 'mod_wet']"
      ]
     },
     "execution_count": 28,
     "metadata": {},
     "output_type": "execute_result"
    }
   ],
   "source": [
    "cols"
   ]
  },
  {
   "cell_type": "code",
   "execution_count": 29,
   "metadata": {
    "collapsed": true
   },
   "outputs": [],
   "source": [
    "idx_enforest = cols.index('Evergreen Needleleaf forest')"
   ]
  },
  {
   "cell_type": "code",
   "execution_count": 30,
   "metadata": {
    "collapsed": true
   },
   "outputs": [],
   "source": [
    "idx_perWetLands = cols.index('Permanent wetlands')"
   ]
  },
  {
   "cell_type": "code",
   "execution_count": null,
   "metadata": {},
   "outputs": [],
   "source": []
  },
  {
   "cell_type": "code",
   "execution_count": null,
   "metadata": {
    "collapsed": true
   },
   "outputs": [],
   "source": [
    "cols"
   ]
  },
  {
   "cell_type": "code",
   "execution_count": null,
   "metadata": {
    "collapsed": true
   },
   "outputs": [],
   "source": [
    "def rearrange_cols(df_):\n",
    "    idx_uid = cols.index('UID')\n",
    "    idx_mean = cols.index('mean')\n",
    "    idx_area = cols.index('Area')\n",
    "    idx_msl1 = cols.index('MSL_1')\n",
    "    cols_rearranged = cols[idx_uid:idx_uid+2] + cols[:idx_uid] + cols[idx_uid+2:idx_mean] + ['Area'] + cols[idx_mean:idx_msl1]+  cols[idx_area+1:] + cols[idx_msl1:idx_area]\n",
    "\n",
    "    df_ = df_[cols_rearranged]\n",
    "    return df_"
   ]
  },
  {
   "cell_type": "code",
   "execution_count": null,
   "metadata": {
    "collapsed": true
   },
   "outputs": [],
   "source": [
    "df_train = rearrange_cols(df_train)\n",
    "df_cv = rearrange_cols(df_cv)"
   ]
  },
  {
   "cell_type": "code",
   "execution_count": null,
   "metadata": {
    "collapsed": true
   },
   "outputs": [],
   "source": []
  },
  {
   "cell_type": "code",
   "execution_count": null,
   "metadata": {
    "collapsed": true
   },
   "outputs": [],
   "source": [
    "cols = df_train.columns.tolist()"
   ]
  },
  {
   "cell_type": "code",
   "execution_count": null,
   "metadata": {},
   "outputs": [],
   "source": [
    "cols"
   ]
  },
  {
   "cell_type": "code",
   "execution_count": 69,
   "metadata": {
    "collapsed": true
   },
   "outputs": [],
   "source": [
    "var = ['mean',\n",
    " 'sum',\n",
    " 'Croplands',\n",
    " 'Urban and built-up',\n",
    " 'Cropland/Natural vegetation mosaic',\n",
    " 'Barren or sparsely vegetated',\n",
    " 'CropRatio',\n",
    " 'AvgUrbanNTL',\n",
    " 'UrbanRatio',\n",
    " 'Natural',\n",
    " 'CropRemainRatio',\n",
    " 'UrbanRemainRatio',\n",
    " 'forest',\n",
    " 'grass_shrubs',\n",
    " 'mod_Croplands',\n",
    " 'mod_Urban and built-up',\n",
    " 'mod_Cropland/Natural vegetation mosaic',\n",
    " 'mod_Barren or sparsely vegetated',\n",
    " 'mod_forest',\n",
    " 'mod_grass_shrubs',\n",
    " 'mod_Natural']"
   ]
  },
  {
   "cell_type": "code",
   "execution_count": null,
   "metadata": {
    "collapsed": true
   },
   "outputs": [],
   "source": [
    "#var = cols[cols.index('mean'):cols.index('MSL_1')]"
   ]
  },
  {
   "cell_type": "code",
   "execution_count": 65,
   "metadata": {},
   "outputs": [],
   "source": [
    "X_train = df_train[var].values\n",
    "X_cv = df_cv[var].values"
   ]
  },
  {
   "cell_type": "code",
   "execution_count": 35,
   "metadata": {
    "collapsed": true
   },
   "outputs": [],
   "source": [
    "labels = cols[cols.index('MSL_1'):cols.index('Area')]"
   ]
  },
  {
   "cell_type": "code",
   "execution_count": 36,
   "metadata": {},
   "outputs": [
    {
     "data": {
      "text/plain": [
       "['MSL_1',\n",
       " 'MSL_2',\n",
       " 'MSL_3',\n",
       " 'MSW_1',\n",
       " 'MSW_2',\n",
       " 'MSW_3',\n",
       " 'CHH_1',\n",
       " 'CHH_2',\n",
       " 'CHH_3',\n",
       " 'CHH_4',\n",
       " 'FC_1',\n",
       " 'FC_2',\n",
       " 'FC_3',\n",
       " 'BF_1',\n",
       " 'BF_2',\n",
       " 'BF_3',\n",
       " 'EMP_1',\n",
       " 'EMP_2',\n",
       " 'EMP_3']"
      ]
     },
     "execution_count": 36,
     "metadata": {},
     "output_type": "execute_result"
    }
   ],
   "source": [
    "labels"
   ]
  },
  {
   "cell_type": "code",
   "execution_count": 37,
   "metadata": {
    "scrolled": false
   },
   "outputs": [
    {
     "name": "stdout",
     "output_type": "stream",
     "text": [
      "MSL_1\n",
      "\n",
      "MSL_2\n",
      "\n",
      "MSL_3\n",
      "\n",
      "MSW_1\n",
      "\n",
      "MSW_2\n",
      "\n",
      "MSW_3\n",
      "\n",
      "CHH_1\n",
      "\n",
      "CHH_2\n",
      "\n",
      "CHH_3\n",
      "\n",
      "CHH_4\n",
      "\n",
      "FC_1\n",
      "\n",
      "FC_2\n",
      "\n"
     ]
    },
    {
     "name": "stderr",
     "output_type": "stream",
     "text": [
      "/home/deva/anaconda2/lib/python2.7/site-packages/sklearn/metrics/classification.py:1135: UndefinedMetricWarning: F-score is ill-defined and being set to 0.0 due to no predicted samples.\n",
      "  'precision', 'predicted', average, warn_for)\n",
      "/home/deva/anaconda2/lib/python2.7/site-packages/sklearn/metrics/classification.py:1135: UndefinedMetricWarning: Precision is ill-defined and being set to 0.0 due to no predicted samples.\n",
      "  'precision', 'predicted', average, warn_for)\n"
     ]
    },
    {
     "name": "stdout",
     "output_type": "stream",
     "text": [
      "FC_3\n",
      "\n",
      "BF_1\n",
      "\n",
      "BF_2\n",
      "\n",
      "BF_3\n",
      "\n",
      "EMP_1\n",
      "\n",
      "EMP_2\n",
      "\n",
      "EMP_3\n",
      "\n"
     ]
    }
   ],
   "source": [
    "df = pd.DataFrame(columns=['accuracy','f1_score','recall','precision'])\n",
    "for label in labels:\n",
    "    y_train = df_train[label]\n",
    "    y_cv = df_cv[label]\n",
    "\n",
    "    model = xgb.XGBClassifier()\n",
    "    fit = model.fit(X_train,y_train)\n",
    "    y_pred = fit.predict(X_cv)\n",
    "\n",
    "    accuracy = metrics.accuracy_score(y_cv,y_pred)\n",
    "    f1 = metrics.f1_score(y_cv,y_pred)\n",
    "    recall_ = metrics.recall_score(y_cv,y_pred)\n",
    "    precision_ = metrics.precision_score(y_cv,y_pred)\n",
    "    \n",
    "    print label\n",
    "    #print metrics.confusion_matrix(y_cv,y_pred)\n",
    "    print\n",
    "    \n",
    "    df.loc[label] = [accuracy,f1,recall_,precision_]"
   ]
  },
  {
   "cell_type": "code",
   "execution_count": 38,
   "metadata": {},
   "outputs": [
    {
     "data": {
      "text/html": [
       "<div>\n",
       "<style>\n",
       "    .dataframe thead tr:only-child th {\n",
       "        text-align: right;\n",
       "    }\n",
       "\n",
       "    .dataframe thead th {\n",
       "        text-align: left;\n",
       "    }\n",
       "\n",
       "    .dataframe tbody tr th {\n",
       "        vertical-align: top;\n",
       "    }\n",
       "</style>\n",
       "<table border=\"1\" class=\"dataframe\">\n",
       "  <thead>\n",
       "    <tr style=\"text-align: right;\">\n",
       "      <th></th>\n",
       "      <th>accuracy</th>\n",
       "      <th>f1_score</th>\n",
       "      <th>recall</th>\n",
       "      <th>precision</th>\n",
       "    </tr>\n",
       "  </thead>\n",
       "  <tbody>\n",
       "    <tr>\n",
       "      <th>BF_1</th>\n",
       "      <td>0.796803</td>\n",
       "      <td>0.886900</td>\n",
       "      <td>0.999204</td>\n",
       "      <td>0.797290</td>\n",
       "    </tr>\n",
       "    <tr>\n",
       "      <th>FC_1</th>\n",
       "      <td>0.680496</td>\n",
       "      <td>0.807613</td>\n",
       "      <td>0.981146</td>\n",
       "      <td>0.686240</td>\n",
       "    </tr>\n",
       "    <tr>\n",
       "      <th>MSW_2</th>\n",
       "      <td>0.573143</td>\n",
       "      <td>0.665844</td>\n",
       "      <td>0.846068</td>\n",
       "      <td>0.548917</td>\n",
       "    </tr>\n",
       "    <tr>\n",
       "      <th>EMP_1</th>\n",
       "      <td>0.531093</td>\n",
       "      <td>0.584768</td>\n",
       "      <td>0.756300</td>\n",
       "      <td>0.476660</td>\n",
       "    </tr>\n",
       "    <tr>\n",
       "      <th>MSL_1</th>\n",
       "      <td>0.537926</td>\n",
       "      <td>0.522352</td>\n",
       "      <td>0.729996</td>\n",
       "      <td>0.406675</td>\n",
       "    </tr>\n",
       "    <tr>\n",
       "      <th>MSL_3</th>\n",
       "      <td>0.675838</td>\n",
       "      <td>0.460564</td>\n",
       "      <td>0.316241</td>\n",
       "      <td>0.847204</td>\n",
       "    </tr>\n",
       "    <tr>\n",
       "      <th>EMP_2</th>\n",
       "      <td>0.549417</td>\n",
       "      <td>0.338302</td>\n",
       "      <td>0.249402</td>\n",
       "      <td>0.525685</td>\n",
       "    </tr>\n",
       "    <tr>\n",
       "      <th>MSW_3</th>\n",
       "      <td>0.713465</td>\n",
       "      <td>0.213991</td>\n",
       "      <td>0.134508</td>\n",
       "      <td>0.523092</td>\n",
       "    </tr>\n",
       "    <tr>\n",
       "      <th>CHH_3</th>\n",
       "      <td>0.663132</td>\n",
       "      <td>0.070235</td>\n",
       "      <td>0.039536</td>\n",
       "      <td>0.314235</td>\n",
       "    </tr>\n",
       "    <tr>\n",
       "      <th>FC_2</th>\n",
       "      <td>0.746216</td>\n",
       "      <td>0.043579</td>\n",
       "      <td>0.023051</td>\n",
       "      <td>0.398252</td>\n",
       "    </tr>\n",
       "    <tr>\n",
       "      <th>CHH_1</th>\n",
       "      <td>0.745129</td>\n",
       "      <td>0.009858</td>\n",
       "      <td>0.004979</td>\n",
       "      <td>0.489510</td>\n",
       "    </tr>\n",
       "    <tr>\n",
       "      <th>CHH_2</th>\n",
       "      <td>0.653871</td>\n",
       "      <td>0.001882</td>\n",
       "      <td>0.000943</td>\n",
       "      <td>0.339623</td>\n",
       "    </tr>\n",
       "    <tr>\n",
       "      <th>BF_3</th>\n",
       "      <td>0.885796</td>\n",
       "      <td>0.000317</td>\n",
       "      <td>0.000159</td>\n",
       "      <td>0.333333</td>\n",
       "    </tr>\n",
       "    <tr>\n",
       "      <th>MSW_1</th>\n",
       "      <td>0.792562</td>\n",
       "      <td>0.000175</td>\n",
       "      <td>0.000087</td>\n",
       "      <td>0.166667</td>\n",
       "    </tr>\n",
       "    <tr>\n",
       "      <th>MSL_2</th>\n",
       "      <td>0.783662</td>\n",
       "      <td>0.000168</td>\n",
       "      <td>0.000084</td>\n",
       "      <td>0.250000</td>\n",
       "    </tr>\n",
       "    <tr>\n",
       "      <th>CHH_4</th>\n",
       "      <td>0.922426</td>\n",
       "      <td>0.000000</td>\n",
       "      <td>0.000000</td>\n",
       "      <td>0.000000</td>\n",
       "    </tr>\n",
       "    <tr>\n",
       "      <th>BF_2</th>\n",
       "      <td>0.911533</td>\n",
       "      <td>0.000000</td>\n",
       "      <td>0.000000</td>\n",
       "      <td>0.000000</td>\n",
       "    </tr>\n",
       "    <tr>\n",
       "      <th>FC_3</th>\n",
       "      <td>0.934334</td>\n",
       "      <td>0.000000</td>\n",
       "      <td>0.000000</td>\n",
       "      <td>0.000000</td>\n",
       "    </tr>\n",
       "    <tr>\n",
       "      <th>EMP_3</th>\n",
       "      <td>0.898338</td>\n",
       "      <td>0.000000</td>\n",
       "      <td>0.000000</td>\n",
       "      <td>0.000000</td>\n",
       "    </tr>\n",
       "  </tbody>\n",
       "</table>\n",
       "</div>"
      ],
      "text/plain": [
       "       accuracy  f1_score    recall  precision\n",
       "BF_1   0.796803  0.886900  0.999204   0.797290\n",
       "FC_1   0.680496  0.807613  0.981146   0.686240\n",
       "MSW_2  0.573143  0.665844  0.846068   0.548917\n",
       "EMP_1  0.531093  0.584768  0.756300   0.476660\n",
       "MSL_1  0.537926  0.522352  0.729996   0.406675\n",
       "MSL_3  0.675838  0.460564  0.316241   0.847204\n",
       "EMP_2  0.549417  0.338302  0.249402   0.525685\n",
       "MSW_3  0.713465  0.213991  0.134508   0.523092\n",
       "CHH_3  0.663132  0.070235  0.039536   0.314235\n",
       "FC_2   0.746216  0.043579  0.023051   0.398252\n",
       "CHH_1  0.745129  0.009858  0.004979   0.489510\n",
       "CHH_2  0.653871  0.001882  0.000943   0.339623\n",
       "BF_3   0.885796  0.000317  0.000159   0.333333\n",
       "MSW_1  0.792562  0.000175  0.000087   0.166667\n",
       "MSL_2  0.783662  0.000168  0.000084   0.250000\n",
       "CHH_4  0.922426  0.000000  0.000000   0.000000\n",
       "BF_2   0.911533  0.000000  0.000000   0.000000\n",
       "FC_3   0.934334  0.000000  0.000000   0.000000\n",
       "EMP_3  0.898338  0.000000  0.000000   0.000000"
      ]
     },
     "execution_count": 38,
     "metadata": {},
     "output_type": "execute_result"
    }
   ],
   "source": [
    "df.sort_values(by='f1_score',ascending=False)"
   ]
  },
  {
   "cell_type": "code",
   "execution_count": 62,
   "metadata": {
    "collapsed": true
   },
   "outputs": [],
   "source": [
    "label = 'MSW_2'"
   ]
  },
  {
   "cell_type": "code",
   "execution_count": 67,
   "metadata": {},
   "outputs": [
    {
     "name": "stdout",
     "output_type": "stream",
     "text": [
      "MSW_2\n",
      "\n"
     ]
    }
   ],
   "source": [
    "y_train = df_train[label]\n",
    "y_cv = df_cv[label]\n",
    "\n",
    "model = xgb.XGBClassifier()\n",
    "fit = model.fit(X_train,y_train)\n",
    "y_pred = fit.predict(X_cv)\n",
    "\n",
    "accuracy = metrics.accuracy_score(y_cv,y_pred)\n",
    "f1 = metrics.f1_score(y_cv,y_pred)\n",
    "recall_ = metrics.recall_score(y_cv,y_pred)\n",
    "precision_ = metrics.precision_score(y_cv,y_pred)\n",
    "\n",
    "print label\n",
    "#print metrics.confusion_matrix(y_cv,y_pred)\n",
    "print\n"
   ]
  },
  {
   "cell_type": "code",
   "execution_count": 68,
   "metadata": {},
   "outputs": [
    {
     "data": {
      "text/plain": [
       "0.6528265449438202"
      ]
     },
     "execution_count": 68,
     "metadata": {},
     "output_type": "execute_result"
    }
   ],
   "source": [
    "f1"
   ]
  },
  {
   "cell_type": "code",
   "execution_count": 54,
   "metadata": {},
   "outputs": [
    {
     "data": {
      "text/plain": [
       "array([ 0.18906942,  0.04135894,  0.03249631,  0.        ,  0.00590842,\n",
       "        0.        ,  0.03249631,  0.02363368,  0.03545052,  0.02067947,\n",
       "        0.16100442,  0.02363368,  0.03545052,  0.03988183,  0.18316101,\n",
       "        0.03692762,  0.12850812,  0.01033973], dtype=float32)"
      ]
     },
     "execution_count": 54,
     "metadata": {},
     "output_type": "execute_result"
    }
   ],
   "source": [
    "model.feature_importances_"
   ]
  },
  {
   "cell_type": "code",
   "execution_count": null,
   "metadata": {
    "collapsed": true
   },
   "outputs": [],
   "source": []
  },
  {
   "cell_type": "code",
   "execution_count": null,
   "metadata": {
    "collapsed": true
   },
   "outputs": [],
   "source": []
  },
  {
   "cell_type": "code",
   "execution_count": null,
   "metadata": {
    "collapsed": true
   },
   "outputs": [],
   "source": [
    "x = df_train[labels[3]]"
   ]
  },
  {
   "cell_type": "code",
   "execution_count": null,
   "metadata": {
    "collapsed": true
   },
   "outputs": [],
   "source": [
    "y = df_train['mod_Water']"
   ]
  },
  {
   "cell_type": "code",
   "execution_count": null,
   "metadata": {
    "collapsed": true
   },
   "outputs": [],
   "source": [
    "df_train['mod_Water'].describe()"
   ]
  },
  {
   "cell_type": "code",
   "execution_count": null,
   "metadata": {
    "collapsed": true
   },
   "outputs": [],
   "source": []
  },
  {
   "cell_type": "code",
   "execution_count": null,
   "metadata": {
    "collapsed": true
   },
   "outputs": [],
   "source": []
  },
  {
   "cell_type": "code",
   "execution_count": null,
   "metadata": {
    "collapsed": true,
    "scrolled": true
   },
   "outputs": [],
   "source": [
    "df_train['mean'].describe()"
   ]
  },
  {
   "cell_type": "code",
   "execution_count": null,
   "metadata": {
    "collapsed": true
   },
   "outputs": [],
   "source": [
    "plt.hist(df_train['mod_Water'])"
   ]
  },
  {
   "cell_type": "code",
   "execution_count": null,
   "metadata": {
    "collapsed": true,
    "scrolled": true
   },
   "outputs": [],
   "source": [
    "ggplot(df_train,aes(x='mean')) + geom_histogram(binwidth=0.1)"
   ]
  },
  {
   "cell_type": "code",
   "execution_count": null,
   "metadata": {
    "collapsed": true
   },
   "outputs": [],
   "source": []
  },
  {
   "cell_type": "code",
   "execution_count": null,
   "metadata": {
    "collapsed": true,
    "scrolled": true
   },
   "outputs": [],
   "source": [
    "ggplot(df_train,aes(x=labels[18],y='mean')) + geom_boxplot()#+ylim(0,0.2)"
   ]
  },
  {
   "cell_type": "code",
   "execution_count": null,
   "metadata": {
    "collapsed": true
   },
   "outputs": [],
   "source": [
    "cols"
   ]
  },
  {
   "cell_type": "code",
   "execution_count": null,
   "metadata": {
    "collapsed": true
   },
   "outputs": [],
   "source": [
    "labels = ['Village_HHD_Cluster_MSL','Village_HHD_Cluster_MSW','Village_HHD_Cluster_CHH','Village_HHD_Cluster_FC','Village_HHD_Cluster_BF','Village_HHD_Cluster_EMP']"
   ]
  },
  {
   "cell_type": "code",
   "execution_count": 1,
   "metadata": {
    "collapsed": true
   },
   "outputs": [],
   "source": [
    "mod_features = ['mean',\n",
    " 'sum',\n",
    " 'Water',\n",
    " 'Permanent wetlands',\n",
    " 'Croplands',\n",
    " 'Urban and built-up',\n",
    " 'Cropland/Natural vegetation mosaic',\n",
    " 'CropRatio',\n",
    " 'AvgUrbanNTL',\n",
    " 'UrbanRatio',\n",
    " 'Natural',\n",
    " 'CropRemainRatio',\n",
    " 'UrbanRemainRatio',\n",
    " 'forest',\n",
    " 'grass_shrubs',\n",
    " 'mod_Water',\n",
    " 'mod_Permanent wetlands',\n",
    " 'mod_Croplands',\n",
    " 'mod_Urban and built-up',\n",
    " 'mod_Cropland/Natural vegetation mosaic',\n",
    " 'mod_forest',\n",
    " 'mod_grass_shrubs',\n",
    " 'mod_Natural',\n",
    " 'wet',\n",
    " 'mod_wet']"
   ]
  },
  {
   "cell_type": "code",
   "execution_count": 31,
   "metadata": {},
   "outputs": [
    {
     "data": {
      "text/plain": [
       "['mean',\n",
       " 'sum',\n",
       " 'Water',\n",
       " 'Permanent wetlands',\n",
       " 'Croplands',\n",
       " 'Urban and built-up',\n",
       " 'Cropland/Natural vegetation mosaic',\n",
       " 'Barren or sparsely vegetated',\n",
       " 'CropRatio',\n",
       " 'AvgUrbanNTL',\n",
       " 'UrbanRatio',\n",
       " 'Natural',\n",
       " 'CropRemainRatio',\n",
       " 'UrbanRemainRatio',\n",
       " 'forest',\n",
       " 'grass_shrubs',\n",
       " 'mod_Water',\n",
       " 'mod_Permanent wetlands',\n",
       " 'mod_Croplands',\n",
       " 'mod_Urban and built-up',\n",
       " 'mod_Cropland/Natural vegetation mosaic',\n",
       " 'mod_Barren or sparsely vegetated',\n",
       " 'mod_forest',\n",
       " 'mod_grass_shrubs',\n",
       " 'mod_Natural',\n",
       " 'wet',\n",
       " 'mod_wet']"
      ]
     },
     "execution_count": 31,
     "metadata": {},
     "output_type": "execute_result"
    }
   ],
   "source": [
    "mod_features"
   ]
  },
  {
   "cell_type": "code",
   "execution_count": 32,
   "metadata": {
    "collapsed": true
   },
   "outputs": [],
   "source": [
    "label = labels[0]"
   ]
  },
  {
   "cell_type": "code",
   "execution_count": 33,
   "metadata": {},
   "outputs": [
    {
     "data": {
      "text/plain": [
       "'Village_HHD_Cluster_MSL'"
      ]
     },
     "execution_count": 33,
     "metadata": {},
     "output_type": "execute_result"
    }
   ],
   "source": [
    "label"
   ]
  },
  {
   "cell_type": "code",
   "execution_count": null,
   "metadata": {
    "collapsed": true
   },
   "outputs": [],
   "source": [
    "df_train['mean'].quantile(.975)"
   ]
  },
  {
   "cell_type": "code",
   "execution_count": null,
   "metadata": {
    "collapsed": true,
    "scrolled": true
   },
   "outputs": [],
   "source": [
    "mod_features"
   ]
  },
  {
   "cell_type": "code",
   "execution_count": 39,
   "metadata": {
    "collapsed": true
   },
   "outputs": [],
   "source": [
    "from sklearn import preprocessing"
   ]
  },
  {
   "cell_type": "code",
   "execution_count": 43,
   "metadata": {},
   "outputs": [],
   "source": [
    "df_train_new = preprocessing.scale(df_train[mod_features].values)"
   ]
  },
  {
   "cell_type": "code",
   "execution_count": 44,
   "metadata": {
    "collapsed": true
   },
   "outputs": [],
   "source": [
    "df_train_new = pd.DataFrame(df_train_new,columns=mod_features)"
   ]
  },
  {
   "cell_type": "code",
   "execution_count": 46,
   "metadata": {},
   "outputs": [],
   "source": [
    "df_train_new[label] = df_train[label]"
   ]
  },
  {
   "cell_type": "code",
   "execution_count": 48,
   "metadata": {
    "scrolled": false
   },
   "outputs": [
    {
     "data": {
      "image/png": "[encoded data removed]",
      "text/plain": [
       "<matplotlib.figure.Figure at 0x7f2388972b90>"
      ]
     },
     "metadata": {},
     "output_type": "display_data"
    },
    {
     "data": {
      "image/png": "[encoded data removed]",
      "text/plain": [
       "<matplotlib.figure.Figure at 0x7f23882d7890>"
      ]
     },
     "metadata": {},
     "output_type": "display_data"
    },
    {
     "data": {
      "image/png": "[encoded data removed]",
      "text/plain": [
       "<matplotlib.figure.Figure at 0x7f2387ed37d0>"
      ]
     },
     "metadata": {},
     "output_type": "display_data"
    },
    {
     "data": {
      "image/png": "[encoded data removed]",
      "text/plain": [
       "<matplotlib.figure.Figure at 0x7f2383828290>"
      ]
     },
     "metadata": {},
     "output_type": "display_data"
    },
    {
     "data": {
      "image/png": "[encoded data removed]",
      "text/plain": [
       "<matplotlib.figure.Figure at 0x7f2387fd4650>"
      ]
     },
     "metadata": {},
     "output_type": "display_data"
    },
    {
     "data": {
      "image/png": "[encoded data removed]",
      "text/plain": [
       "<matplotlib.figure.Figure at 0x7f2387f498d0>"
      ]
     },
     "metadata": {},
     "output_type": "display_data"
    },
    {
     "data": {
      "image/png": "[encoded data removed]",
      "text/plain": [
       "<matplotlib.figure.Figure at 0x7f23837193d0>"
      ]
     },
     "metadata": {},
     "output_type": "display_data"
    },
    {
     "data": {
      "image/png": "[encoded data removed]",
      "text/plain": [
       "<matplotlib.figure.Figure at 0x7f23834cd3d0>"
      ]
     },
     "metadata": {},
     "output_type": "display_data"
    },
    {
     "data": {
      "image/png": "[encoded data removed]",
      "text/plain": [
       "<matplotlib.figure.Figure at 0x7f2387f2c490>"
      ]
     },
     "metadata": {},
     "output_type": "display_data"
    },
    {
     "data": {
      "image/png": "[encoded data removed]",
      "text/plain": [
       "<matplotlib.figure.Figure at 0x7f23880c4210>"
      ]
     },
     "metadata": {},
     "output_type": "display_data"
    },
    {
     "data": {
      "image/png": "[encoded data removed]",
      "text/plain": [
       "<matplotlib.figure.Figure at 0x7f2383596d10>"
      ]
     },
     "metadata": {},
     "output_type": "display_data"
    },
    {
     "data": {
      "image/png": "[encoded data removed]",
      "text/plain": [
       "<matplotlib.figure.Figure at 0x7f2387eb1990>"
      ]
     },
     "metadata": {},
     "output_type": "display_data"
    },
    {
     "data": {
      "image/png": "[encoded data removed]",
      "text/plain": [
       "<matplotlib.figure.Figure at 0x7f23882c0950>"
      ]
     },
     "metadata": {},
     "output_type": "display_data"
    },
    {
     "data": {
      "image/png": "[encoded data removed]",
      "text/plain": [
       "<matplotlib.figure.Figure at 0x7f2383267890>"
      ]
     },
     "metadata": {},
     "output_type": "display_data"
    },
    {
     "data": {
      "image/png": "[encoded data removed]",
      "text/plain": [
       "<matplotlib.figure.Figure at 0x7f2383398ad0>"
      ]
     },
     "metadata": {},
     "output_type": "display_data"
    },
    {
     "data": {
      "image/png": "[encoded data removed]",
      "text/plain": [
       "<matplotlib.figure.Figure at 0x7f2383380050>"
      ]
     },
     "metadata": {},
     "output_type": "display_data"
    },
    {
     "data": {
      "image/png": "[encoded data removed]",
      "text/plain": [
       "<matplotlib.figure.Figure at 0x7f2387f1e290>"
      ]
     },
     "metadata": {},
     "output_type": "display_data"
    },
    {
     "data": {
      "image/png": "[encoded data removed]",
      "text/plain": [
       "<matplotlib.figure.Figure at 0x7f23832bba50>"
      ]
     },
     "metadata": {},
     "output_type": "display_data"
    },
    {
     "data": {
      "image/png": "[encoded data removed]",
      "text/plain": [
       "<matplotlib.figure.Figure at 0x7f23837d8f10>"
      ]
     },
     "metadata": {},
     "output_type": "display_data"
    },
    {
     "data": {
      "image/png": "[encoded data removed]",
      "text/plain": [
       "<matplotlib.figure.Figure at 0x7f238816ab50>"
      ]
     },
     "metadata": {},
     "output_type": "display_data"
    },
    {
     "data": {
      "image/png": "[encoded data removed]",
      "text/plain": [
       "<matplotlib.figure.Figure at 0x7f23881371d0>"
      ]
     },
     "metadata": {},
     "output_type": "display_data"
    },
    {
     "data": {
      "image/png": "[encoded data removed]",
      "text/plain": [
       "<matplotlib.figure.Figure at 0x7f2388137c50>"
      ]
     },
     "metadata": {},
     "output_type": "display_data"
    },
    {
     "data": {
      "image/png": "[encoded data removed]",
      "text/plain": [
       "<matplotlib.figure.Figure at 0x7f2388a60b50>"
      ]
     },
     "metadata": {},
     "output_type": "display_data"
    },
    {
     "data": {
      "image/png": "[encoded data removed]",
      "text/plain": [
       "<matplotlib.figure.Figure at 0x7f23835cff10>"
      ]
     },
     "metadata": {},
     "output_type": "display_data"
    },
    {
     "data": {
      "image/png": "[encoded data removed]",
      "text/plain": [
       "<matplotlib.figure.Figure at 0x7f2388118e10>"
      ]
     },
     "metadata": {},
     "output_type": "display_data"
    }
   ],
   "source": [
    "for feature in mod_features:\n",
    "    plot = ggplot(df_train_new,aes(x=label,y=feature)) + geom_boxplot()\n",
    "    plot.show()"
   ]
  },
  {
   "cell_type": "code",
   "execution_count": 37,
   "metadata": {},
   "outputs": [
    {
     "data": {
      "text/plain": [
       "count    92208.000000\n",
       "mean         0.460323\n",
       "std          2.983744\n",
       "min          0.000000\n",
       "25%          0.000000\n",
       "50%          0.000000\n",
       "75%          0.234743\n",
       "max        613.413300\n",
       "Name: Natural, dtype: float64"
      ]
     },
     "execution_count": 37,
     "metadata": {},
     "output_type": "execute_result"
    }
   ],
   "source": [
    "df_train['Natural'].describe()"
   ]
  },
  {
   "cell_type": "code",
   "execution_count": 40,
   "metadata": {},
   "outputs": [
    {
     "data": {
      "text/plain": [
       "1.2465762625000003"
      ]
     },
     "execution_count": 40,
     "metadata": {},
     "output_type": "execute_result"
    }
   ],
   "source": [
    "df_train['Natural'].quantile(0.9)"
   ]
  },
  {
   "cell_type": "code",
   "execution_count": null,
   "metadata": {
    "collapsed": true
   },
   "outputs": [],
   "source": [
    "label"
   ]
  },
  {
   "cell_type": "code",
   "execution_count": null,
   "metadata": {
    "collapsed": true,
    "scrolled": true
   },
   "outputs": [],
   "source": [
    "plot = ggplot(df_train,aes(x=label,y=feature)) + geom_boxplot()+ylim(df_train[feature].quantile(.025),df_train[feature].quantile(.975))"
   ]
  },
  {
   "cell_type": "code",
   "execution_count": null,
   "metadata": {
    "collapsed": true
   },
   "outputs": [],
   "source": [
    "df_train[feature]"
   ]
  },
  {
   "cell_type": "code",
   "execution_count": null,
   "metadata": {
    "collapsed": true,
    "scrolled": true
   },
   "outputs": [],
   "source": [
    "plt.box(x,y)\n",
    "plt.show()"
   ]
  },
  {
   "cell_type": "code",
   "execution_count": null,
   "metadata": {
    "collapsed": true,
    "scrolled": true
   },
   "outputs": [],
   "source": [
    "plt.boxplot(x)\n",
    "plt.show()"
   ]
  },
  {
   "cell_type": "code",
   "execution_count": null,
   "metadata": {
    "collapsed": true
   },
   "outputs": [],
   "source": [
    "labels[3]"
   ]
  },
  {
   "cell_type": "code",
   "execution_count": null,
   "metadata": {
    "collapsed": true
   },
   "outputs": [],
   "source": [
    "var"
   ]
  },
  {
   "cell_type": "code",
   "execution_count": null,
   "metadata": {
    "collapsed": true
   },
   "outputs": [],
   "source": []
  },
  {
   "cell_type": "code",
   "execution_count": null,
   "metadata": {
    "collapsed": true
   },
   "outputs": [],
   "source": []
  },
  {
   "cell_type": "code",
   "execution_count": null,
   "metadata": {
    "collapsed": true
   },
   "outputs": [],
   "source": []
  },
  {
   "cell_type": "code",
   "execution_count": null,
   "metadata": {
    "collapsed": true
   },
   "outputs": [],
   "source": []
  },
  {
   "cell_type": "code",
   "execution_count": null,
   "metadata": {
    "collapsed": true,
    "scrolled": false
   },
   "outputs": [],
   "source": [
    "xgb.XGBClassifier(max_depth=7)"
   ]
  },
  {
   "cell_type": "code",
   "execution_count": null,
   "metadata": {
    "collapsed": true
   },
   "outputs": [],
   "source": []
  },
  {
   "cell_type": "code",
   "execution_count": null,
   "metadata": {
    "collapsed": true
   },
   "outputs": [],
   "source": []
  },
  {
   "cell_type": "code",
   "execution_count": null,
   "metadata": {
    "collapsed": true
   },
   "outputs": [],
   "source": [
    "y_pred[y_pred == 1]"
   ]
  },
  {
   "cell_type": "code",
   "execution_count": null,
   "metadata": {
    "collapsed": true
   },
   "outputs": [],
   "source": [
    "np.shape(df_train)"
   ]
  },
  {
   "cell_type": "code",
   "execution_count": null,
   "metadata": {
    "collapsed": true
   },
   "outputs": [],
   "source": [
    "np.shape(df_cv)"
   ]
  },
  {
   "cell_type": "code",
   "execution_count": null,
   "metadata": {
    "collapsed": true
   },
   "outputs": [],
   "source": [
    "label = 'EMP_2'"
   ]
  },
  {
   "cell_type": "code",
   "execution_count": null,
   "metadata": {
    "collapsed": true
   },
   "outputs": [],
   "source": [
    "df2 = pd.DataFrame(columns=['accuracy','f1_score','recall','precision'])"
   ]
  },
  {
   "cell_type": "code",
   "execution_count": null,
   "metadata": {
    "collapsed": true
   },
   "outputs": [],
   "source": [
    "y_train = processY(df_train[label]).values\n",
    "y_cv = processY(df_cv[label]).values\n",
    "\n",
    "model = xgb.XGBClassifier()\n",
    "fit = model.fit(X_train,y_train)\n",
    "y_pred = fit.predict(X_cv)\n",
    "\n",
    "accuracy = metrics.accuracy_score(y_cv,y_pred)\n",
    "f1 = metrics.f1_score(y_cv,y_pred)\n",
    "recall_ = metrics.recall_score(y_cv,y_pred)\n",
    "precision_ = metrics.precision_score(y_cv,y_pred)\n",
    "\n",
    "df2.loc[label] = [accuracy,f1,recall_,precision_]"
   ]
  },
  {
   "cell_type": "code",
   "execution_count": null,
   "metadata": {
    "collapsed": true
   },
   "outputs": [],
   "source": [
    "metrics.accuracy_score(y_cv,y_pred)"
   ]
  },
  {
   "cell_type": "code",
   "execution_count": null,
   "metadata": {
    "collapsed": true
   },
   "outputs": [],
   "source": [
    "df2"
   ]
  },
  {
   "cell_type": "code",
   "execution_count": null,
   "metadata": {
    "collapsed": true
   },
   "outputs": [],
   "source": [
    "len(y_pred[y_pred==1])"
   ]
  },
  {
   "cell_type": "code",
   "execution_count": null,
   "metadata": {
    "collapsed": true
   },
   "outputs": [],
   "source": [
    "len(y_cv[y_cv==1])"
   ]
  },
  {
   "cell_type": "code",
   "execution_count": null,
   "metadata": {
    "collapsed": true,
    "scrolled": true
   },
   "outputs": [],
   "source": [
    "pd.get_dummies(y_train)"
   ]
  },
  {
   "cell_type": "code",
   "execution_count": null,
   "metadata": {
    "collapsed": true
   },
   "outputs": [],
   "source": []
  },
  {
   "cell_type": "code",
   "execution_count": null,
   "metadata": {
    "collapsed": true
   },
   "outputs": [],
   "source": []
  },
  {
   "cell_type": "code",
   "execution_count": null,
   "metadata": {
    "collapsed": true
   },
   "outputs": [],
   "source": []
  },
  {
   "cell_type": "code",
   "execution_count": null,
   "metadata": {
    "collapsed": true
   },
   "outputs": [],
   "source": [
    "df_ = pd.get_dummies(df_train[label])\n",
    "df_.columns = [label[20:]+'_'+str(i+1) for i in range(len(df_train[label].unique()))]"
   ]
  },
  {
   "cell_type": "code",
   "execution_count": null,
   "metadata": {
    "collapsed": true,
    "scrolled": true
   },
   "outputs": [],
   "source": [
    "df_train = pd.concat([df_train,df_],axis=1)"
   ]
  }
 ],
 "metadata": {
  "kernelspec": {
   "display_name": "Python 2",
   "language": "python",
   "name": "python2"
  },
  "language_info": {
   "codemirror_mode": {
    "name": "ipython",
    "version": 2
   },
   "file_extension": ".py",
   "mimetype": "text/x-python",
   "name": "python",
   "nbconvert_exporter": "python",
   "pygments_lexer": "ipython2",
   "version": "2.7.14"
  }
 },
 "nbformat": 4,
 "nbformat_minor": 2
}
