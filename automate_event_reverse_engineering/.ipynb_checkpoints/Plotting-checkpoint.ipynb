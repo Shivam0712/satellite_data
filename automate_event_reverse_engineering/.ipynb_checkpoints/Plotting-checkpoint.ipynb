{
 "cells": [
  {
   "cell_type": "code",
   "execution_count": 1,
   "metadata": {
    "scrolled": true
   },
   "outputs": [
    {
     "name": "stdout",
     "output_type": "stream",
     "text": [
      "Using matplotlib backend: Qt5Agg\n",
      "Populating the interactive namespace from numpy and matplotlib\n"
     ]
    }
   ],
   "source": [
    "import pandas as pd\n",
    "import numpy as np\n",
    "import matplotlib.pyplot as plt\n",
    "%pylab"
   ]
  },
  {
   "cell_type": "code",
   "execution_count": 2,
   "metadata": {
    "collapsed": true
   },
   "outputs": [],
   "source": [
    "import datetime as dt"
   ]
  },
  {
   "cell_type": "code",
   "execution_count": 3,
   "metadata": {
    "collapsed": true
   },
   "outputs": [],
   "source": [
    "anom_sd1 = pd.read_excel('Anom_SD1.xlsx')"
   ]
  },
  {
   "cell_type": "code",
   "execution_count": 4,
   "metadata": {},
   "outputs": [
    {
     "data": {
      "text/html": [
       "<div>\n",
       "<style>\n",
       "    .dataframe thead tr:only-child th {\n",
       "        text-align: right;\n",
       "    }\n",
       "\n",
       "    .dataframe thead th {\n",
       "        text-align: left;\n",
       "    }\n",
       "\n",
       "    .dataframe tbody tr th {\n",
       "        vertical-align: top;\n",
       "    }\n",
       "</style>\n",
       "<table border=\"1\" class=\"dataframe\">\n",
       "  <thead>\n",
       "    <tr style=\"text-align: right;\">\n",
       "      <th></th>\n",
       "      <th>Pkey</th>\n",
       "      <th>128</th>\n",
       "      <th>1509</th>\n",
       "      <th>2627</th>\n",
       "      <th>315</th>\n",
       "      <th>2108</th>\n",
       "      <th>527</th>\n",
       "      <th>1132</th>\n",
       "      <th>1209</th>\n",
       "      <th>4823</th>\n",
       "      <th>...</th>\n",
       "      <th>Unnamed: 2308</th>\n",
       "      <th>Unnamed: 2309</th>\n",
       "      <th>Unnamed: 2310</th>\n",
       "      <th>Unnamed: 2311</th>\n",
       "      <th>Unnamed: 2312</th>\n",
       "      <th>Unnamed: 2313</th>\n",
       "      <th>Unnamed: 2314</th>\n",
       "      <th>Unnamed: 2315</th>\n",
       "      <th>Unnamed: 2316</th>\n",
       "      <th>Unnamed: 2317</th>\n",
       "    </tr>\n",
       "  </thead>\n",
       "  <tbody>\n",
       "    <tr>\n",
       "      <th>0</th>\n",
       "      <td>DISTRICT</td>\n",
       "      <td>Adilabad</td>\n",
       "      <td>Agra</td>\n",
       "      <td>Ahmadnagar</td>\n",
       "      <td>Aizawl</td>\n",
       "      <td>Ajmer</td>\n",
       "      <td>Akola</td>\n",
       "      <td>Alappuzha</td>\n",
       "      <td>Aligarh</td>\n",
       "      <td>Alirajpur</td>\n",
       "      <td>...</td>\n",
       "      <td>NaN</td>\n",
       "      <td>NaN</td>\n",
       "      <td>NaN</td>\n",
       "      <td>NaN</td>\n",
       "      <td>NaN</td>\n",
       "      <td>NaN</td>\n",
       "      <td>NaN</td>\n",
       "      <td>NaN</td>\n",
       "      <td>NaN</td>\n",
       "      <td>NaN</td>\n",
       "    </tr>\n",
       "    <tr>\n",
       "      <th>1</th>\n",
       "      <td>DT_CEN_CD</td>\n",
       "      <td>1</td>\n",
       "      <td>15</td>\n",
       "      <td>26</td>\n",
       "      <td>3</td>\n",
       "      <td>21</td>\n",
       "      <td>5</td>\n",
       "      <td>11</td>\n",
       "      <td>12</td>\n",
       "      <td>48</td>\n",
       "      <td>...</td>\n",
       "      <td>NaN</td>\n",
       "      <td>NaN</td>\n",
       "      <td>NaN</td>\n",
       "      <td>NaN</td>\n",
       "      <td>NaN</td>\n",
       "      <td>NaN</td>\n",
       "      <td>NaN</td>\n",
       "      <td>NaN</td>\n",
       "      <td>NaN</td>\n",
       "      <td>NaN</td>\n",
       "    </tr>\n",
       "    <tr>\n",
       "      <th>2</th>\n",
       "      <td>ST_CEN_CD</td>\n",
       "      <td>28</td>\n",
       "      <td>9</td>\n",
       "      <td>27</td>\n",
       "      <td>15</td>\n",
       "      <td>8</td>\n",
       "      <td>27</td>\n",
       "      <td>32</td>\n",
       "      <td>9</td>\n",
       "      <td>23</td>\n",
       "      <td>...</td>\n",
       "      <td>NaN</td>\n",
       "      <td>NaN</td>\n",
       "      <td>NaN</td>\n",
       "      <td>NaN</td>\n",
       "      <td>NaN</td>\n",
       "      <td>NaN</td>\n",
       "      <td>NaN</td>\n",
       "      <td>NaN</td>\n",
       "      <td>NaN</td>\n",
       "      <td>NaN</td>\n",
       "    </tr>\n",
       "    <tr>\n",
       "      <th>3</th>\n",
       "      <td>ST_NM</td>\n",
       "      <td>Andhra Pradesh</td>\n",
       "      <td>Uttar Pradesh</td>\n",
       "      <td>Maharashtra</td>\n",
       "      <td>Mizoram</td>\n",
       "      <td>Rajasthan</td>\n",
       "      <td>Maharashtra</td>\n",
       "      <td>Kerala</td>\n",
       "      <td>Uttar Pradesh</td>\n",
       "      <td>Madhya Pradesh</td>\n",
       "      <td>...</td>\n",
       "      <td>NaN</td>\n",
       "      <td>NaN</td>\n",
       "      <td>NaN</td>\n",
       "      <td>NaN</td>\n",
       "      <td>NaN</td>\n",
       "      <td>NaN</td>\n",
       "      <td>NaN</td>\n",
       "      <td>NaN</td>\n",
       "      <td>NaN</td>\n",
       "      <td>NaN</td>\n",
       "    </tr>\n",
       "    <tr>\n",
       "      <th>4</th>\n",
       "      <td>Label</td>\n",
       "      <td>NaN</td>\n",
       "      <td>Large City</td>\n",
       "      <td>NaN</td>\n",
       "      <td>NaN</td>\n",
       "      <td>Large City</td>\n",
       "      <td>NaN</td>\n",
       "      <td>NaN</td>\n",
       "      <td>NaN</td>\n",
       "      <td>NaN</td>\n",
       "      <td>...</td>\n",
       "      <td>NaN</td>\n",
       "      <td>NaN</td>\n",
       "      <td>NaN</td>\n",
       "      <td>NaN</td>\n",
       "      <td>NaN</td>\n",
       "      <td>NaN</td>\n",
       "      <td>NaN</td>\n",
       "      <td>NaN</td>\n",
       "      <td>NaN</td>\n",
       "      <td>NaN</td>\n",
       "    </tr>\n",
       "  </tbody>\n",
       "</table>\n",
       "<p>5 rows × 2318 columns</p>\n",
       "</div>"
      ],
      "text/plain": [
       "        Pkey             128           1509         2627      315        2108  \\\n",
       "0   DISTRICT        Adilabad           Agra   Ahmadnagar   Aizawl       Ajmer   \n",
       "1  DT_CEN_CD               1             15           26        3          21   \n",
       "2  ST_CEN_CD              28              9           27       15           8   \n",
       "3      ST_NM  Andhra Pradesh  Uttar Pradesh  Maharashtra  Mizoram   Rajasthan   \n",
       "4      Label             NaN     Large City          NaN      NaN  Large City   \n",
       "\n",
       "           527       1132           1209            4823      ...       \\\n",
       "0        Akola  Alappuzha        Aligarh       Alirajpur      ...        \n",
       "1            5         11             12              48      ...        \n",
       "2           27         32              9              23      ...        \n",
       "3  Maharashtra     Kerala  Uttar Pradesh  Madhya Pradesh      ...        \n",
       "4          NaN        NaN            NaN             NaN      ...        \n",
       "\n",
       "  Unnamed: 2308 Unnamed: 2309 Unnamed: 2310 Unnamed: 2311 Unnamed: 2312  \\\n",
       "0           NaN           NaN           NaN           NaN           NaN   \n",
       "1           NaN           NaN           NaN           NaN           NaN   \n",
       "2           NaN           NaN           NaN           NaN           NaN   \n",
       "3           NaN           NaN           NaN           NaN           NaN   \n",
       "4           NaN           NaN           NaN           NaN           NaN   \n",
       "\n",
       "  Unnamed: 2313 Unnamed: 2314 Unnamed: 2315 Unnamed: 2316 Unnamed: 2317  \n",
       "0           NaN           NaN           NaN           NaN           NaN  \n",
       "1           NaN           NaN           NaN           NaN           NaN  \n",
       "2           NaN           NaN           NaN           NaN           NaN  \n",
       "3           NaN           NaN           NaN           NaN           NaN  \n",
       "4           NaN           NaN           NaN           NaN           NaN  \n",
       "\n",
       "[5 rows x 2318 columns]"
      ]
     },
     "execution_count": 4,
     "metadata": {},
     "output_type": "execute_result"
    }
   ],
   "source": [
    "anom_sd1.head()"
   ]
  },
  {
   "cell_type": "code",
   "execution_count": 5,
   "metadata": {
    "collapsed": true
   },
   "outputs": [],
   "source": [
    "cols = anom_sd1.columns.tolist()"
   ]
  },
  {
   "cell_type": "code",
   "execution_count": 6,
   "metadata": {
    "collapsed": true
   },
   "outputs": [],
   "source": [
    "raw = anom_sd1[cols[:cols.index( u'MA(TS-MA)')]]"
   ]
  },
  {
   "cell_type": "code",
   "execution_count": 7,
   "metadata": {
    "collapsed": true
   },
   "outputs": [],
   "source": [
    "raw.columns = raw[0:1].values.tolist()"
   ]
  },
  {
   "cell_type": "code",
   "execution_count": 8,
   "metadata": {
    "collapsed": true
   },
   "outputs": [],
   "source": [
    "raw = raw[1:]"
   ]
  },
  {
   "cell_type": "code",
   "execution_count": 9,
   "metadata": {
    "collapsed": true
   },
   "outputs": [],
   "source": [
    "raw_cols = raw.columns.tolist()"
   ]
  },
  {
   "cell_type": "code",
   "execution_count": null,
   "metadata": {
    "collapsed": true
   },
   "outputs": [],
   "source": [
    "dist = 'Gorakhpur'"
   ]
  },
  {
   "cell_type": "code",
   "execution_count": null,
   "metadata": {},
   "outputs": [],
   "source": [
    "dist in raw_cols"
   ]
  },
  {
   "cell_type": "code",
   "execution_count": 116,
   "metadata": {
    "collapsed": true
   },
   "outputs": [],
   "source": [
    "month = 10"
   ]
  },
  {
   "cell_type": "code",
   "execution_count": 117,
   "metadata": {
    "collapsed": true
   },
   "outputs": [],
   "source": [
    "year = 2015"
   ]
  },
  {
   "cell_type": "code",
   "execution_count": 95,
   "metadata": {
    "collapsed": true
   },
   "outputs": [],
   "source": [
    "## for dist\n",
    "f_name =  str(dist)+'_feb_2017'"
   ]
  },
  {
   "cell_type": "code",
   "execution_count": 120,
   "metadata": {
    "collapsed": true
   },
   "outputs": [],
   "source": [
    "title = 'Haryana elections 2015 /n '+ f_name"
   ]
  },
  {
   "cell_type": "code",
   "execution_count": 121,
   "metadata": {
    "collapsed": true
   },
   "outputs": [],
   "source": [
    "file_name = f_name +'.png'"
   ]
  },
  {
   "cell_type": "code",
   "execution_count": 122,
   "metadata": {
    "collapsed": true
   },
   "outputs": [],
   "source": [
    "time_line = raw['DISTRICT'][6:-1].values.tolist()"
   ]
  },
  {
   "cell_type": "code",
   "execution_count": 123,
   "metadata": {},
   "outputs": [
    {
     "data": {
      "text/plain": [
       "[datetime.datetime(2012, 5, 1, 0, 0),\n",
       " datetime.datetime(2012, 6, 1, 0, 0),\n",
       " datetime.datetime(2012, 7, 1, 0, 0),\n",
       " datetime.datetime(2012, 8, 1, 0, 0),\n",
       " datetime.datetime(2012, 9, 1, 0, 0),\n",
       " datetime.datetime(2012, 10, 1, 0, 0),\n",
       " datetime.datetime(2012, 11, 1, 0, 0),\n",
       " datetime.datetime(2012, 12, 1, 0, 0),\n",
       " datetime.datetime(2013, 1, 1, 0, 0),\n",
       " datetime.datetime(2013, 2, 1, 0, 0),\n",
       " datetime.datetime(2013, 3, 1, 0, 0),\n",
       " datetime.datetime(2013, 4, 1, 0, 0),\n",
       " datetime.datetime(2013, 5, 1, 0, 0),\n",
       " datetime.datetime(2013, 6, 1, 0, 0),\n",
       " datetime.datetime(2013, 7, 1, 0, 0),\n",
       " datetime.datetime(2013, 8, 1, 0, 0),\n",
       " datetime.datetime(2013, 9, 1, 0, 0),\n",
       " datetime.datetime(2013, 10, 1, 0, 0),\n",
       " datetime.datetime(2013, 11, 1, 0, 0),\n",
       " datetime.datetime(2013, 12, 1, 0, 0),\n",
       " datetime.datetime(2014, 1, 1, 0, 0),\n",
       " datetime.datetime(2014, 2, 1, 0, 0),\n",
       " datetime.datetime(2014, 3, 1, 0, 0),\n",
       " datetime.datetime(2014, 4, 1, 0, 0),\n",
       " datetime.datetime(2014, 5, 1, 0, 0),\n",
       " datetime.datetime(2014, 6, 1, 0, 0),\n",
       " datetime.datetime(2014, 7, 1, 0, 0),\n",
       " datetime.datetime(2014, 8, 1, 0, 0),\n",
       " datetime.datetime(2014, 9, 1, 0, 0),\n",
       " datetime.datetime(2014, 10, 1, 0, 0),\n",
       " datetime.datetime(2014, 11, 1, 0, 0),\n",
       " datetime.datetime(2014, 12, 1, 0, 0),\n",
       " datetime.datetime(2015, 1, 1, 0, 0),\n",
       " datetime.datetime(2015, 2, 1, 0, 0),\n",
       " datetime.datetime(2015, 3, 1, 0, 0),\n",
       " datetime.datetime(2015, 4, 1, 0, 0),\n",
       " datetime.datetime(2015, 5, 1, 0, 0),\n",
       " datetime.datetime(2015, 6, 1, 0, 0),\n",
       " datetime.datetime(2015, 7, 1, 0, 0),\n",
       " datetime.datetime(2015, 8, 1, 0, 0),\n",
       " datetime.datetime(2015, 9, 1, 0, 0),\n",
       " datetime.datetime(2015, 10, 1, 0, 0),\n",
       " datetime.datetime(2015, 11, 1, 0, 0),\n",
       " datetime.datetime(2015, 12, 1, 0, 0),\n",
       " datetime.datetime(2016, 1, 1, 0, 0),\n",
       " datetime.datetime(2016, 2, 1, 0, 0),\n",
       " datetime.datetime(2016, 3, 1, 0, 0),\n",
       " datetime.datetime(2016, 4, 1, 0, 0),\n",
       " datetime.datetime(2016, 5, 1, 0, 0),\n",
       " datetime.datetime(2016, 6, 1, 0, 0),\n",
       " datetime.datetime(2016, 7, 1, 0, 0),\n",
       " datetime.datetime(2016, 8, 1, 0, 0),\n",
       " datetime.datetime(2016, 9, 1, 0, 0),\n",
       " datetime.datetime(2016, 10, 1, 0, 0),\n",
       " datetime.datetime(2016, 11, 1, 0, 0),\n",
       " datetime.datetime(2016, 12, 1, 0, 0),\n",
       " datetime.datetime(2017, 1, 1, 0, 0),\n",
       " datetime.datetime(2017, 2, 1, 0, 0),\n",
       " datetime.datetime(2017, 3, 1, 0, 0)]"
      ]
     },
     "execution_count": 123,
     "metadata": {},
     "output_type": "execute_result"
    }
   ],
   "source": [
    "time_line"
   ]
  },
  {
   "cell_type": "code",
   "execution_count": 124,
   "metadata": {
    "collapsed": true,
    "scrolled": true
   },
   "outputs": [],
   "source": [
    "ntl_values = raw[dist][6:-1].values.tolist()"
   ]
  },
  {
   "cell_type": "code",
   "execution_count": 127,
   "metadata": {
    "scrolled": true
   },
   "outputs": [
    {
     "data": {
      "text/plain": [
       "(59,)"
      ]
     },
     "execution_count": 127,
     "metadata": {},
     "output_type": "execute_result"
    }
   ],
   "source": [
    "np.shape(ntl_values)"
   ]
  },
  {
   "cell_type": "code",
   "execution_count": 128,
   "metadata": {
    "scrolled": false
   },
   "outputs": [
    {
     "data": {
      "text/plain": [
       "(59,)"
      ]
     },
     "execution_count": 128,
     "metadata": {},
     "output_type": "execute_result"
    }
   ],
   "source": [
    "np.shape(time_line)"
   ]
  },
  {
   "cell_type": "code",
   "execution_count": 129,
   "metadata": {
    "collapsed": true
   },
   "outputs": [],
   "source": [
    "month_name = ['0','jan','feb','mar','apr','may','jun','jul','aug','sep','oct','nov','dec']"
   ]
  },
  {
   "cell_type": "code",
   "execution_count": 138,
   "metadata": {
    "collapsed": true
   },
   "outputs": [],
   "source": [
    "A = range(len(time_line))\n",
    "B = ntl_values"
   ]
  },
  {
   "cell_type": "code",
   "execution_count": 139,
   "metadata": {
    "collapsed": true
   },
   "outputs": [],
   "source": [
    "plt.plot(A,B)\n",
    "plt.plot(A,B,'ko')\n",
    "plt.title(title)\n",
    "plt.ylabel('raw_values')\n",
    "plt.grid()"
   ]
  },
  {
   "cell_type": "code",
   "execution_count": 140,
   "metadata": {
    "collapsed": true
   },
   "outputs": [],
   "source": [
    "month_dates = list()\n",
    "month_vals = list()\n",
    "for i,time_value in enumerate(time_line):\n",
    "    if time_value.month == month:\n",
    "        ## putting the values in list\n",
    "        month_vals.append(B[i])\n",
    "        \n",
    "        ## highlighting all that months\n",
    "        data_label = month_name[time_value.month]+str(time_value.year)[2:]\n",
    "        month_dates.append(data_label)\n",
    "        plt.plot(A[i],B[i],'ko',markerfacecolor='None',markeredgecolor='black',markersize=15)\n",
    "        plt.annotate(data_label,xy=(A[i]+1,B[i]))\n",
    "        \n",
    "        ## highlighting that year\n",
    "        if time_value.year == year:\n",
    "            year_val = B[i]\n",
    "            plt.plot(A[i],B[i],'ks',markerfacecolor='None',markeredgecolor='black',markersize=15)"
   ]
  },
  {
   "cell_type": "code",
   "execution_count": 141,
   "metadata": {
    "collapsed": true
   },
   "outputs": [],
   "source": [
    "plt.savefig(file_name)"
   ]
  },
  {
   "cell_type": "code",
   "execution_count": 142,
   "metadata": {
    "collapsed": true
   },
   "outputs": [],
   "source": [
    "month_std = np.std(month_vals,ddof=1)\n",
    "month_mean = np.mean(month_vals)"
   ]
  },
  {
   "cell_type": "code",
   "execution_count": 143,
   "metadata": {},
   "outputs": [
    {
     "data": {
      "text/plain": [
       "0.14722906353635881"
      ]
     },
     "execution_count": 143,
     "metadata": {},
     "output_type": "execute_result"
    }
   ],
   "source": [
    "(year_val - month_mean)/month_std"
   ]
  },
  {
   "cell_type": "code",
   "execution_count": 144,
   "metadata": {
    "scrolled": true
   },
   "outputs": [
    {
     "data": {
      "text/plain": [
       "4.4230219475889525"
      ]
     },
     "execution_count": 144,
     "metadata": {},
     "output_type": "execute_result"
    }
   ],
   "source": [
    "month_std"
   ]
  },
  {
   "cell_type": "code",
   "execution_count": 145,
   "metadata": {},
   "outputs": [
    {
     "data": {
      "text/plain": [
       "['oct12', 'oct13', 'oct14', 'oct15', 'oct16']"
      ]
     },
     "execution_count": 145,
     "metadata": {},
     "output_type": "execute_result"
    }
   ],
   "source": [
    "month_dates"
   ]
  },
  {
   "cell_type": "code",
   "execution_count": 92,
   "metadata": {},
   "outputs": [
    {
     "data": {
      "text/html": [
       "<div>\n",
       "<style>\n",
       "    .dataframe thead tr:only-child th {\n",
       "        text-align: right;\n",
       "    }\n",
       "\n",
       "    .dataframe thead th {\n",
       "        text-align: left;\n",
       "    }\n",
       "\n",
       "    .dataframe tbody tr th {\n",
       "        vertical-align: top;\n",
       "    }\n",
       "</style>\n",
       "<table border=\"1\" class=\"dataframe\">\n",
       "  <thead>\n",
       "    <tr style=\"text-align: right;\">\n",
       "      <th></th>\n",
       "      <th>0</th>\n",
       "    </tr>\n",
       "  </thead>\n",
       "  <tbody>\n",
       "    <tr>\n",
       "      <th>feb13</th>\n",
       "      <td>5.229287</td>\n",
       "    </tr>\n",
       "    <tr>\n",
       "      <th>feb14</th>\n",
       "      <td>5.468529</td>\n",
       "    </tr>\n",
       "    <tr>\n",
       "      <th>feb15</th>\n",
       "      <td>3.994657</td>\n",
       "    </tr>\n",
       "    <tr>\n",
       "      <th>feb16</th>\n",
       "      <td>3.255206</td>\n",
       "    </tr>\n",
       "    <tr>\n",
       "      <th>feb17</th>\n",
       "      <td>3.840431</td>\n",
       "    </tr>\n",
       "  </tbody>\n",
       "</table>\n",
       "</div>"
      ],
      "text/plain": [
       "              0\n",
       "feb13  5.229287\n",
       "feb14  5.468529\n",
       "feb15  3.994657\n",
       "feb16  3.255206\n",
       "feb17  3.840431"
      ]
     },
     "execution_count": 92,
     "metadata": {},
     "output_type": "execute_result"
    }
   ],
   "source": [
    "pd.DataFrame(month_vals,month_dates)"
   ]
  },
  {
   "cell_type": "code",
   "execution_count": null,
   "metadata": {
    "collapsed": true
   },
   "outputs": [],
   "source": []
  },
  {
   "cell_type": "code",
   "execution_count": null,
   "metadata": {
    "collapsed": true
   },
   "outputs": [],
   "source": []
  },
  {
   "cell_type": "code",
   "execution_count": null,
   "metadata": {
    "collapsed": true
   },
   "outputs": [],
   "source": []
  }
 ],
 "metadata": {
  "kernelspec": {
   "display_name": "Python 2",
   "language": "python",
   "name": "python2"
  },
  "language_info": {
   "codemirror_mode": {
    "name": "ipython",
    "version": 2
   },
   "file_extension": ".py",
   "mimetype": "text/x-python",
   "name": "python",
   "nbconvert_exporter": "python",
   "pygments_lexer": "ipython2",
   "version": "2.7.14"
  }
 },
 "nbformat": 4,
 "nbformat_minor": 2
}
