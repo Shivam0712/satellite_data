{
 "cells": [
  {
   "cell_type": "code",
   "execution_count": 1,
   "metadata": {
    "collapsed": true
   },
   "outputs": [],
   "source": [
    "import os\n",
    "\n",
    "import pymongo\n",
    "from pymongo import MongoClient\n",
    "from collections import Counter\n",
    "\n",
    "client = MongoClient('mongodb://10.237.26.25:27017/')\n",
    "db = client['media-db']"
   ]
  },
  {
   "cell_type": "code",
   "execution_count": 2,
   "metadata": {
    "collapsed": true
   },
   "outputs": [],
   "source": [
    "import pandas as pd"
   ]
  },
  {
   "cell_type": "code",
   "execution_count": 3,
   "metadata": {
    "collapsed": true
   },
   "outputs": [],
   "source": [
    "from nltk.tokenize import sent_tokenize, word_tokenize"
   ]
  },
  {
   "cell_type": "code",
   "execution_count": 4,
   "metadata": {
    "collapsed": true
   },
   "outputs": [],
   "source": [
    "df_std = pd.read_csv('anom_detection/df_anom_std.csv')"
   ]
  },
  {
   "cell_type": "code",
   "execution_count": 5,
   "metadata": {},
   "outputs": [
    {
     "data": {
      "text/html": [
       "<div>\n",
       "<style>\n",
       "    .dataframe thead tr:only-child th {\n",
       "        text-align: right;\n",
       "    }\n",
       "\n",
       "    .dataframe thead th {\n",
       "        text-align: left;\n",
       "    }\n",
       "\n",
       "    .dataframe tbody tr th {\n",
       "        vertical-align: top;\n",
       "    }\n",
       "</style>\n",
       "<table border=\"1\" class=\"dataframe\">\n",
       "  <thead>\n",
       "    <tr style=\"text-align: right;\">\n",
       "      <th></th>\n",
       "      <th>0</th>\n",
       "      <th>DT_CEN_CD</th>\n",
       "      <th>ST_CEN_CD</th>\n",
       "      <th>ST_NM</th>\n",
       "      <th>1</th>\n",
       "      <th>2</th>\n",
       "      <th>3</th>\n",
       "      <th>4</th>\n",
       "      <th>5</th>\n",
       "      <th>6</th>\n",
       "      <th>7</th>\n",
       "      <th>8</th>\n",
       "      <th>9</th>\n",
       "      <th>10</th>\n",
       "      <th>11</th>\n",
       "      <th>12</th>\n",
       "      <th>13</th>\n",
       "    </tr>\n",
       "  </thead>\n",
       "  <tbody>\n",
       "    <tr>\n",
       "      <th>0</th>\n",
       "      <td>Adilabad</td>\n",
       "      <td>1</td>\n",
       "      <td>28</td>\n",
       "      <td>Andhra Pradesh</td>\n",
       "      <td>Oct-12</td>\n",
       "      <td>Feb-15</td>\n",
       "      <td>Aug-12</td>\n",
       "      <td>Sep-12</td>\n",
       "      <td>Nov-14</td>\n",
       "      <td>Mar-16</td>\n",
       "      <td>Dec-16</td>\n",
       "      <td>NaN</td>\n",
       "      <td>NaN</td>\n",
       "      <td>NaN</td>\n",
       "      <td>NaN</td>\n",
       "      <td>NaN</td>\n",
       "      <td>NaN</td>\n",
       "    </tr>\n",
       "    <tr>\n",
       "      <th>1</th>\n",
       "      <td>Agra</td>\n",
       "      <td>15</td>\n",
       "      <td>9</td>\n",
       "      <td>Uttar Pradesh</td>\n",
       "      <td>May-13</td>\n",
       "      <td>Jun-13</td>\n",
       "      <td>Apr-15</td>\n",
       "      <td>Jul-12</td>\n",
       "      <td>Aug-14</td>\n",
       "      <td>Oct-15</td>\n",
       "      <td>Dec-16</td>\n",
       "      <td>NaN</td>\n",
       "      <td>NaN</td>\n",
       "      <td>NaN</td>\n",
       "      <td>NaN</td>\n",
       "      <td>NaN</td>\n",
       "      <td>NaN</td>\n",
       "    </tr>\n",
       "    <tr>\n",
       "      <th>2</th>\n",
       "      <td>Ahmadnagar</td>\n",
       "      <td>26</td>\n",
       "      <td>27</td>\n",
       "      <td>Maharashtra</td>\n",
       "      <td>Feb-15</td>\n",
       "      <td>Oct-16</td>\n",
       "      <td>Jul-12</td>\n",
       "      <td>Jun-13</td>\n",
       "      <td>Nov-14</td>\n",
       "      <td>Sep-15</td>\n",
       "      <td>NaN</td>\n",
       "      <td>NaN</td>\n",
       "      <td>NaN</td>\n",
       "      <td>NaN</td>\n",
       "      <td>NaN</td>\n",
       "      <td>NaN</td>\n",
       "      <td>NaN</td>\n",
       "    </tr>\n",
       "    <tr>\n",
       "      <th>3</th>\n",
       "      <td>Aizawl</td>\n",
       "      <td>3</td>\n",
       "      <td>15</td>\n",
       "      <td>Mizoram</td>\n",
       "      <td>Oct-13</td>\n",
       "      <td>Feb-15</td>\n",
       "      <td>May-16</td>\n",
       "      <td>Jan-17</td>\n",
       "      <td>Jul-13</td>\n",
       "      <td>Nov-14</td>\n",
       "      <td>Mar-16</td>\n",
       "      <td>NaN</td>\n",
       "      <td>NaN</td>\n",
       "      <td>NaN</td>\n",
       "      <td>NaN</td>\n",
       "      <td>NaN</td>\n",
       "      <td>NaN</td>\n",
       "    </tr>\n",
       "    <tr>\n",
       "      <th>4</th>\n",
       "      <td>Ajmer</td>\n",
       "      <td>21</td>\n",
       "      <td>8</td>\n",
       "      <td>Rajasthan</td>\n",
       "      <td>Jul-12</td>\n",
       "      <td>Jan-15</td>\n",
       "      <td>Oct-16</td>\n",
       "      <td>Aug-12</td>\n",
       "      <td>Nov-14</td>\n",
       "      <td>Sep-15</td>\n",
       "      <td>NaN</td>\n",
       "      <td>NaN</td>\n",
       "      <td>NaN</td>\n",
       "      <td>NaN</td>\n",
       "      <td>NaN</td>\n",
       "      <td>NaN</td>\n",
       "      <td>NaN</td>\n",
       "    </tr>\n",
       "  </tbody>\n",
       "</table>\n",
       "</div>"
      ],
      "text/plain": [
       "            0  DT_CEN_CD  ST_CEN_CD           ST_NM       1       2       3  \\\n",
       "0    Adilabad          1         28  Andhra Pradesh  Oct-12  Feb-15  Aug-12   \n",
       "1        Agra         15          9   Uttar Pradesh  May-13  Jun-13  Apr-15   \n",
       "2  Ahmadnagar         26         27     Maharashtra  Feb-15  Oct-16  Jul-12   \n",
       "3      Aizawl          3         15         Mizoram  Oct-13  Feb-15  May-16   \n",
       "4       Ajmer         21          8       Rajasthan  Jul-12  Jan-15  Oct-16   \n",
       "\n",
       "        4       5       6       7    8    9   10   11   12   13  \n",
       "0  Sep-12  Nov-14  Mar-16  Dec-16  NaN  NaN  NaN  NaN  NaN  NaN  \n",
       "1  Jul-12  Aug-14  Oct-15  Dec-16  NaN  NaN  NaN  NaN  NaN  NaN  \n",
       "2  Jun-13  Nov-14  Sep-15     NaN  NaN  NaN  NaN  NaN  NaN  NaN  \n",
       "3  Jan-17  Jul-13  Nov-14  Mar-16  NaN  NaN  NaN  NaN  NaN  NaN  \n",
       "4  Aug-12  Nov-14  Sep-15     NaN  NaN  NaN  NaN  NaN  NaN  NaN  "
      ]
     },
     "execution_count": 5,
     "metadata": {},
     "output_type": "execute_result"
    }
   ],
   "source": [
    "df_std.head()"
   ]
  },
  {
   "cell_type": "code",
   "execution_count": 6,
   "metadata": {
    "collapsed": true
   },
   "outputs": [],
   "source": [
    "state = 'Assam'"
   ]
  },
  {
   "cell_type": "code",
   "execution_count": 7,
   "metadata": {
    "collapsed": true
   },
   "outputs": [],
   "source": [
    "dist_list = df_std[df_std['ST_NM'] == state]['0'].values.tolist()"
   ]
  },
  {
   "cell_type": "code",
   "execution_count": 8,
   "metadata": {
    "collapsed": true
   },
   "outputs": [],
   "source": [
    "dist_list = [word.lower() for word in dist_list]"
   ]
  },
  {
   "cell_type": "code",
   "execution_count": 9,
   "metadata": {
    "collapsed": true,
    "scrolled": true
   },
   "outputs": [],
   "source": [
    "folder_name = state+'/txt_files/'"
   ]
  },
  {
   "cell_type": "code",
   "execution_count": 10,
   "metadata": {
    "collapsed": true
   },
   "outputs": [],
   "source": [
    "if not os.path.exists(folder_name):\n",
    "    os.makedirs(folder_name)"
   ]
  },
  {
   "cell_type": "code",
   "execution_count": 12,
   "metadata": {},
   "outputs": [
    {
     "data": {
      "text/plain": [
       "26"
      ]
     },
     "execution_count": 12,
     "metadata": {},
     "output_type": "execute_result"
    }
   ],
   "source": [
    "len(dist_list)"
   ]
  },
  {
   "cell_type": "code",
   "execution_count": 13,
   "metadata": {
    "collapsed": true
   },
   "outputs": [],
   "source": [
    "x=db.articles.find({'publishedDate':{'$regex':'2012|2013|2014|2015|2016|2017|2018'}},no_cursor_timeout=True)"
   ]
  },
  {
   "cell_type": "code",
   "execution_count": 14,
   "metadata": {
    "collapsed": true
   },
   "outputs": [],
   "source": [
    "x=db.articles.find({'publishedDate':{'$regex':'2012-09'}},no_cursor_timeout=True)"
   ]
  },
  {
   "cell_type": "code",
   "execution_count": null,
   "metadata": {
    "collapsed": true
   },
   "outputs": [],
   "source": [
    "count = 0\n",
    "count_temp = 0\n",
    "for item in x:\n",
    "    if (item['text'] != 'It looks like nothing was found at this location. Maybe try a search?Search for:'):\n",
    "        words_list = word_tokenize(item['text'].lower())\n",
    "        if len(set(dist_list).intersection(set(words_list)))>0:\n",
    "            itm_date = item['publishedDate']\n",
    "            itm_date = (itm_date[:itm_date.rfind(\"-\")])\n",
    "            f_name = folder_name + str(state) +\"_\"+ str(itm_date) + '.txt'\n",
    "            f = open(f_name,'a')\n",
    "            f2 = open(f_name,'r')\n",
    "            text = f2.read()\n",
    "\n",
    "            if text.find(str(item['_id']) + ' |&|') != -1:\n",
    "                continue\n",
    "                 \n",
    "            heading = item['articleTitle']\n",
    "            f.write(str(item['_id']) + \" |&| \" + item['sourceName'] + \" |&| \" + item['publishedDate'])\n",
    "            f.write('\\n'+heading.encode('utf-8')+'\\n')\n",
    "            f.write(item['text']+'\\n')\n",
    "            print >> f\n",
    "            print >> f\n",
    "            \n",
    "            count = count + 1\n",
    "            count_temp += 1\n",
    "            if count_temp >= 100:\n",
    "                print count\n",
    "                count_temp = 0"
   ]
  },
  {
   "cell_type": "code",
   "execution_count": null,
   "metadata": {
    "collapsed": true
   },
   "outputs": [],
   "source": []
  },
  {
   "cell_type": "code",
   "execution_count": null,
   "metadata": {
    "collapsed": true
   },
   "outputs": [],
   "source": []
  },
  {
   "cell_type": "code",
   "execution_count": null,
   "metadata": {
    "collapsed": true
   },
   "outputs": [],
   "source": []
  },
  {
   "cell_type": "code",
   "execution_count": null,
   "metadata": {
    "collapsed": true
   },
   "outputs": [],
   "source": [
    "date_2012 = '2012-05|2012-06|2012-07|2012-08|2012-09|2012-10|2012-11|2012-12|'"
   ]
  },
  {
   "cell_type": "code",
   "execution_count": null,
   "metadata": {
    "collapsed": true
   },
   "outputs": [],
   "source": [
    "date_2013 = '2013-01|2013-02|2013-03|2013-04|2013-05|2013-06|2013-07|2013-08|2013-09|2013-10|2013-11|2013-12|'"
   ]
  },
  {
   "cell_type": "code",
   "execution_count": null,
   "metadata": {
    "collapsed": true
   },
   "outputs": [],
   "source": [
    "date_2014 = '2014-01|2014-02|2014-03|2014-04|2014-05|2014-06|2014-07|2014-08|2014-09|2014-10|2014-11|2014-12|'"
   ]
  },
  {
   "cell_type": "code",
   "execution_count": null,
   "metadata": {
    "collapsed": true
   },
   "outputs": [],
   "source": [
    "date_2015 = '2015-01|2015-02|2015-03|2015-04|2015-05|2015-06|2015-07|2015-08|2015-09|2015-10|2015-11|2015-12|'"
   ]
  },
  {
   "cell_type": "code",
   "execution_count": null,
   "metadata": {
    "collapsed": true
   },
   "outputs": [],
   "source": [
    "date_2016 = '2016-01|2016-02|2016-03|2016-04|2016-05|2016-06|2016-07|2016-08'"
   ]
  },
  {
   "cell_type": "code",
   "execution_count": null,
   "metadata": {
    "collapsed": true
   },
   "outputs": [],
   "source": [
    "date_list = date_2012 + date_2013 + date_2014 + date_2015 + date_2016"
   ]
  },
  {
   "cell_type": "code",
   "execution_count": null,
   "metadata": {
    "collapsed": true
   },
   "outputs": [],
   "source": [
    "date_list = '2012|2013|2014'"
   ]
  },
  {
   "cell_type": "code",
   "execution_count": null,
   "metadata": {
    "collapsed": true
   },
   "outputs": [],
   "source": [
    "x = db.article.find({'publishedDate':{'$regex':date_list}},no_cursor_timeout=True)"
   ]
  }
 ],
 "metadata": {
  "kernelspec": {
   "display_name": "Python 2",
   "language": "python",
   "name": "python2"
  },
  "language_info": {
   "codemirror_mode": {
    "name": "ipython",
    "version": 2
   },
   "file_extension": ".py",
   "mimetype": "text/x-python",
   "name": "python",
   "nbconvert_exporter": "python",
   "pygments_lexer": "ipython2",
   "version": "2.7.14"
  }
 },
 "nbformat": 4,
 "nbformat_minor": 2
}
