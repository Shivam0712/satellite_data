{
 "cells": [
  {
   "cell_type": "code",
   "execution_count": 1,
   "metadata": {
    "scrolled": true
   },
   "outputs": [
    {
     "name": "stdout",
     "output_type": "stream",
     "text": [
      "Using matplotlib backend: Qt4Agg\n",
      "Populating the interactive namespace from numpy and matplotlib\n"
     ]
    },
    {
     "name": "stderr",
     "output_type": "stream",
     "text": [
      "/home/deva/anaconda2/lib/python2.7/site-packages/sklearn/cross_validation.py:41: DeprecationWarning: This module was deprecated in version 0.18 in favor of the model_selection module into which all the refactored classes and functions are moved. Also note that the interface of the new CV iterators are different from that of this module. This module will be removed in 0.20.\n",
      "  \"This module will be removed in 0.20.\", DeprecationWarning)\n"
     ]
    }
   ],
   "source": [
    "### Import libraries\n",
    "import numpy as np\n",
    "import pandas as pd\n",
    "from sklearn.linear_model import LogisticRegression\n",
    "from sklearn.cross_validation import train_test_split\n",
    "from sklearn import metrics\n",
    "from sklearn.feature_selection import RFE\n",
    "from sklearn import cross_validation\n",
    "from sklearn import preprocessing\n",
    "import matplotlib.pyplot as plt\n",
    "from sklearn.decomposition import PCA\n",
    "%pylab\n",
    "from sklearn.pipeline import make_pipeline\n",
    "from scipy.signal import argrelextrema\n",
    "import statsmodels.discrete.discrete_model as sm"
   ]
  },
  {
   "cell_type": "code",
   "execution_count": 2,
   "metadata": {
    "collapsed": true
   },
   "outputs": [],
   "source": [
    "df_outliers = pd.read_excel('DistrictTypes.xlsx')"
   ]
  },
  {
   "cell_type": "code",
   "execution_count": 3,
   "metadata": {
    "scrolled": true
   },
   "outputs": [
    {
     "data": {
      "text/html": [
       "<div>\n",
       "<style>\n",
       "    .dataframe thead tr:only-child th {\n",
       "        text-align: right;\n",
       "    }\n",
       "\n",
       "    .dataframe thead th {\n",
       "        text-align: left;\n",
       "    }\n",
       "\n",
       "    .dataframe tbody tr th {\n",
       "        vertical-align: top;\n",
       "    }\n",
       "</style>\n",
       "<table border=\"1\" class=\"dataframe\">\n",
       "  <thead>\n",
       "    <tr style=\"text-align: right;\">\n",
       "      <th></th>\n",
       "      <th>District</th>\n",
       "      <th>State</th>\n",
       "      <th>Type</th>\n",
       "      <th>DistCode</th>\n",
       "    </tr>\n",
       "  </thead>\n",
       "  <tbody>\n",
       "    <tr>\n",
       "      <th>0</th>\n",
       "      <td>Agra</td>\n",
       "      <td>Uttar Pradesh</td>\n",
       "      <td>4. Large City</td>\n",
       "      <td>146</td>\n",
       "    </tr>\n",
       "    <tr>\n",
       "      <th>1</th>\n",
       "      <td>Ahmadabad</td>\n",
       "      <td>Gujarat</td>\n",
       "      <td>1. Metro</td>\n",
       "      <td>474</td>\n",
       "    </tr>\n",
       "    <tr>\n",
       "      <th>2</th>\n",
       "      <td>Aizawl</td>\n",
       "      <td>Mizoram</td>\n",
       "      <td>3. Capital</td>\n",
       "      <td>283</td>\n",
       "    </tr>\n",
       "    <tr>\n",
       "      <th>3</th>\n",
       "      <td>Ajmer</td>\n",
       "      <td>Rajasthan</td>\n",
       "      <td>4. Large City</td>\n",
       "      <td>119</td>\n",
       "    </tr>\n",
       "    <tr>\n",
       "      <th>4</th>\n",
       "      <td>Allahabad</td>\n",
       "      <td>Uttar Pradesh</td>\n",
       "      <td>4. Large City</td>\n",
       "      <td>175</td>\n",
       "    </tr>\n",
       "  </tbody>\n",
       "</table>\n",
       "</div>"
      ],
      "text/plain": [
       "     District          State           Type  DistCode\n",
       "0        Agra  Uttar Pradesh  4. Large City       146\n",
       "1   Ahmadabad        Gujarat       1. Metro       474\n",
       "2      Aizawl        Mizoram     3. Capital       283\n",
       "3       Ajmer      Rajasthan  4. Large City       119\n",
       "4  Allahabad   Uttar Pradesh  4. Large City       175"
      ]
     },
     "execution_count": 3,
     "metadata": {},
     "output_type": "execute_result"
    }
   ],
   "source": [
    "df_outliers.head()"
   ]
  },
  {
   "cell_type": "code",
   "execution_count": 4,
   "metadata": {
    "collapsed": true
   },
   "outputs": [],
   "source": [
    "snow_id = df_outliers[df_outliers['Type'] == '5. Snow Clad']['DistCode'].values.tolist()"
   ]
  },
  {
   "cell_type": "code",
   "execution_count": 5,
   "metadata": {
    "collapsed": true
   },
   "outputs": [],
   "source": [
    "metro = df_outliers[df_outliers['Type'] == '1. Metro']['DistCode'].values.tolist()"
   ]
  },
  {
   "cell_type": "code",
   "execution_count": 6,
   "metadata": {
    "collapsed": true
   },
   "outputs": [],
   "source": [
    "### Import Data Files\n",
    "df_satData = pd.read_csv('distSatellite_withLabels.csv')"
   ]
  },
  {
   "cell_type": "code",
   "execution_count": 7,
   "metadata": {
    "collapsed": true
   },
   "outputs": [],
   "source": [
    "df_satData = df_satData[~(df_satData['101'].isin(snow_id+metro))]"
   ]
  },
  {
   "cell_type": "code",
   "execution_count": 8,
   "metadata": {
    "collapsed": true
   },
   "outputs": [],
   "source": [
    "### List of labels\n",
    "lis_labelsAll = ['MSL_1','MSL_2','MSL_3','MSW_1','MSW_2','MSW_3','CHH_1','CHH_2','CHH_3','FC_1','FC_2','FC_3','BF_1','BF_2','BF_3','EMP_1','EMP_2','EMP_3']\n",
    "\n",
    "### List of useful Labels\n",
    "lis_labels= ['EMP_1','EMP_2','EMP_3']"
   ]
  },
  {
   "cell_type": "code",
   "execution_count": 9,
   "metadata": {},
   "outputs": [
    {
     "data": {
      "text/html": [
       "<div>\n",
       "<style>\n",
       "    .dataframe thead tr:only-child th {\n",
       "        text-align: right;\n",
       "    }\n",
       "\n",
       "    .dataframe thead th {\n",
       "        text-align: left;\n",
       "    }\n",
       "\n",
       "    .dataframe tbody tr th {\n",
       "        vertical-align: top;\n",
       "    }\n",
       "</style>\n",
       "<table border=\"1\" class=\"dataframe\">\n",
       "  <thead>\n",
       "    <tr style=\"text-align: right;\">\n",
       "      <th></th>\n",
       "      <th>DISTRICT</th>\n",
       "      <th>101</th>\n",
       "      <th>DN_00</th>\n",
       "      <th>DN_01</th>\n",
       "      <th>DN_02</th>\n",
       "      <th>DN_03</th>\n",
       "      <th>DN_04</th>\n",
       "      <th>DN_05</th>\n",
       "      <th>DN_06</th>\n",
       "      <th>DN_07</th>\n",
       "      <th>...</th>\n",
       "      <th>CHH_3</th>\n",
       "      <th>FC_1</th>\n",
       "      <th>FC_2</th>\n",
       "      <th>FC_3</th>\n",
       "      <th>BF_1</th>\n",
       "      <th>BF_2</th>\n",
       "      <th>BF_3</th>\n",
       "      <th>EMP_1</th>\n",
       "      <th>EMP_2</th>\n",
       "      <th>EMP_3</th>\n",
       "    </tr>\n",
       "  </thead>\n",
       "  <tbody>\n",
       "    <tr>\n",
       "      <th>0</th>\n",
       "      <td>Adilabad</td>\n",
       "      <td>532</td>\n",
       "      <td>5237.12</td>\n",
       "      <td>0</td>\n",
       "      <td>0</td>\n",
       "      <td>0.76</td>\n",
       "      <td>1815.67</td>\n",
       "      <td>3332.38</td>\n",
       "      <td>2043.90</td>\n",
       "      <td>1049.05</td>\n",
       "      <td>...</td>\n",
       "      <td>0</td>\n",
       "      <td>1</td>\n",
       "      <td>0</td>\n",
       "      <td>0</td>\n",
       "      <td>1</td>\n",
       "      <td>0</td>\n",
       "      <td>0</td>\n",
       "      <td>0</td>\n",
       "      <td>1</td>\n",
       "      <td>0</td>\n",
       "    </tr>\n",
       "    <tr>\n",
       "      <th>1</th>\n",
       "      <td>Agra</td>\n",
       "      <td>146</td>\n",
       "      <td>401.66</td>\n",
       "      <td>0</td>\n",
       "      <td>0</td>\n",
       "      <td>0.00</td>\n",
       "      <td>48.54</td>\n",
       "      <td>451.36</td>\n",
       "      <td>620.77</td>\n",
       "      <td>441.57</td>\n",
       "      <td>...</td>\n",
       "      <td>0</td>\n",
       "      <td>0</td>\n",
       "      <td>0</td>\n",
       "      <td>1</td>\n",
       "      <td>0</td>\n",
       "      <td>0</td>\n",
       "      <td>1</td>\n",
       "      <td>1</td>\n",
       "      <td>0</td>\n",
       "      <td>0</td>\n",
       "    </tr>\n",
       "    <tr>\n",
       "      <th>3</th>\n",
       "      <td>Ahmadnagar</td>\n",
       "      <td>522</td>\n",
       "      <td>984.52</td>\n",
       "      <td>0</td>\n",
       "      <td>0</td>\n",
       "      <td>3.12</td>\n",
       "      <td>1756.19</td>\n",
       "      <td>3855.19</td>\n",
       "      <td>2683.53</td>\n",
       "      <td>1989.69</td>\n",
       "      <td>...</td>\n",
       "      <td>0</td>\n",
       "      <td>1</td>\n",
       "      <td>0</td>\n",
       "      <td>0</td>\n",
       "      <td>1</td>\n",
       "      <td>0</td>\n",
       "      <td>0</td>\n",
       "      <td>0</td>\n",
       "      <td>1</td>\n",
       "      <td>0</td>\n",
       "    </tr>\n",
       "    <tr>\n",
       "      <th>4</th>\n",
       "      <td>Aizawl</td>\n",
       "      <td>283</td>\n",
       "      <td>3412.59</td>\n",
       "      <td>0</td>\n",
       "      <td>0</td>\n",
       "      <td>0.00</td>\n",
       "      <td>49.31</td>\n",
       "      <td>102.02</td>\n",
       "      <td>42.99</td>\n",
       "      <td>27.32</td>\n",
       "      <td>...</td>\n",
       "      <td>0</td>\n",
       "      <td>0</td>\n",
       "      <td>0</td>\n",
       "      <td>1</td>\n",
       "      <td>0</td>\n",
       "      <td>0</td>\n",
       "      <td>1</td>\n",
       "      <td>0</td>\n",
       "      <td>0</td>\n",
       "      <td>1</td>\n",
       "    </tr>\n",
       "    <tr>\n",
       "      <th>5</th>\n",
       "      <td>Ajmer</td>\n",
       "      <td>119</td>\n",
       "      <td>3903.05</td>\n",
       "      <td>0</td>\n",
       "      <td>0</td>\n",
       "      <td>1.61</td>\n",
       "      <td>386.31</td>\n",
       "      <td>1286.76</td>\n",
       "      <td>648.55</td>\n",
       "      <td>490.42</td>\n",
       "      <td>...</td>\n",
       "      <td>0</td>\n",
       "      <td>0</td>\n",
       "      <td>0</td>\n",
       "      <td>1</td>\n",
       "      <td>0</td>\n",
       "      <td>0</td>\n",
       "      <td>1</td>\n",
       "      <td>0</td>\n",
       "      <td>0</td>\n",
       "      <td>1</td>\n",
       "    </tr>\n",
       "  </tbody>\n",
       "</table>\n",
       "<p>5 rows × 103 columns</p>\n",
       "</div>"
      ],
      "text/plain": [
       "     DISTRICT  101    DN_00  DN_01  DN_02  DN_03    DN_04    DN_05    DN_06  \\\n",
       "0    Adilabad  532  5237.12      0      0   0.76  1815.67  3332.38  2043.90   \n",
       "1        Agra  146   401.66      0      0   0.00    48.54   451.36   620.77   \n",
       "3  Ahmadnagar  522   984.52      0      0   3.12  1756.19  3855.19  2683.53   \n",
       "4      Aizawl  283  3412.59      0      0   0.00    49.31   102.02    42.99   \n",
       "5       Ajmer  119  3903.05      0      0   1.61   386.31  1286.76   648.55   \n",
       "\n",
       "     DN_07  ...    CHH_3  FC_1  FC_2  FC_3  BF_1  BF_2  BF_3  EMP_1  EMP_2  \\\n",
       "0  1049.05  ...        0     1     0     0     1     0     0      0      1   \n",
       "1   441.57  ...        0     0     0     1     0     0     1      1      0   \n",
       "3  1989.69  ...        0     1     0     0     1     0     0      0      1   \n",
       "4    27.32  ...        0     0     0     1     0     0     1      0      0   \n",
       "5   490.42  ...        0     0     0     1     0     0     1      0      0   \n",
       "\n",
       "   EMP_3  \n",
       "0      0  \n",
       "1      0  \n",
       "3      0  \n",
       "4      1  \n",
       "5      1  \n",
       "\n",
       "[5 rows x 103 columns]"
      ]
     },
     "execution_count": 9,
     "metadata": {},
     "output_type": "execute_result"
    }
   ],
   "source": [
    "df_satData.head()"
   ]
  },
  {
   "cell_type": "code",
   "execution_count": 10,
   "metadata": {},
   "outputs": [
    {
     "data": {
      "text/plain": [
       "(592, 103)"
      ]
     },
     "execution_count": 10,
     "metadata": {},
     "output_type": "execute_result"
    }
   ],
   "source": [
    "df_satData.shape"
   ]
  },
  {
   "cell_type": "code",
   "execution_count": 11,
   "metadata": {
    "collapsed": true
   },
   "outputs": [],
   "source": [
    "cols = df_satData.columns.tolist()"
   ]
  },
  {
   "cell_type": "code",
   "execution_count": 12,
   "metadata": {
    "collapsed": true
   },
   "outputs": [],
   "source": [
    "cols_new = cols[2:cols.index('MSL_1')]"
   ]
  },
  {
   "cell_type": "code",
   "execution_count": 13,
   "metadata": {
    "collapsed": true,
    "scrolled": true
   },
   "outputs": [],
   "source": [
    "quantile_list = df_satData[cols_new].quantile(0.95).values.tolist()"
   ]
  },
  {
   "cell_type": "code",
   "execution_count": 14,
   "metadata": {
    "collapsed": true
   },
   "outputs": [],
   "source": [
    "for i,quantile_val in enumerate(quantile_list):\n",
    "    df_satData.loc[df_satData[cols_new[i]] > quantile_val,cols_new[i]] = quantile_val"
   ]
  },
  {
   "cell_type": "code",
   "execution_count": 15,
   "metadata": {
    "collapsed": true
   },
   "outputs": [],
   "source": [
    "pure_modis_features = cols[cols.index('Water'):cols.index('MSL_1')]"
   ]
  },
  {
   "cell_type": "code",
   "execution_count": null,
   "metadata": {
    "collapsed": true
   },
   "outputs": [],
   "source": []
  },
  {
   "cell_type": "code",
   "execution_count": null,
   "metadata": {
    "collapsed": true
   },
   "outputs": [],
   "source": []
  },
  {
   "cell_type": "markdown",
   "metadata": {
    "collapsed": true
   },
   "source": [
    "## Building features from night light data"
   ]
  },
  {
   "cell_type": "code",
   "execution_count": 16,
   "metadata": {
    "collapsed": true
   },
   "outputs": [],
   "source": [
    "var = []\n",
    "for i in range(64):\n",
    "    var.append('DN_' + str(i).zfill(2))\n",
    "\n",
    "df_satData['Area'] = 0\n",
    "for i in var:\n",
    "    df_satData['Area']=df_satData['Area'] + df_satData[i]\n",
    "df_satData['Area'] = df_satData['Area'].replace(0,1)\n",
    "\n",
    "for i in var:\n",
    "    df_satData['p'+i] = (df_satData[i])/(df_satData['Area']*1.0)\n",
    "\n",
    "for i,j in enumerate(var):\n",
    "    df_satData['q'+j] = df_satData[j]*(i+1)\n",
    "\n",
    "var3 = []\n",
    "for i in var:\n",
    "    var3.append('p'+i)\n",
    "for i in var:\n",
    "    var3.append('q'+i)"
   ]
  },
  {
   "cell_type": "markdown",
   "metadata": {},
   "source": [
    "## Appling Pca to matrix formed from features of nightlight data"
   ]
  },
  {
   "cell_type": "code",
   "execution_count": 17,
   "metadata": {
    "collapsed": true
   },
   "outputs": [],
   "source": [
    "X = df_satData.loc[:,var3].values"
   ]
  },
  {
   "cell_type": "code",
   "execution_count": 18,
   "metadata": {},
   "outputs": [
    {
     "name": "stdout",
     "output_type": "stream",
     "text": [
      "[ 43.44  61.91  69.68  73.81  77.19  79.52  81.53  83.45  85.03  86.3\n",
      "  87.43  88.44  89.21  89.94  90.52  91.05  91.54  92.02  92.41  92.76\n",
      "  93.08  93.38  93.66  93.92  94.16  94.4   94.63  94.85  95.07  95.27\n",
      "  95.47  95.66  95.84  96.02  96.19  96.36  96.52  96.68  96.83  96.98\n",
      "  97.12  97.26  97.39  97.52  97.64  97.76  97.87  97.98  98.08  98.18\n",
      "  98.28  98.38  98.47  98.56  98.64  98.72  98.8   98.87  98.94  99.01\n",
      "  99.07  99.13  99.19  99.25  99.3   99.35  99.4   99.45  99.49  99.53\n",
      "  99.57  99.6   99.63  99.66  99.69  99.71  99.73  99.75  99.77  99.79\n",
      "  99.81  99.82  99.83  99.84  99.85  99.86  99.87  99.88  99.89  99.9\n",
      "  99.91  99.92  99.93  99.94  99.95  99.96  99.97  99.97  99.97  99.97\n",
      "  99.97  99.97  99.97  99.97  99.97  99.97  99.97  99.97  99.97  99.97\n",
      "  99.97  99.97  99.97  99.97  99.97  99.97  99.97  99.97  99.97  99.97\n",
      "  99.97  99.97  99.97  99.97  99.97  99.97  99.97  99.97]\n",
      "('n: 95% Variance: ', 9)\n"
     ]
    }
   ],
   "source": [
    "X = preprocessing.scale(X)\n",
    "pca = PCA()\n",
    "pca.fit(X)\n",
    "\n",
    "#pca= PCA(svd_solver='full')\n",
    "#pca.fit(X, y=None )\n",
    "\n",
    "#The amount of variance that each PC explains\n",
    "var= pca.explained_variance_ratio_\n",
    "\n",
    "#Cumulative Variance explains\n",
    "var1=np.cumsum(np.round(pca.explained_variance_ratio_, decimals=4)*100)\n",
    "print(var1)\n",
    "\n",
    "#Number of PC comprising 95%Variance\n",
    "n = len(var1)-len([num for num in var1 if num != 0 and num > 85.0])+1\n",
    "print( \"n: 95% Variance: \",n)"
   ]
  },
  {
   "cell_type": "code",
   "execution_count": 19,
   "metadata": {
    "collapsed": true
   },
   "outputs": [],
   "source": [
    "### PCA fit\n",
    "X=pca.fit_transform(X)\n",
    "X=X[:,0:n]"
   ]
  },
  {
   "cell_type": "code",
   "execution_count": 20,
   "metadata": {},
   "outputs": [
    {
     "data": {
      "text/plain": [
       "9"
      ]
     },
     "execution_count": 20,
     "metadata": {},
     "output_type": "execute_result"
    }
   ],
   "source": [
    "n"
   ]
  },
  {
   "cell_type": "code",
   "execution_count": null,
   "metadata": {
    "collapsed": true
   },
   "outputs": [],
   "source": []
  },
  {
   "cell_type": "code",
   "execution_count": 21,
   "metadata": {
    "collapsed": true
   },
   "outputs": [],
   "source": [
    "## creating variance table "
   ]
  },
  {
   "cell_type": "code",
   "execution_count": 22,
   "metadata": {
    "collapsed": true
   },
   "outputs": [],
   "source": [
    "df_pcaComp = pd.DataFrame(pca.components_)"
   ]
  },
  {
   "cell_type": "code",
   "execution_count": 23,
   "metadata": {
    "collapsed": true
   },
   "outputs": [],
   "source": [
    "pca_idx = ['PCA_'+str(i) for i in range(len(df_pcaComp))]"
   ]
  },
  {
   "cell_type": "code",
   "execution_count": 24,
   "metadata": {
    "collapsed": true
   },
   "outputs": [],
   "source": [
    "df_pcaComp.index = pca_idx"
   ]
  },
  {
   "cell_type": "code",
   "execution_count": 25,
   "metadata": {
    "collapsed": true
   },
   "outputs": [],
   "source": [
    "df_pcaComp.columns = var3"
   ]
  },
  {
   "cell_type": "code",
   "execution_count": 201,
   "metadata": {},
   "outputs": [
    {
     "data": {
      "text/plain": [
       "PCA_0    0.007115\n",
       "PCA_1    0.003367\n",
       "PCA_2    0.014193\n",
       "PCA_3    0.007086\n",
       "PCA_4    0.011504\n",
       "PCA_5    0.009548\n",
       "PCA_6    0.004924\n",
       "PCA_7    0.012804\n",
       "PCA_8    0.017946\n",
       "PCA_9    0.010711\n",
       "dtype: float64"
      ]
     },
     "execution_count": 201,
     "metadata": {},
     "output_type": "execute_result"
    }
   ],
   "source": [
    "abs(df_pcaComp[column][:10])/abs(df_pcaComp[:10]).sum(axis=1)"
   ]
  },
  {
   "cell_type": "code",
   "execution_count": 202,
   "metadata": {},
   "outputs": [],
   "source": [
    "bins_pcaVar = [[0]*10]*7\n",
    "\n",
    "for column in df_pcaComp:\n",
    "    bins_pcaVar[(int(column[4:])/10)] += (abs(df_pcaComp[column][:10])/abs(df_pcaComp[:10]).sum(axis=1))\n",
    "\n",
    "bins_pcaVar[5] += bins_pcaVar[6]"
   ]
  },
  {
   "cell_type": "code",
   "execution_count": 203,
   "metadata": {},
   "outputs": [],
   "source": [
    "df_bins_pcaVar = pd.DataFrame(bins_pcaVar[:6]).T"
   ]
  },
  {
   "cell_type": "code",
   "execution_count": 204,
   "metadata": {},
   "outputs": [],
   "source": [
    "df_bins_pcaVar.columns = ['L1','L2','M1','M2','H1','H2']"
   ]
  },
  {
   "cell_type": "code",
   "execution_count": 205,
   "metadata": {},
   "outputs": [
    {
     "data": {
      "text/html": [
       "<div>\n",
       "<style>\n",
       "    .dataframe thead tr:only-child th {\n",
       "        text-align: right;\n",
       "    }\n",
       "\n",
       "    .dataframe thead th {\n",
       "        text-align: left;\n",
       "    }\n",
       "\n",
       "    .dataframe tbody tr th {\n",
       "        vertical-align: top;\n",
       "    }\n",
       "</style>\n",
       "<table border=\"1\" class=\"dataframe\">\n",
       "  <thead>\n",
       "    <tr style=\"text-align: right;\">\n",
       "      <th></th>\n",
       "      <th>L1</th>\n",
       "      <th>L2</th>\n",
       "      <th>M1</th>\n",
       "      <th>M2</th>\n",
       "      <th>H1</th>\n",
       "      <th>H2</th>\n",
       "    </tr>\n",
       "  </thead>\n",
       "  <tbody>\n",
       "    <tr>\n",
       "      <th>PCA_0</th>\n",
       "      <td>0.069622</td>\n",
       "      <td>0.182638</td>\n",
       "      <td>0.184764</td>\n",
       "      <td>0.185235</td>\n",
       "      <td>0.168014</td>\n",
       "      <td>0.209727</td>\n",
       "    </tr>\n",
       "    <tr>\n",
       "      <th>PCA_1</th>\n",
       "      <td>0.115357</td>\n",
       "      <td>0.118185</td>\n",
       "      <td>0.153546</td>\n",
       "      <td>0.194123</td>\n",
       "      <td>0.184449</td>\n",
       "      <td>0.234339</td>\n",
       "    </tr>\n",
       "    <tr>\n",
       "      <th>PCA_2</th>\n",
       "      <td>0.131567</td>\n",
       "      <td>0.287893</td>\n",
       "      <td>0.123489</td>\n",
       "      <td>0.084085</td>\n",
       "      <td>0.107570</td>\n",
       "      <td>0.265397</td>\n",
       "    </tr>\n",
       "    <tr>\n",
       "      <th>PCA_3</th>\n",
       "      <td>0.245433</td>\n",
       "      <td>0.173860</td>\n",
       "      <td>0.095888</td>\n",
       "      <td>0.085031</td>\n",
       "      <td>0.114483</td>\n",
       "      <td>0.285305</td>\n",
       "    </tr>\n",
       "    <tr>\n",
       "      <th>PCA_4</th>\n",
       "      <td>0.278308</td>\n",
       "      <td>0.154732</td>\n",
       "      <td>0.095628</td>\n",
       "      <td>0.121288</td>\n",
       "      <td>0.113258</td>\n",
       "      <td>0.236787</td>\n",
       "    </tr>\n",
       "    <tr>\n",
       "      <th>PCA_5</th>\n",
       "      <td>0.122906</td>\n",
       "      <td>0.132008</td>\n",
       "      <td>0.261625</td>\n",
       "      <td>0.157568</td>\n",
       "      <td>0.111595</td>\n",
       "      <td>0.214298</td>\n",
       "    </tr>\n",
       "    <tr>\n",
       "      <th>PCA_6</th>\n",
       "      <td>0.178404</td>\n",
       "      <td>0.122809</td>\n",
       "      <td>0.202930</td>\n",
       "      <td>0.131865</td>\n",
       "      <td>0.216273</td>\n",
       "      <td>0.147720</td>\n",
       "    </tr>\n",
       "    <tr>\n",
       "      <th>PCA_7</th>\n",
       "      <td>0.357670</td>\n",
       "      <td>0.173657</td>\n",
       "      <td>0.133177</td>\n",
       "      <td>0.058327</td>\n",
       "      <td>0.081393</td>\n",
       "      <td>0.195776</td>\n",
       "    </tr>\n",
       "    <tr>\n",
       "      <th>PCA_8</th>\n",
       "      <td>0.214938</td>\n",
       "      <td>0.154443</td>\n",
       "      <td>0.158474</td>\n",
       "      <td>0.150712</td>\n",
       "      <td>0.102664</td>\n",
       "      <td>0.218769</td>\n",
       "    </tr>\n",
       "    <tr>\n",
       "      <th>PCA_9</th>\n",
       "      <td>0.240271</td>\n",
       "      <td>0.193651</td>\n",
       "      <td>0.179624</td>\n",
       "      <td>0.082451</td>\n",
       "      <td>0.149666</td>\n",
       "      <td>0.154337</td>\n",
       "    </tr>\n",
       "  </tbody>\n",
       "</table>\n",
       "</div>"
      ],
      "text/plain": [
       "             L1        L2        M1        M2        H1        H2\n",
       "PCA_0  0.069622  0.182638  0.184764  0.185235  0.168014  0.209727\n",
       "PCA_1  0.115357  0.118185  0.153546  0.194123  0.184449  0.234339\n",
       "PCA_2  0.131567  0.287893  0.123489  0.084085  0.107570  0.265397\n",
       "PCA_3  0.245433  0.173860  0.095888  0.085031  0.114483  0.285305\n",
       "PCA_4  0.278308  0.154732  0.095628  0.121288  0.113258  0.236787\n",
       "PCA_5  0.122906  0.132008  0.261625  0.157568  0.111595  0.214298\n",
       "PCA_6  0.178404  0.122809  0.202930  0.131865  0.216273  0.147720\n",
       "PCA_7  0.357670  0.173657  0.133177  0.058327  0.081393  0.195776\n",
       "PCA_8  0.214938  0.154443  0.158474  0.150712  0.102664  0.218769\n",
       "PCA_9  0.240271  0.193651  0.179624  0.082451  0.149666  0.154337"
      ]
     },
     "execution_count": 205,
     "metadata": {},
     "output_type": "execute_result"
    }
   ],
   "source": [
    "df_bins_pcaVar"
   ]
  },
  {
   "cell_type": "code",
   "execution_count": 206,
   "metadata": {},
   "outputs": [],
   "source": [
    "df_newVarTable = pd.DataFrame(columns=['0','1','2','3','4','5'])\n",
    "\n",
    "for i in range(10):\n",
    "    temp = df_bins_pcaVar[i:i+1].sort_values(by=pca_idx[i],axis=1,ascending=False)\n",
    "    temp_cols = temp.columns.tolist()\n",
    "    temp_vals = np.round(temp.values[0],2).tolist()\n",
    "    new_row = [str(temp_vals[j])+','+temp_cols[j] for j in range(len(temp_cols))]\n",
    "    df_newVarTable.loc[pca_idx[i],:] = new_row\n",
    "    "
   ]
  },
  {
   "cell_type": "code",
   "execution_count": 209,
   "metadata": {},
   "outputs": [],
   "source": [
    "df_newVarTable.to_csv('newVarTable.csv')"
   ]
  },
  {
   "cell_type": "code",
   "execution_count": null,
   "metadata": {
    "collapsed": true
   },
   "outputs": [],
   "source": [
    "temp2 = []\n",
    "for i in range(n):\n",
    "    temp = df_pcaComp[i:i+1]\n",
    "    temp_sorted = temp.sort_values(by=pca_idx[i],axis=1)\n",
    "    cols = temp_sorted.columns.tolist()\n",
    "    #temp_sorted[cols[:3]+cols[-3:]]\n",
    "    temp3 = temp_sorted[cols[:3]+cols[-3:]]\n",
    "    temp2.append(temp3.columns.tolist())\n",
    "    temp2.append(temp3.values.tolist()[0])\n",
    "    temp2.append([float('NaN')]*6)\n",
    "    df_temp2 = pd.DataFrame(temp2)"
   ]
  },
  {
   "cell_type": "code",
   "execution_count": null,
   "metadata": {
    "collapsed": true
   },
   "outputs": [],
   "source": [
    "df_temp2.to_csv('variance_table.csv')"
   ]
  },
  {
   "cell_type": "code",
   "execution_count": null,
   "metadata": {
    "collapsed": true
   },
   "outputs": [],
   "source": []
  },
  {
   "cell_type": "code",
   "execution_count": null,
   "metadata": {
    "collapsed": true
   },
   "outputs": [],
   "source": []
  },
  {
   "cell_type": "code",
   "execution_count": null,
   "metadata": {
    "collapsed": true
   },
   "outputs": [],
   "source": [
    "### Creating Dataframe of PCA\n",
    "col_X = []\n",
    "for j in range(n):\n",
    "    col_X.append('PCA_'+str(j))\n",
    "df_pcaNTL = pd.DataFrame(X,columns=col_X)"
   ]
  },
  {
   "cell_type": "code",
   "execution_count": null,
   "metadata": {
    "collapsed": true
   },
   "outputs": [],
   "source": [
    "df_pcaNTL['101'] = df_satData['101'].values.tolist()"
   ]
  },
  {
   "cell_type": "code",
   "execution_count": null,
   "metadata": {},
   "outputs": [],
   "source": [
    "df_pcaNTL.head()"
   ]
  },
  {
   "cell_type": "markdown",
   "metadata": {},
   "source": [
    "## Building features out of Modis Data"
   ]
  },
  {
   "cell_type": "code",
   "execution_count": null,
   "metadata": {
    "collapsed": true
   },
   "outputs": [],
   "source": [
    "df_satData['Urban and built-up']=df_satData['Urban and built-up']+1\n",
    "df_satData['CropRatio']=(df_satData['Croplands']+df_satData['Cropland/Natural vegetation mosaic'])/df_satData['Area']\n",
    "df_satData['AvgUrbanNTL']=df_satData['sum']/df_satData['Urban and built-up']\n",
    "df_satData['UrbanRatio']= df_satData['Urban and built-up']/df_satData['Area']\n",
    "\n",
    "df_satData['Natural']= 0\n",
    "for i in ['Water','Evergreen Needleleaf forest','Evergreen Broadleaf forest','Deciduous Needleleaf forest','Deciduous Broadleaf forest','Mixed forest','Closed shrublands','Open shrublands','Woody savannas','Savannas','Grasslands','Permanent wetlands','Snow and ice']:\n",
    "    df_satData['Natural']=df_satData['Natural']+df_satData[i]\n",
    "    \n",
    "df_satData['CropRemainRatio']=(df_satData['Croplands']+df_satData['Cropland/Natural vegetation mosaic'])/(df_satData['Area']-df_satData['Natural'])\n",
    "df_satData['UrbanRemainRatio']=df_satData['Urban and built-up']/(df_satData['Area']-df_satData['Natural'])\n",
    "#df_satData['UrbanRatio']=df_satData['UrbanRatio'].fillna(0)\n",
    "\n",
    "\n",
    "forest =['Evergreen Broadleaf forest','Deciduous Broadleaf forest','Mixed forest']\n",
    "df_satData['forest'] = df_satData[forest].sum(axis=1)\n",
    "\n",
    "grass_shrubs =['Closed shrublands','Open shrublands','Woody savannas','Savannas','Grasslands']\n",
    "df_satData['grass_shrubs'] = df_satData[grass_shrubs].sum(axis=1)\n"
   ]
  },
  {
   "cell_type": "code",
   "execution_count": null,
   "metadata": {
    "collapsed": true
   },
   "outputs": [],
   "source": [
    "modi_area = df_satData[pure_modis_features].sum(axis=1).values.tolist()"
   ]
  },
  {
   "cell_type": "code",
   "execution_count": null,
   "metadata": {
    "collapsed": true
   },
   "outputs": [],
   "source": [
    "left_area = [df_satData['Area'].values.tolist()[i]-modi_area[i] for i in range(len(df_satData))]"
   ]
  },
  {
   "cell_type": "code",
   "execution_count": null,
   "metadata": {
    "collapsed": true
   },
   "outputs": [],
   "source": [
    "df_satData['left_area'] = left_area"
   ]
  },
  {
   "cell_type": "code",
   "execution_count": null,
   "metadata": {
    "collapsed": true
   },
   "outputs": [],
   "source": [
    "modi_var = []\n",
    "modi_var=['mean','sum','CropRatio', 'AvgUrbanNTL', 'UrbanRatio', 'CropRemainRatio', 'UrbanRemainRatio','Natural']\n",
    "for i in ['Croplands',\n",
    " 'Urban and built-up',\n",
    " 'Cropland/Natural vegetation mosaic',\n",
    " 'forest',\n",
    " 'grass_shrubs']:\n",
    "    df_satData['mod_'+i]=df_satData[i]/df_satData['Area']\n",
    "    modi_var.append('mod_'+i)\n",
    "    modi_var.append(i)\n",
    "modi_var.append('left_area')"
   ]
  },
  {
   "cell_type": "markdown",
   "metadata": {},
   "source": [
    "## final dataframe from pca version of nl and modi "
   ]
  },
  {
   "cell_type": "code",
   "execution_count": null,
   "metadata": {
    "collapsed": true
   },
   "outputs": [],
   "source": [
    "df_modi_nlPca =  pd.merge(df_satData[['101']+modi_var],df_pcaNTL,left_on='101',right_on='101',how='inner')"
   ]
  },
  {
   "cell_type": "code",
   "execution_count": null,
   "metadata": {
    "scrolled": true
   },
   "outputs": [],
   "source": [
    "df_modi_nlPca.shape"
   ]
  },
  {
   "cell_type": "code",
   "execution_count": null,
   "metadata": {
    "collapsed": true
   },
   "outputs": [],
   "source": [
    "var = df_modi_nlPca.columns.tolist()[1:]"
   ]
  },
  {
   "cell_type": "markdown",
   "metadata": {},
   "source": [
    "## finding feature ranking for a particular label"
   ]
  },
  {
   "cell_type": "code",
   "execution_count": null,
   "metadata": {
    "collapsed": true
   },
   "outputs": [],
   "source": [
    "def featureRank(label):\n",
    "    model = LogisticRegression()\n",
    "    selector = RFE(model,1, step=1)\n",
    "\n",
    "    X = df_modi_nlPca[var].values\n",
    "    X = preprocessing.scale(X)\n",
    "\n",
    "    y = df_satData.loc[:,label].values\n",
    "\n",
    "    selector.fit(X,y)\n",
    "\n",
    "    selectedIdx = selector.get_support(indices=True)\n",
    "\n",
    "    featureRanking = selector.ranking_\n",
    "\n",
    "    ranked_var = pd.DataFrame(featureRanking,var)\n",
    "    ranked_var = ranked_var.reset_index()\n",
    "    ranked_var.columns = (['var','rank'])\n",
    "    ranked_var = ranked_var.sort_values('rank')\n",
    "    ranked_var.reset_index(inplace=True)\n",
    "    del ranked_var['index']\n",
    "    \n",
    "    return ranked_var"
   ]
  },
  {
   "cell_type": "markdown",
   "metadata": {},
   "source": [
    "## selecting features to maximize f1_score\n",
    "#### Assumption: Set of first n features in feature ranking will produce maximum f1_score compared to any other set of n features."
   ]
  },
  {
   "cell_type": "code",
   "execution_count": null,
   "metadata": {
    "collapsed": true
   },
   "outputs": [],
   "source": [
    "def selectFeatures(ranked_var,label):\n",
    "    metric_list = list()\n",
    "    f1_list = list()\n",
    "    for i in range(len(ranked_var)):\n",
    "        var2 = ranked_var.loc[:i,'var'].values.tolist()\n",
    "\n",
    "        X = df_modi_nlPca.loc[:,var2].values\n",
    "        y = df_satData.loc[:,label].values\n",
    "\n",
    "        model = LogisticRegression(class_weight='balanced')\n",
    "        clf = make_pipeline(preprocessing.StandardScaler(),model)\n",
    "        predicted = cross_validation.cross_val_predict(clf,X,y, cv=5)\n",
    "\n",
    "        acc = metrics.accuracy_score(y,predicted)\n",
    "        recall = metrics.recall_score(y,predicted)\n",
    "        prec =  metrics.precision_score(y,predicted)\n",
    "\n",
    "        cm = metrics.confusion_matrix(y, predicted)\n",
    "        cm_score = float(cm[1][1])/(cm[1][1]+cm[1][0]+cm[0][1])\n",
    "\n",
    "        f1 = metrics.f1_score(y,predicted)\n",
    "\n",
    "        metric_list.append([f1,cm_score,acc,recall,prec])\n",
    "        f1_list.append(f1)\n",
    "\n",
    "    df_metric = pd.DataFrame(metric_list)\n",
    "    df_metric.columns =  (['f1','cm','acc','recall','prec'])\n",
    "\n",
    "    ## finding the global maximum index in f1_list\n",
    "    global_maxima = f1_list.index(max(f1_list))\n",
    "\n",
    "    ## plotting f1_score with features selected\n",
    "    #figure()\n",
    "    #plt.grid()\n",
    "    #plt.plot(f1_list)\n",
    "    #plt.title(label)\n",
    "    #plt.xlabel('number of variables')\n",
    "    #plt.ylabel('f1_score')\n",
    "    \n",
    "    ## findi  ng indexes of all local maximums\n",
    "\n",
    "    x = array(f1_list)\n",
    "    # for local maxima\n",
    "    local_maxima = argrelextrema(x, np.greater)[0].tolist()\n",
    "\n",
    "    f1_acceptable = f1_list[global_maxima]-0.01\n",
    "\n",
    "    i = 0\n",
    "    while f1_list[i] < f1_acceptable:\n",
    "        i += 1\n",
    "\n",
    "    var_final = ranked_var.loc[:i,'var']\n",
    "\n",
    "    X = df_modi_nlPca.loc[:,var_final].values\n",
    "    y = df_satData.loc[:,label].values\n",
    "\n",
    "    model = LogisticRegression()\n",
    "\n",
    "    fit = model.fit(X,y)\n",
    "\n",
    "    df_selecedVar = ranked_var.loc[:i].copy(deep=True)\n",
    "    df_selecedVar.insert(2,'coeff',fit.coef_[0])\n",
    "\n",
    "    return [df_selecedVar,f1_list[i],df_metric[i:i+1]]"
   ]
  },
  {
   "cell_type": "code",
   "execution_count": null,
   "metadata": {},
   "outputs": [],
   "source": [
    "select_feature = []\n",
    "score_metric = []\n",
    "for label in lis_labelsAll:\n",
    "    ranked_var = featureRank(label)\n",
    "    feature_and_score = selectFeatures(ranked_var,label)\n",
    "    select_feature.append(feature_and_score)\n",
    "    score_metric.append(feature_and_score[2].values[0])"
   ]
  },
  {
   "cell_type": "code",
   "execution_count": null,
   "metadata": {
    "collapsed": true
   },
   "outputs": [],
   "source": [
    "df_scoreMetric = pd.DataFrame(score_metric,columns = ['f1','cm','acc','recall','prec'], index=lis_labelsAll)"
   ]
  },
  {
   "cell_type": "code",
   "execution_count": null,
   "metadata": {
    "collapsed": true
   },
   "outputs": [],
   "source": [
    "#df_scoreMetric.to_csv('scoreMetric_pcaModi.csv')"
   ]
  },
  {
   "cell_type": "code",
   "execution_count": null,
   "metadata": {},
   "outputs": [],
   "source": [
    "df_scoreMetric.sort_values(by='f1',ascending=False)"
   ]
  },
  {
   "cell_type": "code",
   "execution_count": null,
   "metadata": {
    "scrolled": false
   },
   "outputs": [],
   "source": [
    "select_feature[0][0]"
   ]
  },
  {
   "cell_type": "code",
   "execution_count": null,
   "metadata": {
    "collapsed": true
   },
   "outputs": [],
   "source": []
  },
  {
   "cell_type": "code",
   "execution_count": null,
   "metadata": {
    "collapsed": true
   },
   "outputs": [],
   "source": [
    "## adding pvalues.... to the list of featues."
   ]
  },
  {
   "cell_type": "code",
   "execution_count": null,
   "metadata": {
    "collapsed": true
   },
   "outputs": [],
   "source": [
    "X = df_modi_nlPca.copy(deep=True)\n",
    "X.insert(1,'intercept',1.0)\n",
    "cols = X.columns.tolist()"
   ]
  },
  {
   "cell_type": "code",
   "execution_count": null,
   "metadata": {
    "collapsed": true
   },
   "outputs": [],
   "source": [
    "modi_cols = cols[1:cols.index('PCA_0')]\n",
    "pca_cols = ['intercept'] + cols[cols.index('PCA_0'):]"
   ]
  },
  {
   "cell_type": "code",
   "execution_count": null,
   "metadata": {
    "collapsed": true
   },
   "outputs": [],
   "source": [
    "def find_summary(cols,label):\n",
    "    X1 = X[cols].values\n",
    "    y = df_satData.loc[:,label].values\n",
    "\n",
    "    model = sm.Logit(y,X1)\n",
    "    result = model.fit()\n",
    "    summary = result.summary()\n",
    "\n",
    "    df_summary = pd.DataFrame(result.params,result.pvalues)\n",
    "    df_summary.reset_index(inplace=True)\n",
    "    df_summary.index = cols\n",
    "    df_summary.columns = ['pvals','param']\n",
    "    \n",
    "    return df_summary"
   ]
  },
  {
   "cell_type": "code",
   "execution_count": null,
   "metadata": {
    "collapsed": true
   },
   "outputs": [],
   "source": [
    "selectedFeatures_pval = []\n",
    "for i,label in enumerate(lis_labelsAll):\n",
    "    df_temp = select_feature[i][0].copy(deep=True)\n",
    "    df_temp.index = df_temp['var']\n",
    "    del df_temp['var']\n",
    "    df_summary = pd.concat([find_summary(modi_cols,label),find_summary(pca_cols,label)])\n",
    "    df_temp2 = pd.concat([df_temp,df_summary],axis=1,join_axes=[df_temp.index])\n",
    "    selectedFeatures_pval.append(df_temp2)"
   ]
  },
  {
   "cell_type": "code",
   "execution_count": null,
   "metadata": {
    "collapsed": true
   },
   "outputs": [],
   "source": [
    "label = 'BF_1'\n",
    "selectedFeatures_pval[lis_labelsAll.index(label)]"
   ]
  },
  {
   "cell_type": "code",
   "execution_count": null,
   "metadata": {
    "collapsed": true
   },
   "outputs": [],
   "source": []
  },
  {
   "cell_type": "code",
   "execution_count": null,
   "metadata": {
    "collapsed": true
   },
   "outputs": [],
   "source": []
  }
 ],
 "metadata": {
  "anaconda-cloud": {},
  "kernelspec": {
   "display_name": "Python 2",
   "language": "python",
   "name": "python2"
  },
  "language_info": {
   "codemirror_mode": {
    "name": "ipython",
    "version": 2
   },
   "file_extension": ".py",
   "mimetype": "text/x-python",
   "name": "python",
   "nbconvert_exporter": "python",
   "pygments_lexer": "ipython2",
   "version": "2.7.14"
  }
 },
 "nbformat": 4,
 "nbformat_minor": 2
}
